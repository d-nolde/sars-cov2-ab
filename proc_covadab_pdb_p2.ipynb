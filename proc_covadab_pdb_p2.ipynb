{
 "cells": [
  {
   "cell_type": "code",
   "execution_count": 1,
   "id": "58a911cc-d4f6-46a2-956d-892a8b319395",
   "metadata": {},
   "outputs": [],
   "source": [
    "# Import general packages\n",
    "import sys\n",
    "import os\n",
    "import re\n",
    "import glob\n",
    "import json\n",
    "import gzip\n",
    "import itertools\n",
    "from tqdm.auto import tqdm\n",
    "import copy\n",
    "from pathlib import PurePath\n",
    "\n",
    "# Parallel processing\n",
    "from joblib import Parallel, delayed\n",
    "\n",
    "# import data and math packages\n",
    "import numpy as np\n",
    "import pandas as pd\n",
    "from pandarallel import pandarallel\n",
    " \n",
    "import networkx as nx\n",
    "import matplotlib.pyplot as plt\n",
    "\n",
    "from requests.adapters import HTTPAdapter\n",
    "from urllib3.util.retry import Retry\n",
    "\n",
    "from abnumber import Chain\n",
    "from abnumber.exceptions import ChainParseError, MultipleDomainsChainParseError\n",
    "\n",
    "# working with structures\n",
    "import prody as pr\n",
    "import pymol as pml\n",
    "\n",
    "import requests\n",
    "# Working with sequences\n",
    "import pyfastx\n",
    "import swalign\n",
    "# choose your own values here… 2 and -1 are common.\n",
    "match = 2#\n",
    "mismatch = -1\n",
    "scoring = swalign.NucleotideScoringMatrix(match, mismatch)\n",
    "sw = swalign.LocalAlignment(scoring)  # you can also choose gap penalties, etc...\n",
    "\n",
    "import torch\n",
    "from allennlp.commands.elmo import ElmoEmbedder\n",
    "from pathlib import Path\n",
    "\n",
    "model_dir = Path('/nfs/baron1/nolde/zhalevsky/uniref50_v2/')  # Seqvec data\n",
    "weights = model_dir / 'weights.hdf5'\n",
    "options = model_dir / 'options.json'\n",
    "seqvec  = ElmoEmbedder(options,weights,cuda_device=0) # cuda_device=-1 for CPU\n",
    "\n",
    "import Bio.PDB \n",
    "import Bio.PDB.ccealign\n",
    "from Bio.PDB.ccealign import run_cealign"
   ]
  },
  {
   "cell_type": "markdown",
   "id": "c1392c17-613a-4e7d-972b-fe88b80fa6f3",
   "metadata": {},
   "source": [
    "# Part 2"
   ]
  },
  {
   "cell_type": "code",
   "execution_count": 2,
   "id": "44c646cf-1a2c-4609-9b33-8518357d0a19",
   "metadata": {},
   "outputs": [],
   "source": [
    "# Read covadab with CDRs\n",
    "# Select only human Abs\n",
    "# Extract pdbids\n",
    "# Add pdbids from rcsb search:\n",
    "#      Scientific Name of the Source Organism is Severe acute respiratory syndrome coronavirus 2 AND\n",
    "#      Scientific Name of the Source Organism is Homo Sapiens AND\n",
    "#      Title has any of words (antibody, antibodies, Fab, Fabs)\n",
    "# Download pdb structures from the rcsb sever\n",
    "# For structures of human antibodies in the covadab database process structure file to \n",
    "# find Abs H and L chain and RBD chain\n",
    "# split pdb file to H+L+RBD chains and H+L chains only fitted to reference RBD structure\n",
    "# Process pdb files which are not in the covadb database\n",
    "# Fit Ab-RBD to ref complex and calculates decart coordinates of 3 points for Ab\n",
    "#          1. center of mass of RBD heavy atoms interacting with Ab\n",
    "#          2. center of mass of Ab heavy atoms interacting with RBD\n",
    "#          3. center of CA atoms of Av variable domain\n",
    "# Write unfiltered database\n",
    "# Drop Ab not interacting with RBD (residue 319-541) and write next database version\n",
    "# Calculate Seqvec embedded vectors for CDR[HL][1-3] and plot distance \n",
    "# between embedded vectors vs distance between epitopes map\n",
    "# Delete outliers based on plotted map and save the database\n",
    "# Drop duplicates on set of 6 RBD sequences (keep only las entry)\n",
    "# "
   ]
  },
  {
   "cell_type": "code",
   "execution_count": 3,
   "id": "add6e4b1-245c-4247-b3ee-51139e0632ca",
   "metadata": {},
   "outputs": [],
   "source": [
    "# I/O files locataion\n",
    "datadir = '/nfs/baron1/nolde/zhalevsky/covidmap_v16' # path to I/O directory\n",
    "dbfname = 'covadab_allcdr.json'                     # input file (output of part 1)\n",
    "newpdblist = 'list2.txt'                            # file with additional pdbids (see cell above)\n",
    "ref_rbd = 'ref.pdb'                                  # reference RBD structure from pdb 7LOP\n",
    "ref_fn = str(PurePath(datadir, ref_rbd))\n",
    "ref_ace = 'ace2.pdb'                                 # Ace2 structure of Ace2-RBD complex (6m0j) fitted to refrbd\n",
    "ace2_fn = str(PurePath(datadir, ref_ace))\n",
    "pdbrawdir = str(PurePath(datadir, 'pdb_raw'))         # Directory to download pdb files\n",
    "pdbcleandir = str(PurePath(datadir, 'pdb_clean'))     # Store only RBD and 2 Ab chains\n",
    "pdbabdir = str(PurePath(datadir, 'pdb_clean_ab_only')) #  Store only Abs chains\n",
    "rbdseqs = 'rbd_seqs.fasta'                            # Output all RBD sequences\n",
    "outfile1 = 'covidab_pdb_rbd_p1.json'                  # Output nonfiltered database with duplicates, non-rbd bindings etc\n",
    "outfile2 = 'covidab_pdb_rbd_p2.json'                  # Output filtered for complexes binds with RBD\n",
    "outfile3 = 'covidab_pdb_rbd_p3.json'                  # Output filtered for outliers based on Seqvec-Epitope distances map\n",
    "outfile4 = 'covidab_pdb_rbd_p4.json'                  # Output filtered for Ab with unique CDRHL[1-3] sequences"
   ]
  },
  {
   "cell_type": "code",
   "execution_count": 4,
   "id": "c1e37fe9-c2f5-4aa9-ba5b-2b1580931546",
   "metadata": {},
   "outputs": [],
   "source": [
    "covadab = pd.read_json(PurePath(datadir, dbfname))"
   ]
  },
  {
   "cell_type": "code",
   "execution_count": 5,
   "id": "a2516e95-e3d0-4533-9757-0bd2c97fbb84",
   "metadata": {},
   "outputs": [
    {
     "name": "stdout",
     "output_type": "stream",
     "text": [
      "516\n"
     ]
    }
   ],
   "source": [
    "# filter entries containing pdb structure\n",
    "covadab['Structures'] = covadab['Structures'].str.upper()\n",
    "covadab_pdb = covadab[covadab['Structures'].str.contains('WWW') == True].copy()\n",
    "print(len(covadab_pdb))"
   ]
  },
  {
   "cell_type": "code",
   "execution_count": 6,
   "id": "eaf0b2a3-20f6-4af7-8bd4-12b4f5efe4e6",
   "metadata": {},
   "outputs": [],
   "source": [
    "### IMPORTANT PART ###\n",
    "# SELECT ONLY HUMAN ABs vs RBD\n",
    "hrbds = covadab_pdb[\n",
    "    (covadab_pdb['Binds to'].str.contains('SARS-CoV2')) & \n",
    "    (covadab_pdb['Protein + Epitope'] == 'S; RBD') &\n",
    "    (covadab_pdb['Heavy V Gene'].str.contains('Human')) &\n",
    "    (covadab_pdb['Light V Gene'].str.contains('Human'))]"
   ]
  },
  {
   "cell_type": "code",
   "execution_count": 7,
   "id": "0e153fe3-393b-45de-8600-f1c244677108",
   "metadata": {},
   "outputs": [],
   "source": [
    "qid = re.compile('[1-9][0-9A-Za-z]{3}')\n",
    "pdbids = list()\n",
    "for index, row in hrbds.iterrows():\n",
    "    pdbs = row['Structures']\n",
    "    q = qid.findall(pdbs)\n",
    "    if q is None:\n",
    "        print(row)\n",
    "    else:\n",
    "        pdbids.extend(q)\n",
    "        \n",
    "pdbids = set(pdbids)"
   ]
  },
  {
   "cell_type": "code",
   "execution_count": 8,
   "id": "16ff2b75-dee1-466c-8ad0-8fa6fe24ff36",
   "metadata": {},
   "outputs": [
    {
     "name": "stdout",
     "output_type": "stream",
     "text": [
      "584\n"
     ]
    }
   ],
   "source": [
    "print(len(pdbids))"
   ]
  },
  {
   "cell_type": "code",
   "execution_count": 9,
   "id": "b033b1f1-394d-409c-82e4-a477b4dbca0c",
   "metadata": {},
   "outputs": [
    {
     "name": "stdout",
     "output_type": "stream",
     "text": [
      "773\n"
     ]
    }
   ],
   "source": [
    "# Additional pdbids\n",
    "with open(PurePath(datadir, newpdblist), 'r') as f1:\n",
    "    newids = set(f1.readline()[:-1].split(','))\n",
    "#pdbids = list(set(pdbids+list1))\n",
    "#print(len(pdbids))\n",
    "pdbids = pdbids.union(newids)\n",
    "print(len(pdbids))"
   ]
  },
  {
   "cell_type": "code",
   "execution_count": 10,
   "id": "1530e9af",
   "metadata": {},
   "outputs": [
    {
     "name": "stdout",
     "output_type": "stream",
     "text": [
      "Index(['Name', 'Ab or Nb', 'Binds to', 'Doesn't Bind to', 'Neutralising Vs',\n",
      "       'Not Neutralising Vs', 'Protein + Epitope', 'Origin', 'VHorVHH', 'VL',\n",
      "       'Heavy V Gene', 'Heavy J Gene', 'Light V Gene', 'Light J Gene', 'CDRH3',\n",
      "       'CDRL3', 'Structures', 'ABB Homology Model (if no structure)',\n",
      "       'Sources', 'Date Added', 'Last Updated', 'Update Description',\n",
      "       'Notes/Following Up?', 'Unnamed: 23', 'Unnamed: 24', 'CDRH1', 'CDRH2',\n",
      "       'CDRL1', 'CDRL2'],\n",
      "      dtype='object')\n"
     ]
    }
   ],
   "source": [
    "print(covadab_pdb.keys())"
   ]
  },
  {
   "cell_type": "code",
   "execution_count": 11,
   "id": "8fd2ddbe-b617-4fd2-8856-493c85dfa9cb",
   "metadata": {},
   "outputs": [],
   "source": [
    "\n",
    "# download pdb file if present otherwise mmcif \n",
    "def pdb_mmcif_download(pdbid, datadir):\n",
    "    # Create a session\n",
    "    session = requests.Session()\n",
    "\n",
    "# Define a retry strategy\n",
    "    retry_strategy = Retry(\n",
    "    total=5,  # Total number of retries\n",
    "    backoff_factor=1,  # Waits 1 second between retries, then 2s, 4s, 8s...\n",
    "    status_forcelist=[429, 500, 502, 503, 504],  # Status codes to retry on\n",
    "    allowed_methods=[\"HEAD\", \"GET\", \"OPTIONS\"]  # Methods to retry\n",
    "    )\n",
    "\n",
    "    # Mount the retry strategy to the session\n",
    "    adapter = HTTPAdapter(max_retries=retry_strategy)\n",
    "    session.mount(\"http://\", adapter)\n",
    "    session.mount(\"https://\", adapter)\n",
    "\n",
    "    urlpdb = f'https://files.rcsb.org/download/{pdbid}.pdb'\n",
    "    pdb = f'{datadir}/{pdbid}.pdb'\n",
    "    urlcif = f'https://files.rcsb.org/download/{pdbid}.cif'\n",
    "    cif = f'{datadir}/{pdbid}.cif'\n",
    "    \n",
    "    if session.get(urlpdb, stream=True).status_code == 200:\n",
    "        dsize = int(session.get(urlpdb, stream=True).headers['Content-length'])\n",
    "        if os.path.exists(pdb) and os.path.getsize(pdb) >= dsize:\n",
    "            return pdb # File already downloaded and has reliable size\n",
    "        else:\n",
    "            with open(pdb, 'wb') as file_handle:  # wb means Write Binary\n",
    "                file_handle.write(session.get(urlpdb, stream=True).content)\n",
    "            return pdb\n",
    "    elif session.get(urlcif, stream=True).status_code == 200:\n",
    "        dsize = int(session.get(urlcif, stream=True).headers['Content-length'])\n",
    "        if os.path.exists(cif) and os.path.getsize(cif) >= dsize:\n",
    "            return cif # File already downloaded and has reliable size\n",
    "        else:\n",
    "            with open(cif, 'wb') as file_handle:  # wb means Write Binary\n",
    "                file_handle.write(session.get(urlcif, stream=True).content)\n",
    "            return cif\n",
    "    else:\n",
    "        return None\n",
    "        "
   ]
  },
  {
   "cell_type": "code",
   "execution_count": 12,
   "id": "44c54de3-029d-4158-9783-c253fb4d81aa",
   "metadata": {},
   "outputs": [
    {
     "data": {
      "application/vnd.jupyter.widget-view+json": {
       "model_id": "e550ed70cc074dd48ac739727e9d5929",
       "version_major": 2,
       "version_minor": 0
      },
      "text/plain": [
       "  0%|          | 0/773 [00:00<?, ?it/s]"
      ]
     },
     "metadata": {},
     "output_type": "display_data"
    }
   ],
   "source": [
    "fnames = Parallel(n_jobs=12)(delayed(pdb_mmcif_download)(pdbid, pdbrawdir) for pdbid in tqdm(list(pdbids)))"
   ]
  },
  {
   "cell_type": "code",
   "execution_count": 13,
   "id": "88918c47-51d3-4ed8-9a42-de5f1f5f6935",
   "metadata": {},
   "outputs": [
    {
     "name": "stdout",
     "output_type": "stream",
     "text": [
      "773\n"
     ]
    }
   ],
   "source": [
    "fnames = [x for x in fnames if x is not None]\n",
    "print(len(fnames))"
   ]
  },
  {
   "cell_type": "code",
   "execution_count": 14,
   "id": "8668ec1b-85cc-4a5c-a7cd-e0bffc81b33a",
   "metadata": {},
   "outputs": [],
   "source": [
    "def molnames_from_pdbheader(fname):\n",
    "    pnames = []\n",
    "    try:\n",
    "        cifflag = fname.endswith('.cif')\n",
    "        if cifflag:\n",
    "            header = pr.parseMMCIF(fname, model=0, header=True)\n",
    "        else:\n",
    "            header = pr.parsePDB(fname, model=0, header=True)\n",
    " \n",
    "        for p in header['polymers']:\n",
    "            pnames.append(p.name)\n",
    "        return pnames\n",
    "    \n",
    "    except (ValueError, KeyError) as e:\n",
    "        print(f'Bad file: {fname} {str(e)}')\n",
    "        return None"
   ]
  },
  {
   "cell_type": "code",
   "execution_count": 15,
   "id": "9e0536ab-e093-40fb-b175-8ec416c1bdd6",
   "metadata": {},
   "outputs": [
    {
     "data": {
      "application/vnd.jupyter.widget-view+json": {
       "model_id": "8f6801b9a3184b738a95e3f70a8eb9eb",
       "version_major": 2,
       "version_minor": 0
      },
      "text/plain": [
       "  0%|          | 0/773 [00:00<?, ?it/s]"
      ]
     },
     "metadata": {},
     "output_type": "display_data"
    }
   ],
   "source": [
    "pr.confProDy(verbosity='critical')\n",
    "allpnames = Parallel(n_jobs=24)(delayed(molnames_from_pdbheader)(fname) for fname in tqdm(fnames))"
   ]
  },
  {
   "cell_type": "code",
   "execution_count": 16,
   "id": "e4766091-1652-4e6e-95b7-b62ef5738948",
   "metadata": {},
   "outputs": [],
   "source": [
    "# Chain classification based on chain decription in the structure pdb file ()\n",
    "\n",
    "pnames = set([x for xs in allpnames if xs is not None for x in xs])\n",
    "pnamesd = {\n",
    "    'RBD': [],\n",
    "    'H': [],\n",
    "    'L': [],\n",
    "    'Nano': [],\n",
    "    'Fusion': [],\n",
    "    'Darpin': [],\n",
    "    'SC': [],\n",
    "    'HorL': [],\n",
    "    'OTHER': []}\n",
    "\n",
    "for _pname in pnames:\n",
    "    pname = _pname.upper()\n",
    "    if re.search('(SINGLE CHAIN)', pname):\n",
    "        pnamesd['SC'].append(pname)\n",
    "    elif re.search('(H.AVY|[Hh]eavy)', pname):\n",
    "        pnamesd['H'].append(pname)\n",
    "    elif re.search('(LIG[HN]T|[Ll]ig[hn]t)', pname):\n",
    "        pnamesd['L'].append(pname)\n",
    "    elif re.search('(NANOBODY|Nanobody|NAN|VHH)', pname):\n",
    "        pnamesd['Nano'].append(pname)\n",
    "    elif re.search('(FAB H|H CHAIN|CHAIN H|VH|H$|IGH@ PROTEIN|1249A8-HC)', pname):\n",
    "        pnamesd['H'].append(pname)\n",
    "    elif re.search('(FAB L|KAPPA|LAMBDA|L CHAIN|L CHIAN|CHAIN L|VL|L$|IGK@ PROTEIN|1249A8-LC)', pname):\n",
    "        pnamesd['L'].append(pname)\n",
    "    elif re.search('(RBD|RECEPTOR BINDING DOMAIN|S1|SPIKE|MERS S|S PROTEIN|SURFACE GLYCOPROTEIN|Spike glycoprotein)', pname):\n",
    "        pnamesd['RBD'].append(pname)\n",
    "    elif re.search('(FUSION)', pname):\n",
    "        pnamesd['Fusion'].append(pname)\n",
    "    elif re.search('(DARPIN|SR22)', pname):\n",
    "        pnamesd['Darpin'].append(pname)\n",
    "    elif re.search('(SCFV|GW01|16L9|AB08|ANTIBODY|BN03|N3113|NB70|N3130)', pname):\n",
    "        pnamesd['SC'].append(pname)\n",
    "    elif re.search('(F26G19|FAB)', pname):\n",
    "        pnamesd['HorL'].append(pname)\n",
    "    elif re.search('(Antibody Cr3022)', pname):\n",
    "        pnamesd['H'].append(pname)\n",
    "    else:\n",
    "        pnamesd['OTHER'].append(pname)"
   ]
  },
  {
   "cell_type": "code",
   "execution_count": 17,
   "id": "3121568d-b789-4214-978d-4088f3eb0b23",
   "metadata": {},
   "outputs": [],
   "source": [
    "# Process pdb structure file\n",
    "# Make chain classification\n",
    "# Finding triplets of RBD+H+L chains interacting with each other\n",
    "# For each Ab selecting tiplet with maximimum number of contacts\n",
    "# fit Ab+RBD to reference RBD struture and write pdb files with\n",
    "# Ab+RBD and Ab only structure\n",
    "\n",
    "def procpdb(fname, ref_fn, hrbds):\n",
    "    gchids = {}\n",
    "    regchids = {}\n",
    "\n",
    "    cifflag = fname.endswith('.cif')\n",
    "    try:\n",
    "        if cifflag:\n",
    "            pdb_, cifheader = pr.parseMMCIF(fname, header=True)\n",
    "            header = cifheader['polymers']\n",
    "            pdbname = fname.split('/')[-1].replace('cif', 'pdb')\n",
    "        else:\n",
    "            pdb_, pdbheader = pr.parsePDB(fname, header=True)\n",
    "            header = pdbheader['polymers']\n",
    "            pdbname = fname.split('/')[-1].replace('cif', 'pdb')\n",
    "        pdb = pdb_.select('protein')\n",
    "            \n",
    "    except (ValueError, KeyError) as e:\n",
    "        return False, f'Bad file: {fname}'\n",
    "        \n",
    "    pdbid = pdb.getTitle()\n",
    "    if len(header) == 0:\n",
    "        return False, f'Bad pdb {pdbid}'\n",
    "\n",
    "    if hrbds[hrbds['Structures'].str.contains(pdbid)].empty:\n",
    "        return False, f'pdb {pdbid} not in hrbds'\n",
    "\n",
    "        \n",
    "    # To do check for:\n",
    "    #  1. presence in hrbds  dataframe\n",
    "    #  2. presence of RBD chain, \n",
    "    #  3. presence H or SC or HorL\n",
    "    #  4. presence L or SC or HorL\n",
    "     \n",
    "    chidsd = {\n",
    "        'RBD': [],\n",
    "        'L': [],\n",
    "        'H': [],\n",
    "        'SC': [],\n",
    "        'HorL': []\n",
    "    }\n",
    "    for p in header:\n",
    "        for k in chidsd.keys():\n",
    "            if p.name in pnamesd[k]:\n",
    "                chidsd[k].append(p.chid)\n",
    "                gchids[(pdbid, p.chid)] = k\n",
    "                break\n",
    "\n",
    "    if (len(chidsd['RBD']) == 0) or \\\n",
    "        (len(chidsd['H']) + len(chidsd['HorL']) + len(chidsd['SC']) == 0) or \\\n",
    "        (len(chidsd['L']) + len(chidsd['HorL']) + len(chidsd['SC']) == 0) or \\\n",
    "        (len(chidsd['H']) + len(chidsd['L']) + len(chidsd['HorL']) + 2*len(chidsd['SC'])) < 2:\n",
    "        return False, f'pdb {pdbid} does not contain RBD + H + L chains'\n",
    "\n",
    "\n",
    "    for c in chidsd['HorL']:\n",
    "        # print(f'pdb {pdbid} chain {c} H or L?')\n",
    "        cv = hrbds[hrbds['Structures'].str.contains(pdbid)]\n",
    "        for index, row in cv.iterrows():\n",
    "            # print(row[\"CDRH3\"])\n",
    "            # print(row[\"CDRL3\"])\n",
    "            if pdb.select(f'chid {c} and sequence {row[\"CDRL3\"]}') is not None:\n",
    "                chidsd['L'].append(c)\n",
    "                gchids[(pdbid, c)] = 'L'\n",
    "                # print('Chain L')\n",
    "                break\n",
    "            elif pdb.select(f'chid {c} and sequence {row[\"CDRH3\"]}') is not None:\n",
    "                chidsd['H'].append(c)\n",
    "                gchids[(pdbid, c)] = 'H'\n",
    "                # print('Chain H')\n",
    "                break\n",
    "        else:\n",
    "            pass\n",
    "           # print(f'Error pdb {pdbid} chain {c} neither H nor L?')\n",
    "                \n",
    "    for c in chidsd['SC']:          \n",
    "        # print(f'pdb {pdbid} chain {c} Single Chain')\n",
    "        cv = hrbds[hrbds['Structures'].str.contains(pdbid)]\n",
    "        for index, row in cv.iterrows():\n",
    "            Lflag = False\n",
    "            Hflag = False\n",
    "            # print(row[\"CDRH3\"])\n",
    "            # print(row[\"CDRL3\"])\n",
    "            if pdb.select(f'chid {c} and sequence {row[\"CDRL3\"]}') is not None:\n",
    "                chidsd['L'].append(c + '_L')\n",
    "                gchids[(pdbid, c + '_L')] = 'L'\n",
    "                Lflag = True\n",
    "             #   print('Chain L')\n",
    "\n",
    "            if pdb.select(f'chid {c} and sequence {row[\"CDRH3\"]}') is not None:\n",
    "                chidsd['H'].append(c + '_H')\n",
    "                gchids[(pdbid, c + '_H')] = 'H'\n",
    "                Hflag = True\n",
    "             #   print('Chain H'f)\n",
    "            if Lflag and Hflag:\n",
    "              #  print(f'pdb {pdbid} chain {c} OK')\n",
    "                break;\n",
    "\n",
    "        else:\n",
    "            pass\n",
    "            # print(f'Error pdb {pdbid} chain {c} CDRH3 or CDRL3 not found')\n",
    "\n",
    "    dcut = 5.0\n",
    "    dcutHL = 3.5\n",
    "    G = nx.Graph()\n",
    "    for r in chidsd['RBD']:\n",
    "        for c in chidsd['L']:\n",
    "            c0 = c[:-2] if len(c)>2 else c\n",
    "            cv = hrbds[hrbds['Structures'].str.contains(pdbid)]\n",
    "            for index, row in cv.iterrows():\n",
    "                cdr3 = pdb.select(f'chid {c0} and sequence {row[\"CDRL3\"]}')\n",
    "                if cdr3 is not None:\n",
    "                    last = cdr3.getResnums()[-1] + 12\n",
    "                    first = max(1, cdr3.getResnums()[0] - 95)\n",
    "                    regchids[c] = (first, last)\n",
    "                    s = pdb.select(f'exwithin {dcut} of chid {r} and chid {c0}' + \n",
    "                                   f' and resnum {first} to {last}')\n",
    "                    if s is not None:\n",
    "                        # print(f'RBD-L {r}-{c} {len(s)}')\n",
    "                        G.add_edge(r, c, weight=len(s), ind=index)\n",
    "\n",
    "        for c in chidsd['H']:\n",
    "            c0 = c[:-2] if len(c)>2 else c\n",
    "            cv = hrbds[hrbds['Structures'].str.contains(pdbid)]\n",
    "            for index, row in cv.iterrows():\n",
    "                cdr3 = pdb.select(f'chid {c0} and sequence {row[\"CDRH3\"]}')\n",
    "                if cdr3 is not None:\n",
    "                    first = max(1, cdr3.getResnums()[0] - 98)\n",
    "                    last = cdr3.getResnums()[-1] + 13\n",
    "                    regchids[c] = (first, last)\n",
    "                    s = pdb.select(f'(within {dcut} of chid {r}) and chid {c0}' + \n",
    "                                   f' and resnum {first} to {last}')\n",
    "                    if s is not None:\n",
    "                        # print(f'RBD-H {r}-{c} {len(s)}')\n",
    "                        G.add_edge(r, c, weight=len(s), ind=index)\n",
    "\n",
    "    for r in chidsd['L']:\n",
    "        r0 = r[:-2] if len(r)>2 else r\n",
    "        for c in chidsd['H']:\n",
    "            c0 = c[:-2] if len(c)>2 else c\n",
    "            if c0 == r0:\n",
    "                # print(f'L-H c0==r0 {r}-{c} {c0}')\n",
    "                G.add_edge(r, c, weight=100)\n",
    "            else:\n",
    "                s = pdb.select(f'(exwithin {dcutHL} of chid {r0}) and chid {c0}')\n",
    "                if s is not None:\n",
    "                   # print(f'L-H {r}-{c} {len(s)} {s[0]}')\n",
    "                    G.add_edge(r, c, weight=len(s))\n",
    "\n",
    "    clqs = list(nx.find_cliques(G))\n",
    "    chlist = []\n",
    "    for i, cl in enumerate(clqs):\n",
    "        lcl = len(cl)\n",
    "        if lcl > 2:\n",
    "            if lcl > 3:\n",
    "                pass\n",
    "                # print(f'Something wrong with {fname}', file=f)\n",
    "            elif lcl == 3:\n",
    "                for chid_ in cl:\n",
    "                    if chid_ in chidsd['H']:\n",
    "                        h = chid_\n",
    "                    elif chid_ in chidsd['L']:\n",
    "                        l = chid_\n",
    "                    elif chid_ in chidsd['RBD']:\n",
    "                        r = chid_\n",
    "                    else:\n",
    "                        pass\n",
    "                        # print(f'Something broken {fname}', file=f)\n",
    "                chlist.append([h, l, r, G[r][h]['weight'], G[r][l]['weight'],  G[l][h]['weight'],\\\n",
    "                             G[r][h]['ind'], G[r][l]['ind']])\n",
    "            # print(chlist)\n",
    "    if len(chlist):\n",
    "        result = []\n",
    "        cv = hrbds[hrbds['Structures'].str.contains(pdbid)]\n",
    "        for index, row in cv.iterrows():\n",
    "            curlist = [ch for ch in chlist if ch[-2] == index and ch[-1] == index]\n",
    "            if len(curlist):\n",
    "                slist = sorted(curlist, key=lambda x: (-(x[3]+x[4]+x[5]), -x[3], -x[4], x[2]))\n",
    "                # print(slist)\n",
    "                h , l, r = slist[0][:3] \n",
    "                # print (f'include {pdbid}: {h} {l} {r}')\n",
    "                if len(h) == 1 and len(l) == 1:\n",
    "                    # chs = f'{h} {l} {r}'\n",
    "                    chs_ = f'{h}_{l}_{r}'\n",
    "                    name1 = f'{pdbid}_{chs_}.pdb'\n",
    "                    name2 = f'{pdbid}_{h}_{l}.pdb'\n",
    "                elif h[0] == l[0]:\n",
    "                    # chs = f'{h[0]} {r}'\n",
    "                    chs_ = f'{h[0]}_{l[0]}_{r}'\n",
    "                    name1 = f'{pdbid}_{chs_}.pdb'\n",
    "                    name2 = f'{pdbid}_{h[0]}.pdb'\n",
    "                else:\n",
    "                    continue\n",
    "                s = pdb.select(f'chid {r} or ' +\n",
    "                        f'(chid {h[0]} and resnum {regchids[h][0]} to {regchids[h][1]}) or ' + \n",
    "                        f'(chid {l[0]} and resnum {regchids[l][0]} to {regchids[l][1]})')\n",
    "                pr.writePDB(str(PurePath('/tmp/', pdbname)), s)\n",
    "                pml.cmd.reinitialize()\n",
    "                pml.cmd.load(ref_fn)\n",
    "                pml.cmd.load(PurePath('/tmp/', pdbname)) \n",
    "                pml.cmd.alignto('ref')\n",
    "                pml.cmd.remove('ref')\n",
    "                pml.cmd.save(str(PurePath(pdbcleandir, name1)))\n",
    "                pml.cmd.save(str(PurePath(pdbabdir, name2)), f'not c. {r}')\n",
    "                result.append(name2)\n",
    "        return True, gchids\n",
    "    else:\n",
    "        return False, f'{pdbid} not included'\n",
    "        "
   ]
  },
  {
   "cell_type": "code",
   "execution_count": 18,
   "id": "579dc2fc-3e27-48e3-982e-ac7ea09c548f",
   "metadata": {},
   "outputs": [
    {
     "data": {
      "application/vnd.jupyter.widget-view+json": {
       "model_id": "aa91826a520e4c1f9e5231a7e55bfcd7",
       "version_major": 2,
       "version_minor": 0
      },
      "text/plain": [
       "  0%|          | 0/773 [00:00<?, ?it/s]"
      ]
     },
     "metadata": {},
     "output_type": "display_data"
    },
    {
     "name": "stdout",
     "output_type": "stream",
     "text": [
      "773\n"
     ]
    }
   ],
   "source": [
    "pr.confProDy(verbosity='critical')\n",
    "\n",
    "result = Parallel(n_jobs=24)(delayed(procpdb)(fname, ref_fn, hrbds) for fname in tqdm(fnames))\n",
    "print(len(result))"
   ]
  },
  {
   "cell_type": "code",
   "execution_count": 19,
   "id": "b2cbcdbb-c948-4a7c-8c14-501be2f93936",
   "metadata": {},
   "outputs": [],
   "source": [
    "# Process pdb files which are not in the covadb database"
   ]
  },
  {
   "cell_type": "code",
   "execution_count": 20,
   "id": "b0e643d8-686f-4916-9602-160c2ed59f11",
   "metadata": {},
   "outputs": [],
   "source": [
    "# Extract AB name from pdb header\n",
    "\n",
    "def abname_frommolname(name1):\n",
    "    name = name1.upper().replace('CHIAN', 'CHAIN').replace('ANITBODY', 'ANTIBODY').replace('LIGNT', 'LIGHT')\n",
    "\n",
    "    word = name.split()\n",
    "    if len(word) == 1:\n",
    "        outname = name\n",
    "    elif len(word) == 2 and word[0] in ('FAB', 'ANTIBODY', 'IG', 'IGL'):\n",
    "        outname = word[1]\n",
    "    elif len(word) == 2:\n",
    "        outname = word[0]\n",
    "    elif name.startswith('MONOCLONAL ANTIBODY'):\n",
    "        outname = word[2]\n",
    "    elif word[-2].startswith('ANTIBODY'):\n",
    "        outname = word[-1]\n",
    "    elif 'CHAIN OF' in name:\n",
    "        ind = word.index('CHAIN')\n",
    "        if word[ind+2] in ('FAB', 'ANTIBODY'):\n",
    "            if ind+3<len(word):\n",
    "                outname = word[ind+3]\n",
    "            else:\n",
    "                outname = word[ind+2]\n",
    "        else:\n",
    "            outname = word[ind+2]\n",
    "    elif 'CHAIN FROM' in name:\n",
    "        ind = word.index('CHAIN')\n",
    "        if word[ind+2] in ('FAB', 'ANTIBODY'):\n",
    "            if ind+3<len(word):\n",
    "                outname = word[ind+3]\n",
    "            else:\n",
    "                outname = word[ind+2]\n",
    "        else:\n",
    "            outname = word[ind+2]\n",
    "    elif (word[2] == 'CHAIN') & (word[0] != 'THE'):\n",
    "        outname = word[0]\n",
    "    elif 'FAB OF ANTIBODY' in name:\n",
    "        ind = word.index('FAB')\n",
    "        outname = word[ind+3]\n",
    "    elif 'FAB OF' in name:\n",
    "        ind = word.index('FAB')\n",
    "        outname = word[ind+2]\n",
    "    elif word[1].startswith('ANTIBODY'):\n",
    "        outname = word[0]\n",
    "    elif 'FAB' in word[1:]:\n",
    "        ind = word.index('FAB')\n",
    "        if ind>=2 and word[1] in ('HEAVY', 'LIGHT'):\n",
    "            outname = word[ind-2]\n",
    "        else: \n",
    "            outname = word[ind-1]\n",
    "    elif 'FAB,' in word[1:]:\n",
    "        ind = word.index('FAB,')\n",
    "        outname = word[ind-1]\n",
    "    elif word[0] in ('FAB', 'ANTIBODY', 'FV', 'MAB') and word[3] == 'CHAIN':\n",
    "        outname = word[1]\n",
    "    elif word[1] in ('FAB', 'ANTIBODY', 'FV') and word[3] == 'CHAIN':\n",
    "        outname = word[0]\n",
    "    elif word[1] in ('FAB', 'ANTIBODY', 'FV') and word[4] == 'CHAIN':\n",
    "        outname = word[0]\n",
    "    elif word[1] in ('FAB', 'ANTIBODY', 'FV', 'FRAGMENT'):\n",
    "        outname = word[0]\n",
    "    elif word[-1] == 'CHAIN':\n",
    "        outname = word[-3]\n",
    "    else:\n",
    "        outname = name\n",
    "    \n",
    "   \n",
    "    if outname.startswith('RBD-'):\n",
    "        outname = outname[4:]\n",
    "    if outname == 'CLONE':\n",
    "        ind = word.index('CLONE')\n",
    "        outname = '-'.join(word[ind:ind+2])\n",
    "    if outname.endswith(','):\n",
    "        outname = outname[:-1]\n",
    "    if outname.endswith('-VH') or outname.endswith('-VL'):\n",
    "        outname = outname[:-3]\n",
    "    if outname.endswith('-H') or outname.endswith('-L'):\n",
    "        outname = outname[:-2]\n",
    "    # Manual for 7WHZ\n",
    "    if outname.startswith('C934_LIGHT'):\n",
    "        outname = 'XMA01'\n",
    "    elif outname.startswith('C4029_LIGHT'):\n",
    "        outname = 'XMA04'\n",
    "    elif outname.startswith('C1437_LIGHT'):\n",
    "        outname = 'XMA09'\n",
    "    elif outname.startswith('ENHANC'):\n",
    "        outname = '8D2'\n",
    "    return outname\n",
    "    \n",
    "        \n",
    "def abname_fromheader(header, chidsd):\n",
    "    out = set()\n",
    "    outh = set()\n",
    "    outl = set()\n",
    "    for ch in chidsd['SC'] + chidsd['HorL']:\n",
    "        out.add(abname_frommolname(next(pol.name for pol in header if pol.chid==ch)))\n",
    "                \n",
    "    for ch in chidsd['H']:\n",
    "        outh.add(abname_frommolname(next(pol.name for pol in header if pol.chid==ch)))\n",
    "    \n",
    "    for ch in chidsd['L']:\n",
    "        outl.add(abname_frommolname(next(pol.name for pol in header if pol.chid==ch)))\n",
    "                 \n",
    "    if outh != outl:\n",
    "        print('Error', outh, outl)\n",
    "        print(header, chidsd)\n",
    "        out.update(outh)\n",
    "    else:\n",
    "        out.update(outh)\n",
    "    if 'SCFV' in out or 'ANTIBODY' in out or 'SINGLE CHAIN VARIABLE FRAGMENT' in out or\\\n",
    "        'IGG' in out or 'MONOCLONAL' in out:\n",
    "        print(header, chidsd)\n",
    "    return(out)\n",
    "    "
   ]
  },
  {
   "cell_type": "code",
   "execution_count": 21,
   "id": "0336da97-2f73-4bb0-a8d3-eb00a4c01b0b",
   "metadata": {},
   "outputs": [],
   "source": [
    "# filter pdb file by ORGANISM_TAXID record \n",
    "# only Homo sapiens + Severe acute respiratory syndrome coronavirus 2 are selected\n",
    "def filter_sars_human(fname):\n",
    "    fl1 = False\n",
    "    fl2 = False\n",
    "    with open(fname, 'r') as f:\n",
    "        if fname.endswith('.pdb'):\n",
    "            for line in f:\n",
    "                if re.search('ORGANISM_TAXID: 9606', line):\n",
    "                    fl1 = True\n",
    "                if re.search('ORGANISM_TAXID: 2697049', line):\n",
    "                    fl2 = True\n",
    "                if fl1 and fl2:\n",
    "                    return True\n",
    "            return False   \n",
    "        else:\n",
    "            for line in f:\n",
    "                if re.search('Homo sapiens', line):\n",
    "                    fl1 = True\n",
    "                if re.search('Severe acute respiratory syndrome coronavirus 2', line):\n",
    "                    fl2 = True\n",
    "                if fl1 and fl2:\n",
    "                    return True\n",
    "            return False"
   ]
  },
  {
   "cell_type": "code",
   "execution_count": 22,
   "id": "5f183a17-5572-44d0-917e-95ba617ce98d",
   "metadata": {},
   "outputs": [
    {
     "name": "stdout",
     "output_type": "stream",
     "text": [
      "218\n"
     ]
    }
   ],
   "source": [
    "newfnames = []\n",
    "for fname, status in zip(fnames, result):      \n",
    "        if status[0]:\n",
    "            continue\n",
    "        if filter_sars_human(fname):\n",
    "            newfnames.append(fname)\n",
    "print(len(newfnames))"
   ]
  },
  {
   "cell_type": "code",
   "execution_count": 23,
   "id": "2e3c943a-2f28-484d-95b1-a1662bd1fb65",
   "metadata": {},
   "outputs": [],
   "source": [
    "def procpdbchains(fname):\n",
    "    allnames = []\n",
    "    pdblist = []\n",
    "    allseq = set()\n",
    "    newdb = []\n",
    "\n",
    "    try:\n",
    "        gchids = {}\n",
    "        regchids = {}\n",
    "        if fname.endswith('.pdb'):\n",
    "            pdb_, pdbheader = pr.parsePDB(fname, header=True)\n",
    "            header = pdbheader['polymers']\n",
    "            title = pdbheader['title']\n",
    "        else:\n",
    "            pdb_, cifheader = pr.parseMMCIF(fname, header=True)\n",
    "            header = cifheader['polymers']\n",
    "            title = cifheader['title']\n",
    "\n",
    "\n",
    "        pdb = pdb_.select('protein')\n",
    "        pdbid = pdb.getTitle()    \n",
    "        excl = ('THE MOUSE ANTIBODY', 'MERS', 'TERMINAL DOMAIN', 'NUCLEOCAPSID', 'NTD', 'PEPTIDE', 'ACE2', \\\n",
    "               'RABBIT', 'SARBECOVIRUS')\n",
    "        skip =False\n",
    "        for v in excl:\n",
    "            if v in title:\n",
    "                skip = True\n",
    "                break\n",
    "        else:\n",
    "            if 'NANOBOD' in title :\n",
    "                skip = True\n",
    "            if 'ANTIBOD' in title or 'FAB' in title:\n",
    "                skip = False\n",
    "        if skip:\n",
    "            return False, 'skip'\n",
    "        pdblist.append(fname)\n",
    "        chidsd = {\n",
    "        'RBD': [],\n",
    "        'L': [],\n",
    "        'H': [],\n",
    "        'SC': [],\n",
    "        'HorL': []\n",
    "        }\n",
    "        for p in header:\n",
    "            for k in chidsd.keys():\n",
    "                if p.name in pnamesd[k]:\n",
    "                    chidsd[k].append(p.chid)\n",
    "                    gchids[p.chid] = k\n",
    "                    break\n",
    "\n",
    "        if (len(chidsd['RBD']) == 0) or \\\n",
    "            (len(chidsd['H']) + len(chidsd['HorL']) + len(chidsd['SC']) == 0) or \\\n",
    "            (len(chidsd['L']) + len(chidsd['HorL']) + len(chidsd['SC']) == 0) or \\\n",
    "            (len(chidsd['H']) + len(chidsd['L']) + len(chidsd['HorL']) + 2*len(chidsd['SC'])) < 2:\n",
    "            #        print( f'pdb {pdbid} does not contain RBD + H + L chains')\n",
    "            # print(chidsd)\n",
    "            return False, 'RBD + H-chain + L-chain check'\n",
    "        else:\n",
    "            allnames.extend(list(abname_fromheader(header, chidsd)))\n",
    "            #print(abname_fromheader(header, chidsd))\n",
    "\n",
    "        for c in chidsd['HorL'] + chidsd['SC'] + chidsd['H'] + chidsd['L']:\n",
    "            seq = next(pol.sequence for pol in header if pol.chid==c)\n",
    "            allseq.add(seq)\n",
    "            newdb.append({'pdb': pdbid, 'seq': seq, 'chain': c, 'name': \\\n",
    "                          abname_frommolname(next(pol.name for pol in header if pol.chid==c))})\n",
    "\n",
    "        return True, {'newdb': newdb, 'allseq': allseq, 'pdblist': pdblist} \n",
    "    except KeyError:\n",
    "        return False, 'File KeyError'\n"
   ]
  },
  {
   "cell_type": "code",
   "execution_count": 24,
   "id": "795a5ff1-26c1-48da-8f39-bcc2191fea71",
   "metadata": {},
   "outputs": [
    {
     "data": {
      "application/vnd.jupyter.widget-view+json": {
       "model_id": "e637c7e3f3de406b88f1a4d617f606ef",
       "version_major": 2,
       "version_minor": 0
      },
      "text/plain": [
       "  0%|          | 0/218 [00:00<?, ?it/s]"
      ]
     },
     "metadata": {},
     "output_type": "display_data"
    },
    {
     "name": "stdout",
     "output_type": "stream",
     "text": [
      "218\n"
     ]
    }
   ],
   "source": [
    "pr.confProDy(verbosity='critical')\n",
    "result = Parallel(n_jobs=24)(delayed(procpdbchains)(fname) for fname in tqdm(newfnames))\n",
    "print(len(result))"
   ]
  },
  {
   "cell_type": "code",
   "execution_count": 25,
   "id": "9a40ac6a-4db7-4962-a6a0-690296a75818",
   "metadata": {},
   "outputs": [],
   "source": [
    "# CDRs from aminoacid sequence of chain\n",
    "def extr_cdr_from_aaseq(seq):\n",
    "    res = {}\n",
    "    for chain in Chain.multiple_domains(seq, scheme='imgt', allowed_species='human', assign_germline=False):\n",
    "    # chain = Chain(seq, scheme='imgt', allowed_species='human', assign_germline=False)\n",
    "        if chain.is_heavy_chain():\n",
    "            pref = 'CDRH'\n",
    "        elif chain.is_light_chain():\n",
    "            pref = 'CDRL'\n",
    "        else:\n",
    "            return None\n",
    "            \n",
    "        for num, cdr in enumerate([chain.cdr1_seq, chain.cdr2_seq, chain.cdr3_seq], start=1):\n",
    "            res[f'{pref}{num}'] = cdr\n",
    "    return res\n",
    "\n",
    "def extr_cdr_from_twoseq(H, L):\n",
    "    res1 = extr_cdr_from_aaseq(H)\n",
    "    res2 = extr_cdr_from_aaseq(L)\n",
    "    # print(res1, res2)\n",
    "    res1.update(res2)\n",
    "    return res1\n"
   ]
  },
  {
   "cell_type": "code",
   "execution_count": 26,
   "id": "3d834191-8eae-491c-a943-14b8d47092ed",
   "metadata": {},
   "outputs": [
    {
     "data": {
      "application/vnd.jupyter.widget-view+json": {
       "model_id": "367847e63c4a45e08cbb04abd491dab5",
       "version_major": 2,
       "version_minor": 0
      },
      "text/plain": [
       "  0%|          | 0/180 [00:00<?, ?it/s]"
      ]
     },
     "metadata": {},
     "output_type": "display_data"
    }
   ],
   "source": [
    "cdrs = {}\n",
    "allseq = set()\n",
    "newdb = []\n",
    "pdblist = []\n",
    "for x, y in result:\n",
    "    if x:\n",
    "        allseq.update(y['allseq'])\n",
    "        newdb.extend(y['newdb'])\n",
    "        pdblist.extend(y['pdblist'])\n",
    "for seq in tqdm(allseq):\n",
    "    cur = extr_cdr_from_aaseq(seq)\n",
    "    if len(cur) == 3 or len(cur) == 6:\n",
    "        cdrs[seq] = cur\n",
    "    else:\n",
    "        print(seq)\n",
    "        print(cur)"
   ]
  },
  {
   "cell_type": "code",
   "execution_count": 27,
   "id": "10a221df-4282-4775-92e8-da1ad5dc966f",
   "metadata": {},
   "outputs": [
    {
     "name": "stdout",
     "output_type": "stream",
     "text": [
      "467 180 180 365 11219 120\n"
     ]
    }
   ],
   "source": [
    "print(len(newdb), len(cdrs), len(allseq), len(hrbds), len(covadab), len(pdblist))"
   ]
  },
  {
   "cell_type": "code",
   "execution_count": 28,
   "id": "779e33e4-848b-47c7-83fd-cb4d62929df3",
   "metadata": {},
   "outputs": [],
   "source": [
    "# Some renaming\n",
    "covadab.loc[covadab['Name'] == 'P5-1H1', 'Name'] = 'P5S-1H1'"
   ]
  },
  {
   "cell_type": "code",
   "execution_count": 29,
   "id": "ce2d1ff6-cc64-4448-816b-c05482bfd45c",
   "metadata": {},
   "outputs": [],
   "source": [
    "def allcdrh(df, cdrs):\n",
    "    return (df['CDRH1'] == cdrs.get('CDRH1', ' ')) & (df['CDRH2'] == cdrs.get('CDRH2', ' ')) & \\\n",
    "           (df['CDRH3'] == cdrs.get('CDRH3', ' '))\n",
    "def allcdrl(df, cdrs):\n",
    "    return (df['CDRL1'] == cdrs.get('CDRL1', ' ')) & (df['CDRL2'] == cdrs.get('CDRL2', ' ')) & \\\n",
    "           (df['CDRL3'] == cdrs.get('CDRL3', ' '))"
   ]
  },
  {
   "cell_type": "code",
   "execution_count": 30,
   "id": "0672153e-8259-4f9d-9113-04b8c2750fad",
   "metadata": {
    "scrolled": true
   },
   "outputs": [
    {
     "data": {
      "application/vnd.jupyter.widget-view+json": {
       "model_id": "6e85336833c54d028d26085cc9c35277",
       "version_major": 2,
       "version_minor": 0
      },
      "text/plain": [
       "  0%|          | 0/467 [00:00<?, ?it/s]"
      ]
     },
     "metadata": {},
     "output_type": "display_data"
    },
    {
     "name": "stdout",
     "output_type": "stream",
     "text": [
      "80\n"
     ]
    }
   ],
   "source": [
    "# New database with the same columns as hrbds\n",
    "df = hrbds.iloc[:0,:].copy()\n",
    "\n",
    "def dbgprint(*args):\n",
    "    if Debug:\n",
    "        print(args)\n",
    "\n",
    "Debug = False\n",
    "for entry in tqdm(newdb):\n",
    "    dbgprint(entry['pdb'], entry['name'], cdrs[entry['seq']].get('CDRH3', ''), \\\n",
    "                      cdrs[entry['seq']].get('CDRL3', ''))\n",
    "    if entry['seq'] not in cdrs:\n",
    "        dbgprint('No cdrs in seq')\n",
    "        continue\n",
    "    if entry['name'] == 'K202.B': # Bi-specific antibody \n",
    "        dbgprint('K202.B')\n",
    "        continue\n",
    "    if entry['name'] in ('N3130V-FC', 'BN03'): # H-chain only\n",
    "        dbgprint('BN03')\n",
    "        continue\n",
    "    if entry['pdb'] == '7YUE': # Only RBD epitope\n",
    "        dbgprint('7YUE')\n",
    "        continue\n",
    "#    if ((df['VHorVHH'] == entry['seq']) | (df['VL'] == entry['seq'])).any():\n",
    "    if (allcdrh(df, cdrs[entry['seq']]) | allcdrl(df, cdrs[entry['seq']])).any():\n",
    "        dbgprint('in df')\n",
    "        ind = ((allcdrh(df, cdrs[entry['seq']]) | allcdrl(df, cdrs[entry['seq']]))) & \\\n",
    "              (df['Structures'].str.contains(entry['pdb']) == False)\n",
    "        if ind.any():\n",
    "            dbgprint('add structure entry')\n",
    "            dbgprint(df.loc[ind, 'Structures'], entry[\"pdb\"])\n",
    "            df.loc[ind, 'Structures'] += f', HTTPS://WWW.RCSB.ORG/STRUCTURE/{entry[\"pdb\"]}'\n",
    "        else:\n",
    "            dbgprint('structure entry exist')\n",
    "            # print(len(df[allcdrh(df, cdrs[entry['seq']])]), len(df[allcdrl(df, cdrs[entry['seq']])]))\n",
    "            dbgprint(df[allcdrh(df, cdrs[entry['seq']]) | allcdrl(df, cdrs[entry['seq']])]\\\n",
    "                  [['Name', 'CDRH3', 'CDRL3']])\n",
    "        continue\n",
    "    elif ((df['Name'] == entry['name']) & (df['Structures'].str.contains(entry['pdb']))).any():\n",
    "        ind = (df['Name'] == entry['name']) & (df['Structures'].str.contains(entry['pdb']))\n",
    "        dbgprint('2nd chain')\n",
    "        # print(df.loc[ind])\n",
    "        if 'CDRH3' in cdrs[entry['seq']] :\n",
    "            # print('path1')\n",
    "            df.loc[ind, 'VHorVHH'] = entry['seq']\n",
    "            df.loc[ind, 'CDRH1'] = cdrs[entry['seq']]['CDRH1']\n",
    "            df.loc[ind, 'CDRH2'] = cdrs[entry['seq']]['CDRH2']\n",
    "            df.loc[ind, 'CDRH3'] = cdrs[entry['seq']]['CDRH3']\n",
    "        elif 'CDRL3' in cdrs[entry['seq']]:\n",
    "            # print('path2')\n",
    "            df.loc[ind, 'VL'] = entry['seq']\n",
    "            df.loc[ind, 'CDRL1'] = cdrs[entry['seq']]['CDRL1']\n",
    "            df.loc[ind, 'CDRL2'] = cdrs[entry['seq']]['CDRL2']\n",
    "            df.loc[ind, 'CDRL3'] = cdrs[entry['seq']]['CDRL3']\n",
    "        else:\n",
    "            dbgprint('error no cdrs', entry['pdb'], entry['name'])\n",
    "            dbgprint(cdrs[entry['seq']])\n",
    "            dbgprint(entry['seq'])\n",
    "            continue\n",
    "    # elif seqcomp(hrbds['VHorVHH'], entry['seq']).any() or seqcomp(hrbds['VL'], entry['seq']).any():\n",
    "#     elif (hrbds['VHorVHH'].map(lambda x: seqcomp(x, entry['seq']))).any() or \\\n",
    "#          (hrbds['VL'].map(lambda x: seqcomp(x, entry['seq']))).any():\n",
    "    elif (allcdrh(hrbds, cdrs[entry['seq']]) | allcdrl(hrbds, cdrs[entry['seq']])).any():\n",
    "        dbgprint('in hrbds')\n",
    "        raw = hrbds[allcdrh(hrbds, cdrs[entry['seq']]) | allcdrl(hrbds, cdrs[entry['seq']])].copy()\n",
    "        raw['Name'] = entry['name']\n",
    "        raw['Structures'] = raw['Structures']+ f', HTTPS://WWW.RCSB.ORG/STRUCTURE/{entry[\"pdb\"]}'\n",
    "        df = pd.concat((df, raw), ignore_index=False)\n",
    "        \n",
    "#     elif (covadab['VHorVHH'].map(lambda x: seqcomp(x, entry['seq']))).any() or \\\n",
    "#          (covadab['VL'].map(lambda x: seqcomp(x, entry['seq']))).any():\n",
    "    elif allcdrh(covadab, cdrs[entry['seq']]).any() or allcdrl(covadab, cdrs[entry['seq']]).any():\n",
    "        dbgprint('in covadab')\n",
    "        ind = allcdrh(covadab, cdrs[entry['seq']]) | allcdrl(covadab, cdrs[entry['seq']])\n",
    "        raw = covadab[ind].copy()\n",
    "        if len(raw) != 1:\n",
    "            raw = covadab[ind & (covadab['Name'] == entry['name'])].copy()\n",
    "            if len(raw) != 1:\n",
    "                logger.debug(raw['Structures'], entry['name'], entry[\"pdb\"])\n",
    "                continue\n",
    "        # raw['Structures'] = raw['Structures'].fillna('')\n",
    "        raw['Structures'] = raw['Structures'].fillna('') + f', HTTPS://WWW.RCSB.ORG/STRUCTURE/{entry[\"pdb\"]}'\n",
    "        raw['Name'] = entry['name']\n",
    "        df = pd.concat((df, raw), ignore_index=False) \n",
    "       \n",
    "    else:\n",
    "        cur = cdrs[entry['seq']]\n",
    "#         if 'CDRH3' in cur.keys() and 'CDRL3' in cur.keys():\n",
    "#             print('H and L chain', entry['name'], entry['pdb'], cdrs[entry['seq']])\n",
    "#             print(entry['seq'])\n",
    "        if 'CDRH3' in cur.keys() or 'CDRL3' in cur.keys():\n",
    "            if (df['Name']==entry['name']).any():\n",
    "                dbgprint('old name')\n",
    "                if 'CDRH3' in cur.keys():\n",
    "                    df.loc[df['Name']==entry['name'], 'VHorVHH'] = entry['seq']\n",
    "                    for j in range(1,4):\n",
    "                        df.loc[df['Name']==entry['name'], f'CDRH{j}'] = cdrs[entry['seq']][f'CDRH{j}']\n",
    "                else:\n",
    "                    df.loc[df['Name']==entry['name'], 'VL'] = entry['seq']\n",
    "                    for j in range(1,4):\n",
    "                        df.loc[df['Name']==entry['name'], f'CDRL{j}'] = cdrs[entry['seq']][f'CDRL{j}']\n",
    "            else: ## newname\n",
    "                dbgprint('newname')\n",
    "                if 'CDRH3' in cur.keys() and 'CDRL3' in cur.keys():\n",
    "                    df = pd.concat((df, pd.DataFrame({'Name': entry['name'], 'VHorVHH': entry['seq'], \\\n",
    "                                                                             'VL': entry['seq'], \\\n",
    "                                   'CDRH1': cdrs[entry['seq']]['CDRH1'], \\\n",
    "                                   'CDRH2': cdrs[entry['seq']]['CDRH2'], \\\n",
    "                                   'CDRH3': cdrs[entry['seq']]['CDRH3'], \\\n",
    "                                   'CDRL1': cdrs[entry['seq']]['CDRL1'], \\\n",
    "                                   'CDRL2': cdrs[entry['seq']]['CDRL2'], \\\n",
    "                                   'CDRL3': cdrs[entry['seq']]['CDRL3'], \\\n",
    "                                   'Structures': f', HTTPS://WWW.RCSB.ORG/STRUCTURE/{entry[\"pdb\"]}'}, index=[0])), \\\n",
    "                                   ignore_index=True)\n",
    "                elif 'CDRH3' in cur.keys():\n",
    "                    df = pd.concat((df, pd.DataFrame({'Name': entry['name'], 'VHorVHH': entry['seq'], \\\n",
    "                                   'CDRH1': cdrs[entry['seq']]['CDRH1'], \\\n",
    "                                   'CDRH2': cdrs[entry['seq']]['CDRH2'], \\\n",
    "                                   'CDRH3': cdrs[entry['seq']]['CDRH3'], \\\n",
    "                                   'Structures': f', HTTPS://WWW.RCSB.ORG/STRUCTURE/{entry[\"pdb\"]}'}, index=[0])), \\\n",
    "                                   ignore_index=True)\n",
    "                else:\n",
    "                    df = pd.concat((df, pd.DataFrame({'Name': entry['name'], 'VL': entry['seq'], \\\n",
    "                                   'CDRL1': cdrs[entry['seq']]['CDRL1'], \\\n",
    "                                   'CDRL2': cdrs[entry['seq']]['CDRL2'], \\\n",
    "                                   'CDRL3': cdrs[entry['seq']]['CDRL3'], \\\n",
    "                                   'Structures': f', HTTPS://WWW.RCSB.ORG/STRUCTURE/{entry[\"pdb\"]}'}, index=[0])), \\\n",
    "                                   ignore_index=True)       \n",
    "        else:\n",
    "            dbgprint('Unknown:', entry['pdb'], entry['name'], entry['seq'])\n",
    "        \n",
    "print(len(df))"
   ]
  },
  {
   "cell_type": "code",
   "execution_count": 31,
   "id": "d4027725-166e-4c65-b039-b73b49c3e459",
   "metadata": {},
   "outputs": [
    {
     "name": "stdout",
     "output_type": "stream",
     "text": [
      "80 77\n"
     ]
    }
   ],
   "source": [
    "df1 = df[df['CDRH3'].notnull() & df['CDRL3'].notnull()]\n",
    "print(len(df), len(df1))"
   ]
  },
  {
   "cell_type": "code",
   "execution_count": 32,
   "id": "aa48a47a-d18d-4c69-a0ed-3321ea126626",
   "metadata": {},
   "outputs": [],
   "source": [
    "def procpdbnew(fname, df):\n",
    "    gchids = {}\n",
    "    regchids = {}\n",
    "\n",
    "    # print(fname)\n",
    "    cifflag = fname.endswith('.cif')\n",
    "    try:\n",
    "        if cifflag:\n",
    "            pdb_, cifheader = pr.parseMMCIF(fname, header=True)\n",
    "            header = cifheader['polymers']\n",
    "            pdbname = fname.split('/')[-1].replace('cif', 'pdb')\n",
    "        else:\n",
    "            pdb_, pdbheader = pr.parsePDB(fname, header=True)\n",
    "            header = pdbheader['polymers']\n",
    "            pdbname = fname.split('/')[-1].replace('cif', 'pdb')\n",
    "        pdb = pdb_.select('protein')\n",
    "    except ValueError:\n",
    "        return False, f'Bad file: {fname}'\n",
    "    # print(fname, header)\n",
    "    pdbid = pdb.getTitle()\n",
    "    if len(header) == 0:\n",
    "        return False, f'Bad pdb {pdbid} {fname}'\n",
    "\n",
    "    if df[df['Structures'].str.contains(pdbid)].empty:\n",
    "        return False, f'pdb {pdbid} not in df'\n",
    "\n",
    "    # To do check for:\n",
    "    #  Done 1. presence in df  dataframe\n",
    "    #  Done 2. presence of RBD chain, \n",
    "    #  Done 3. presence H or SC or HorL\n",
    "    #  Done 4. presence L or SC or HorL\n",
    "     \n",
    "    chidsd = {\n",
    "        'RBD': [],\n",
    "        'L': [],\n",
    "        'H': [],\n",
    "        'SC': [],\n",
    "        'HorL': []\n",
    "    }\n",
    "    for p in header:\n",
    "        for k in chidsd.keys():\n",
    "            if p.name in pnamesd[k]:\n",
    "                chidsd[k].append(p.chid)\n",
    "                gchids[(pdbid, p.chid)] = k\n",
    "                break\n",
    "\n",
    "    if (len(chidsd['RBD']) == 0) or \\\n",
    "        (len(chidsd['H']) + len(chidsd['HorL']) + len(chidsd['SC']) == 0) or \\\n",
    "        (len(chidsd['L']) + len(chidsd['HorL']) + len(chidsd['SC']) == 0) or \\\n",
    "        (len(chidsd['H']) + len(chidsd['L']) + len(chidsd['HorL']) + 2*len(chidsd['SC'])) < 2:\n",
    "        return False, f'pdb {pdbid} does not contain RBD + H + L chains'\n",
    "\n",
    "\n",
    "    for c in chidsd['HorL']:\n",
    "        # print(f'pdb {pdbid} chain {c} H or L?')\n",
    "        cv = df[df['Structures'].str.contains(pdbid)]\n",
    "        for index, row in cv.iterrows():\n",
    "            # print(row[\"CDRH3\"])\n",
    "            # print(row[\"CDRL3\"])\n",
    "            if pdb.select(f'chid {c} and sequence {row[\"CDRL3\"]}') is not None:\n",
    "                chidsd['L'].append(c)\n",
    "                gchids[(pdbid, c)] = 'L'\n",
    "                # print('Chain L')\n",
    "                break\n",
    "            elif pdb.select(f'chid {c} and sequence {row[\"CDRH3\"]}') is not None:\n",
    "                chidsd['H'].append(c)\n",
    "                gchids[(pdbid, c)] = 'H'\n",
    "                # print('Chain H')\n",
    "                break\n",
    "        else:\n",
    "            # print(f'Error pdb {pdbid} chain {c} neither H nor L?')\n",
    "            continue\n",
    "                \n",
    "    for c in chidsd['SC']:          \n",
    "        # print(f'pdb {pdbid} chain {c} Single Chain')\n",
    "        cv = df[df['Structures'].str.contains(pdbid)]\n",
    "        for index, row in cv.iterrows():\n",
    "            Lflag = False\n",
    "            Hflag = False\n",
    "            # print(row[\"CDRH3\"])\n",
    "            # print(row[\"CDRL3\"])\n",
    "            if pdb.select(f'chid {c} and sequence {row[\"CDRL3\"]}') is not None:\n",
    "                chidsd['L'].append(c + '_L')\n",
    "                gchids[(pdbid, c + '_L')] = 'L'\n",
    "                Lflag = True\n",
    "             #   print('Chain L')\n",
    "\n",
    "            if pdb.select(f'chid {c} and sequence {row[\"CDRH3\"]}') is not None:\n",
    "                chidsd['H'].append(c + '_H')\n",
    "                gchids[(pdbid, c + '_H')] = 'H'\n",
    "                Hflag = True\n",
    "             #   print('Chain H'f)\n",
    "            if Lflag and Hflag:\n",
    "              #  print(f'pdb {pdbid} chain {c} OK')\n",
    "                break;\n",
    "        else:\n",
    "            # print(f'Error pdb {pdbid} chain {c} CDRH3 or CDRL3 not found')\n",
    "            continue\n",
    "\n",
    "    dcut = 5.0\n",
    "    dcutHL = 3.5\n",
    "    G = nx.Graph()\n",
    "    for r in chidsd['RBD']:\n",
    "        for c in chidsd['L']:\n",
    "            c0 = c[:-2] if len(c)>2 else c\n",
    "            cv = df[df['Structures'].str.contains(pdbid)]\n",
    "            for index, row in cv.iterrows():\n",
    "                cdr3 = pdb.select(f'chid {c0} and sequence {row[\"CDRL3\"]}')\n",
    "                if cdr3 is not None:\n",
    "                    last = cdr3.getResnums()[-1] + 12\n",
    "                    first = max(1, cdr3.getResnums()[0] - 95)\n",
    "                    regchids[c] = (first, last)\n",
    "                    s = pdb.select(f'exwithin {dcut} of chid {r} and chid {c0}' + \n",
    "                                   f' and resnum {first} to {last}')\n",
    "                    if s is not None:\n",
    "                        # print(f'RBD-L {r}-{c} {len(s)}')\n",
    "                        G.add_edge(r, c, weight=len(s), ind=index)\n",
    "\n",
    "        for c in chidsd['H']:\n",
    "            c0 = c[:-2] if len(c)>2 else c\n",
    "            cv = df[df['Structures'].str.contains(pdbid)]\n",
    "            for index, row in cv.iterrows():\n",
    "                cdr3 = pdb.select(f'chid {c0} and sequence {row[\"CDRH3\"]}')\n",
    "                if cdr3 is not None:\n",
    "                    first = max(1, cdr3.getResnums()[0] - 98)\n",
    "                    last = cdr3.getResnums()[-1] + 13\n",
    "                    regchids[c] = (first, last)\n",
    "                    s = pdb.select(f'(within {dcut} of chid {r}) and chid {c0}' + \n",
    "                                   f' and resnum {first} to {last}')\n",
    "                    if s is not None:\n",
    "                        # print(f'RBD-H {r}-{c} {len(s)}')\n",
    "                        G.add_edge(r, c, weight=len(s), ind=index)\n",
    "\n",
    "    for r in chidsd['L']:\n",
    "        r0 = r[:-2] if len(r)>2 else r\n",
    "        for c in chidsd['H']:\n",
    "            c0 = c[:-2] if len(c)>2 else c\n",
    "            if c0 == r0:\n",
    "                G.add_edge(r, c, weight=100)\n",
    "            else:\n",
    "                s = pdb.select(f'(exwithin {dcutHL} of chid {r0}) and chid {c0}')\n",
    "                if s is not None:\n",
    "                    # print(f'L-H {r}-{c} {len(s)}')\n",
    "                    G.add_edge(r, c, weight=len(s))\n",
    "\n",
    "    clqs = list(nx.find_cliques(G))\n",
    "    chlist = []\n",
    "    for i, cl in enumerate(clqs):\n",
    "        lcl = len(cl)\n",
    "        if lcl > 2:\n",
    "            if lcl > 3:\n",
    "                pass\n",
    "                # print(f'Something wrong with {fname}', file=f)\n",
    "            elif lcl == 3:\n",
    "                for chid_ in cl:\n",
    "                    if chid_ in chidsd['H']:\n",
    "                        h = chid_\n",
    "                    elif chid_ in chidsd['L']:\n",
    "                        l = chid_\n",
    "                    elif chid_ in chidsd['RBD']:\n",
    "                        r = chid_\n",
    "                    else:\n",
    "                        pass\n",
    "                        # print(f'Something broken {fname}', file=f)\n",
    "                chlist.append([h, l, r, G[r][h]['weight'], G[r][l]['weight'], G[l][h]['weight'],\\\n",
    "                             G[r][h]['ind'], G[r][l]['ind']])\n",
    "            # print(chlist)\n",
    "    if len(chlist):\n",
    "        result = []\n",
    "        cv = df[df['Structures'].str.contains(pdbid)]\n",
    "        for index, row in cv.iterrows():\n",
    "            curlist = [ch for ch in chlist if ch[-2] == index and ch[-1] == index]\n",
    "            if len(curlist):\n",
    "                slist = sorted(curlist, key=lambda x: (-(x[3]+x[4]+x[5]), -x[3], -x[4], x[2]))\n",
    "\n",
    "                h , l, r = slist[0][:3] \n",
    "                # print (f'include {pdbid}: {h} {l} {r}')\n",
    "                if len(h) == 1 and len(l) == 1:\n",
    "                    # chs = f'{h} {l} {r}'\n",
    "                    chs_ = f'{h}_{l}_{r}'\n",
    "                    name1 = f'{pdbid}_{chs_}.pdb'\n",
    "                    name2 = f'{pdbid}_{h}_{l}.pdb'\n",
    "                elif h[0] == l[0]:\n",
    "                    # chs = f'{h[0]} {r}'\n",
    "                    chs_ = f'{h[0]}_{l[0]}_{r}'\n",
    "                    name1 = f'{pdbid}_{chs_}.pdb'\n",
    "                    name2 = f'{pdbid}_{h[0]}.pdb'\n",
    "                else:\n",
    "                    continue\n",
    "                s = pdb.select(f'chid {r} or ' +\n",
    "                        f'(chid {h[0]} and resnum {regchids[h][0]} to {regchids[h][1]}) or ' + \n",
    "                        f'(chid {l[0]} and resnum {regchids[l][0]} to {regchids[l][1]})')\n",
    "                pr.writePDB(str(PurePath('/tmp/', pdbname)), s)\n",
    "                pml.cmd.reinitialize()\n",
    "                pml.cmd.load(ref_fn)\n",
    "                pml.cmd.load(PurePath('/tmp/', pdbname)) \n",
    "                pml.cmd.alignto('ref')\n",
    "                pml.cmd.remove('ref')\n",
    "                pml.cmd.save(str(PurePath(pdbcleandir, name1)))\n",
    "                pml.cmd.save(str(PurePath(pdbabdir, name2)), f'not c. {r}')\n",
    "                result.append(name2)\n",
    "        return True, gchids\n",
    "    else:\n",
    "        return False, f'{pdbid} not included'"
   ]
  },
  {
   "cell_type": "code",
   "execution_count": 33,
   "id": "8bd29276-5a5c-44b2-a2b5-53e948161715",
   "metadata": {},
   "outputs": [
    {
     "data": {
      "application/vnd.jupyter.widget-view+json": {
       "model_id": "3562d7cee81f4accbca78f2a7457f4e3",
       "version_major": 2,
       "version_minor": 0
      },
      "text/plain": [
       "  0%|          | 0/120 [00:00<?, ?it/s]"
      ]
     },
     "metadata": {},
     "output_type": "display_data"
    },
    {
     "name": "stdout",
     "output_type": "stream",
     "text": [
      "Error set() {'ANTIBODY'}\n",
      "[<Polymer: SPIKE GLYCOPROTEIN (6YZ7\n",
      "_AAA)>, <Polymer: SPIKE GLYCOPROTEIN (6YZ7\n",
      "_EEE)>, <Polymer: ANTIBODY CR3022 (6YZ7\n",
      "_BBB)>, <Polymer: ANTIBODY CR3022 (6YZ7\n",
      "_HHH)>, <Polymer: ANTIBODY LIGHT CHAIN (6YZ7\n",
      "_CCC)>, <Polymer: ANTIBODY LIGHT CHAIN (6YZ7\n",
      "_LLL)>, <Polymer: NANOBODY (6YZ7\n",
      "_DDD)>, <Polymer: NANOBODY (6YZ7\n",
      "_FFF)>] {'RBD': ['AAA', 'EEE'], 'L': ['CCC', 'LLL'], 'H': [], 'SC': ['BBB', 'HHH'], 'HorL': []}\n",
      "120\n"
     ]
    }
   ],
   "source": [
    "pr.confProDy(verbosity='critical')\n",
    "result1 = Parallel(n_jobs=32)(delayed(procpdbnew)(name, df1) for name in tqdm(pdblist))\n",
    "print(len(result1))"
   ]
  },
  {
   "cell_type": "code",
   "execution_count": 34,
   "id": "0e6b3231",
   "metadata": {},
   "outputs": [
    {
     "name": "stdout",
     "output_type": "stream",
     "text": [
      "145\n"
     ]
    }
   ],
   "source": [
    "pr.confProDy(verbosity='critical')\n",
    "ref = pr.parsePDB(ref_fn)\n",
    "ref.setChids('x')\n",
    "compl = ref.copy()\n",
    "ace2 = pr.parsePDB(ace2_fn)\n",
    "ace2.setChids('y')\n",
    "compl += ace2\n",
    "\n",
    "# Interaction threshold\n",
    "dth = 4.5 #\n",
    "cont_rbd_ace2 = compl.select(f'(same residue as (exwithin {dth} of chid y and heavy) and (chid x and heavy))')\n",
    "print(len(cont_rbd_ace2))\n",
    "res_rbd_ace2 = np.unique((cont_rbd_ace2).getResnums())"
   ]
  },
  {
   "cell_type": "code",
   "execution_count": 35,
   "id": "484740b5-6b22-417c-b8c1-f6677da3a7c3",
   "metadata": {},
   "outputs": [
    {
     "name": "stdout",
     "output_type": "stream",
     "text": [
      "365 77 442\n"
     ]
    }
   ],
   "source": [
    "fnames = glob.glob(str(PurePath(pdbcleandir, '*.pdb')))\n",
    "extdb = pd.concat((hrbds, df1))\n",
    "print(len(hrbds), len(df1), len(extdb))"
   ]
  },
  {
   "cell_type": "code",
   "execution_count": 36,
   "id": "a334bc1d-bc16-4355-93e1-2620f8251e8f",
   "metadata": {},
   "outputs": [],
   "source": [
    "# download pdb_seqres.txt if not exist or small size\n",
    "seq = PurePath(datadir, 'pdb_seqres.txt')\n",
    "url = 'https://files.rcsb.org/pub/pdb/derived_data/pdb_seqres.txt'\n",
    "if requests.get(url, stream=True).status_code == 200:\n",
    "    dsize = 300000\n",
    "    if os.path.exists(seq) and os.path.getsize(seq) >= dsize:\n",
    "        pass\n",
    "    else:\n",
    "        with open(seq, 'wb') as file_handle:  # wb means Write Binary\n",
    "            file_handle.write(requests.get(url, stream=True).content)\n"
   ]
  },
  {
   "cell_type": "code",
   "execution_count": 37,
   "id": "e8b3216c-63d4-4aa3-bd8e-3025465cced5",
   "metadata": {},
   "outputs": [],
   "source": [
    "pdbseqs = pyfastx.Fasta(str(PurePath(datadir, 'pdb_seqres.txt')), build_index=True)"
   ]
  },
  {
   "cell_type": "code",
   "execution_count": 38,
   "id": "96299322-d7c5-411a-bbd4-e87269756391",
   "metadata": {
    "tags": []
   },
   "outputs": [],
   "source": [
    "def calc_ab_centers(fname, ref_fn, ace2_fn, extdb):\n",
    "    try:\n",
    "        pdbseqs = pyfastx.Fasta(str(PurePath(datadir, 'pdb_seqres.txt')), build_index=True)\n",
    "        ref = pr.parsePDB(ref_fn)\n",
    "        ref.setChids('x')\n",
    "        compl = ref.copy()\n",
    "        ace2 = pr.parsePDB(ace2_fn)\n",
    "        ace2.setChids('y')\n",
    "        compl += ace2\n",
    "        # Interaction threshold\n",
    "        dth = 4.5 \n",
    "        # RBD ace2 contacts\n",
    "        cont_rbd_ace2 = compl.select(f'(same residue as (exwithin {dth} of chid y and heavy) and (chid x and heavy))')\n",
    "        res_rbd_ace2 = np.unique((cont_rbd_ace2).getResnums())\n",
    "    \n",
    "        pdb_ = pr.parsePDB(fname, header=False)\n",
    "        pdb = pdb_.select('protein')\n",
    "    \n",
    "    \n",
    "        pdbname = pdb.getTitle()\n",
    "        pdbname_ = pdb.getTitle().split('_')\n",
    "        pdbid = pdbname_[0]\n",
    "    \n",
    "        hchid = pdbname_[1]\n",
    "        h = pdb.select(f'chid {hchid}')\n",
    "    \n",
    "        lchid = pdbname_[2]\n",
    "        l = pdb.select(f'chid {lchid}')\n",
    "    \n",
    "        rchid = pdbname_[3]\n",
    "        r = pdb.select(f'chid {rchid}')\n",
    "    \n",
    "        chids = (hchid, lchid, rchid)\n",
    "    \n",
    "        cv = extdb[extdb['Structures'].str.contains(pdbid)]\n",
    "    \n",
    "        nrow = None\n",
    "    \n",
    "        for jindex, rowj in cv.iterrows():\n",
    "            if (h.select(f'sequence {rowj[\"CDRH3\"]}') and \n",
    "                l.select(f'sequence {rowj[\"CDRL3\"]}')) is not None:\n",
    "                nrow = rowj.to_dict()\n",
    "                break\n",
    "    \n",
    "        if nrow is None:\n",
    "            print(f'Did not found alignment for {pdb.getTitle()}')\n",
    "            return None\n",
    "    \n",
    "    \n",
    "        nrow['pdbid'] = pdbid\n",
    "        nrow['chids'] = chids\n",
    "\n",
    "        cont_rbdh = pdb.select(f'(exwithin {dth} of (chid {hchid} and heavy)) and chid {rchid} and heavy')\n",
    "        cont_cdrh = pdb.select(f'(exwithin {dth} of (chid {rchid} and heavy)) and chid {hchid} and heavy')       \n",
    "        cont_rbd = pdb.select(f'(exwithin {dth} of ((chid {hchid} or chid {lchid}) and heavy)) and chid {rchid} and heavy')\n",
    "        cont_cdr = pdb.select(f'(exwithin {dth} of (chid {rchid} and heavy)) and (chid {hchid} or chid {lchid}) and heavy')\n",
    "\n",
    "        if cont_rbd:\n",
    "            res_rbd = np.unique((cont_rbd).getResnums())\n",
    "        else:\n",
    "            res_rbd = []\n",
    "        delta = len(res_rbd) + len(res_rbd_ace2) - len(np.unique(np.concatenate((res_rbd, res_rbd_ace2))))\n",
    "        if delta < 3:\n",
    "            nrow['ace2'] = 0\n",
    "        else:\n",
    "            nrow['ace2'] = 1\n",
    "  \n",
    "        nrow['cont'] = res_rbd\n",
    "        nrow['cont_cdr'] = pr.calcCenter(cont_cdr, weights=cont_cdr.getMasses())\n",
    "        nrow['cont_rbd'] = pr.calcCenter(cont_rbd, weights=cont_rbd.getMasses())\n",
    "        ca = pdb.select(f'ca and (chid {hchid} or chid {lchid})')\n",
    "        nrow['ab_ca'] = pr.calcCenter(ca, weights=ca.getMasses())\n",
    "\n",
    "        refp = (ref + pdb_)\n",
    "        cs = refp.select(f'exwithin 3 of (chid x and name CA) and (chid {rchid} and name CA)')\n",
    "        if cs is None:\n",
    "            print(f'Did not find interaction with RBD in {pdb.getTitle()}')\n",
    "            return None\n",
    "        csc = cs.select('resname CYS')\n",
    "        if csc is None:\n",
    "            print(f'Did not find cys in {pdb.getTitle()}')\n",
    "            return None\n",
    "\n",
    "        rnums = csc.getResnums()\n",
    "        rnum_b = min(rnums)\n",
    "        rnum_e = max(rnums)\n",
    "        mypdbseq = '_'.join([pdbid.lower(), rchid[:2] if len(rchid)>2 else rchid])\n",
    "        if mypdbseq in pdbseqs.keys():\n",
    "            refseq = pdbseqs[mypdbseq].seq\n",
    "        else:\n",
    "            print(f'Did not find {mypdbseq} in pdbseqs.keys')\n",
    "            print(f'Bad file {fname} {mypdbseq}')\n",
    "            return None\n",
    "        # Find real residues in PDB\n",
    "        seq = pdb.select(f'resnum {rnum_b}to{rnum_e} and chid {rchid} and name CA').getSequence()\n",
    "        aln = sw.align(seq, refseq)\n",
    "        cseq = refseq[aln.q_pos: aln.q_end]\n",
    "        nrow['RBD'] = cseq\n",
    "        return nrow\n",
    "\n",
    "    except ValueError:\n",
    "        print(f'Bad file: {fname}')\n",
    "        return None\n",
    "    except TypeError:\n",
    "        # traceback.print_exc()\n",
    "        print(f'Problem with selection in {pdbid.lower()}')\n",
    "        return None\n"
   ]
  },
  {
   "cell_type": "code",
   "execution_count": 39,
   "id": "e5de6b2c-4f9d-4064-8fe0-c433dff836a4",
   "metadata": {},
   "outputs": [
    {
     "data": {
      "application/vnd.jupyter.widget-view+json": {
       "model_id": "5a81c64be9594217bf434caf7d9a1914",
       "version_major": 2,
       "version_minor": 0
      },
      "text/plain": [
       "  0%|          | 0/751 [00:00<?, ?it/s]"
      ]
     },
     "metadata": {},
     "output_type": "display_data"
    }
   ],
   "source": [
    "res2 = Parallel(n_jobs=24)(delayed(calc_ab_centers)(fname, ref_fn, ace2_fn, extdb) for fname in tqdm(fnames))"
   ]
  },
  {
   "cell_type": "code",
   "execution_count": 40,
   "id": "74a15f4b-62cb-4509-bd25-21540baba00f",
   "metadata": {},
   "outputs": [
    {
     "name": "stdout",
     "output_type": "stream",
     "text": [
      "751 704\n"
     ]
    }
   ],
   "source": [
    "gvecs = pd.DataFrame([x for x in res2 if x is not None])\n",
    "print(len(res2), len(gvecs))"
   ]
  },
  {
   "cell_type": "code",
   "execution_count": 41,
   "id": "e70ea75b-fc1b-41d2-b160-1bcfd02b26cb",
   "metadata": {},
   "outputs": [
    {
     "data": {
      "text/plain": [
       "Index(['Name', 'Ab or Nb', 'Binds to', 'Doesn't Bind to', 'Neutralising Vs',\n",
       "       'Not Neutralising Vs', 'Protein + Epitope', 'Origin', 'VHorVHH', 'VL',\n",
       "       'Heavy V Gene', 'Heavy J Gene', 'Light V Gene', 'Light J Gene', 'CDRH3',\n",
       "       'CDRL3', 'Structures', 'ABB Homology Model (if no structure)',\n",
       "       'Sources', 'Date Added', 'Last Updated', 'Update Description',\n",
       "       'Notes/Following Up?', 'Unnamed: 23', 'Unnamed: 24', 'CDRH1', 'CDRH2',\n",
       "       'CDRL1', 'CDRL2', 'pdbid', 'chids', 'ace2', 'cont', 'cont_cdr',\n",
       "       'cont_rbd', 'ab_ca', 'RBD'],\n",
       "      dtype='object')"
      ]
     },
     "execution_count": 41,
     "metadata": {},
     "output_type": "execute_result"
    }
   ],
   "source": [
    "gvecs.keys()"
   ]
  },
  {
   "cell_type": "code",
   "execution_count": 42,
   "id": "2b91ec9f-ea8c-48ee-8f1a-5258d38881f0",
   "metadata": {},
   "outputs": [],
   "source": [
    "gvecs.to_json(PurePath(datadir, outfile1))"
   ]
  },
  {
   "cell_type": "code",
   "execution_count": 43,
   "id": "2d220470-8a00-4939-97a1-af5e4dbc7011",
   "metadata": {},
   "outputs": [],
   "source": [
    "with open(PurePath(datadir, rbdseqs), 'w') as f:\n",
    "    for index, row in gvecs.iterrows():\n",
    "        name = row['pdbid'] + '_' + '_'.join(row['chids'])\n",
    "        f.write(f'>{name}\\n')\n",
    "        f.write(f'{row[\"RBD\"]}\\n')"
   ]
  },
  {
   "cell_type": "code",
   "execution_count": 44,
   "id": "55739a08",
   "metadata": {},
   "outputs": [
    {
     "data": {
      "text/plain": [
       "704"
      ]
     },
     "execution_count": 44,
     "metadata": {},
     "output_type": "execute_result"
    }
   ],
   "source": [
    "len(gvecs)"
   ]
  },
  {
   "cell_type": "code",
   "execution_count": 45,
   "id": "b20559d0-92e9-483a-8bcd-d2eb03e4c128",
   "metadata": {},
   "outputs": [],
   "source": [
    "def is_rbd_cont(row):\n",
    "    return len(rbdres.intersection(set(row['cont']))) > 0       "
   ]
  },
  {
   "cell_type": "code",
   "execution_count": 46,
   "id": "bf074d32-c479-4797-b000-e892e8196ee8",
   "metadata": {},
   "outputs": [
    {
     "name": "stdout",
     "output_type": "stream",
     "text": [
      "INFO: Pandarallel will run on 24 workers.\n",
      "INFO: Pandarallel will use Memory file system to transfer data between the main process and workers.\n"
     ]
    },
    {
     "data": {
      "application/vnd.jupyter.widget-view+json": {
       "model_id": "0c1c9e6b1deb4cfcb146c1540b4ea965",
       "version_major": 2,
       "version_minor": 0
      },
      "text/plain": [
       "  0%|          | 0/704 [00:00<?, ?it/s]"
      ]
     },
     "metadata": {},
     "output_type": "display_data"
    }
   ],
   "source": [
    "rbdres = set(list(range(319, 542)))\n",
    "pandarallel.initialize(progress_bar=True)\n",
    "tqdm.pandas()\n",
    "gvecs['keep'] = gvecs.progress_apply(is_rbd_cont, axis=1, result_type='expand')"
   ]
  },
  {
   "cell_type": "code",
   "execution_count": 47,
   "id": "e57d7dca-dce3-49e1-bd5b-eef7e5865828",
   "metadata": {},
   "outputs": [
    {
     "name": "stdout",
     "output_type": "stream",
     "text": [
      "701\n"
     ]
    }
   ],
   "source": [
    "gvecs.drop(gvecs[gvecs['keep'] ==False].index, inplace=True)\n",
    "print(len(gvecs))\n",
    "gvecs.to_json(PurePath(datadir, outfile2))"
   ]
  },
  {
   "cell_type": "code",
   "execution_count": null,
   "id": "6bfd2dc6-4b15-48b8-a676-483d8c7988dc",
   "metadata": {},
   "outputs": [],
   "source": []
  },
  {
   "cell_type": "code",
   "execution_count": 48,
   "id": "9a8906be-03e1-4414-8c13-e624b2a4eb2a",
   "metadata": {},
   "outputs": [],
   "source": [
    "def get_seqvec_embed(seq):\n",
    "    embedding = seqvec.embed_sentence( list(seq) ) # List-of-Lists with shape [3,L,1024]\n",
    "    protein_embd = torch.tensor(embedding).sum(dim=0).mean(dim=0) # Vector with shape [1024]\n",
    "    x = protein_embd.cpu().detach().numpy()\n",
    "    return(x)\n",
    "\n",
    "get_embed = get_seqvec_embed"
   ]
  },
  {
   "cell_type": "code",
   "execution_count": 49,
   "id": "390e5082",
   "metadata": {},
   "outputs": [],
   "source": [
    "dups = gvecs[gvecs.duplicated(\n",
    "    subset=[\n",
    "        # 'pdbid', \n",
    "        'CDRH1', 'CDRH2', 'CDRH3', \n",
    "        'CDRL1', 'CDRL2', 'CDRL3',\n",
    "        # 'csh3', 'csl3',\n",
    "        # 'RBDvar',\n",
    "        # 'RBD',\n",
    "    ])]"
   ]
  },
  {
   "cell_type": "code",
   "execution_count": null,
   "id": "375b5f28",
   "metadata": {},
   "outputs": [],
   "source": []
  },
  {
   "cell_type": "code",
   "execution_count": 57,
   "id": "d7fda80f",
   "metadata": {},
   "outputs": [],
   "source": [
    "# Copyright (C) 2022, Joao Rodrigues (j.p.g.l.m.rodrigues@gmail.com)\n",
    "#\n",
    "# This file is part of the Biopython distribution and governed by your\n",
    "# choice of the \"Biopython License Agreement\" or the \"BSD 3-Clause License\".\n",
    "# Please see the LICENSE file that should have been included as part of this\n",
    "# package.\n",
    "\n",
    "\"\"\"Protein Structural Alignment using Combinatorial Extension.\n",
    "\n",
    "Python code written by Joao Rodrigues. C++ code and Python/C++ interface\n",
    "adapted from open-source Pymol and originally written by Jason Vertrees.\n",
    "The original license and notices are available in `cealign` folder.\n",
    "\n",
    "Reference\n",
    "---------\n",
    "Shindyalov, I.N., Bourne P.E. (1998).\n",
    "\"Protein structure alignment by incremental combinatorial extension (CE)\n",
    "of the optimal path\". Protein Engineering. 11 (9): 739–747. PMID 9796821.\n",
    "\"\"\"\n",
    "\n",
    "class ProdyCEAligner:\n",
    "    \"\"\"Protein Structure Alignment by Combinatorial Extension.\"\"\"\n",
    "\n",
    "    def __init__(self, window_size=8, max_gap=30):\n",
    "        \"\"\"Superimpose one set of atoms onto another using structural data.\n",
    "\n",
    "        Structures are superimposed using guide atoms, CA and C4', for protein\n",
    "        and nucleic acid molecules respectively.\n",
    "\n",
    "        Parameters\n",
    "        ----------\n",
    "        window_size : float, optional\n",
    "            CE algorithm parameter. Used to define paths when building the\n",
    "            CE similarity matrix. Default is 8.\n",
    "        max_gap : float, optional\n",
    "            CE algorithm parameter. Maximum gap size. Default is 30.\n",
    "        \"\"\"\n",
    "        assert window_size > 0, \"window_size must be greater than 0\"\n",
    "        assert max_gap >= 0, \"max_gap must be positive (or zero)\"\n",
    "\n",
    "        self.window_size = window_size\n",
    "        self.max_gap = max_gap\n",
    "\n",
    "        self.rmsd = None\n",
    "        self.trans = None\n",
    "\n",
    "    def get_guide_coord_from_structure(self, structure):\n",
    "        \"\"\"Return the coordinates of guide atoms in the structure.\n",
    "\n",
    "        We use guide atoms (C-alpha and C4' atoms) since it is much faster than\n",
    "        using all atoms in the calculation without a significant loss in\n",
    "        accuracy.\n",
    "        \"\"\"\n",
    "        # CE algorithm is sensitive to atom ordering. To reproduce Pymol\n",
    "        # results, sort atoms by chain and then residue number.\n",
    "        coords = structure.calpha.getCoords().tolist()\n",
    "        \n",
    "        if len(coords) == 0:\n",
    "            msg = f\"Structure {structure.id} does not have any guide atoms.\"\n",
    "            raise Exception(msg)\n",
    "        return coords\n",
    "\n",
    "    def set_reference(self, structure):\n",
    "        \"\"\"Define a reference structure onto which all others will be aligned.\"\"\"\n",
    "        self.refcoord = self.get_guide_coord_from_structure(structure)\n",
    "\n",
    "        if len(self.refcoord) < self.window_size * 2:\n",
    "            n_atoms = len(self.refcoord)\n",
    "            msg = (\n",
    "                f\"Too few atoms in the reference structure ({n_atoms}). \"\n",
    "                \"Try reducing the window_size parameter.\"\n",
    "            )\n",
    "            raise Exception(msg)\n",
    "\n",
    "    def align(self, structure, transform=True):\n",
    "        \"\"\"Align the input structure onto the reference structure.\n",
    "\n",
    "        Parameters\n",
    "        ----------\n",
    "        transform: bool, optional\n",
    "            If True (default), apply the rotation/translation that minimizes\n",
    "            the RMSD between the two structures to the input structure. If\n",
    "            False, the structure is not modified but the optimal RMSD will\n",
    "            still be calculated.\n",
    "        \"\"\"\n",
    "        self.rms = None  # clear before aligning\n",
    "\n",
    "        coord = self.get_guide_coord_from_structure(structure)\n",
    "\n",
    "        if len(coord) < self.window_size * 2:\n",
    "            n_atoms = len(coord)\n",
    "            msg = (\n",
    "                f\"Too few atoms in the mobile structure ({n_atoms}). \"\n",
    "                \"Try reducing the window_size parameter.\"\n",
    "            )\n",
    "            raise Exception(msg)\n",
    "\n",
    "        # Run CEAlign\n",
    "        # CEAlign returns the best N paths, where each path is a pair of lists\n",
    "        # with aligned atom indices. Paths are not guaranteed to be unique.\n",
    "        paths = run_cealign(self.refcoord, coord, self.window_size, self.max_gap)\n",
    "        unique_paths = {(tuple(pA), tuple(pB)) for pA, pB in paths}\n",
    "\n",
    "        # Iterate over unique paths and find the one that gives the lowest\n",
    "        # corresponding RMSD. Use QCP to align the molecules.\n",
    "        best_rmsd, best_trans = 1e6, None\n",
    "        for u_path in unique_paths:\n",
    "            idxA, idxB = u_path\n",
    "\n",
    "            coordsA = np.array([self.refcoord[i] for i in idxA])\n",
    "            coordsB = np.array([coord[i] for i in idxB])\n",
    "\n",
    "            coordsB_, trans = pr.superpose(coordsB, coordsA)\n",
    "            rmsd = pr.calcRMSD(coordsA, coordsB_)\n",
    "            \n",
    "            if rmsd < best_rmsd:\n",
    "                best_rmsd = rmsd\n",
    "                best_trans = trans\n",
    "\n",
    "        if best_trans is None:\n",
    "            raise RuntimeError(\"Failed to find a suitable alignment.\")\n",
    "\n",
    "        if transform:\n",
    "            # Transform all atoms\n",
    "            self.mobile = pr.applyTransformation(best_trans, structure)\n",
    "\n",
    "        self.rmsd = best_rmsd\n",
    "        self.trans = best_trans\n",
    "        \n",
    "        \n",
    "        return(best_rmsd, best_trans)           "
   ]
  },
  {
   "cell_type": "code",
   "execution_count": 51,
   "id": "5361c03a",
   "metadata": {},
   "outputs": [
    {
     "data": {
      "application/vnd.jupyter.widget-view+json": {
       "model_id": "e0a74f856f694c15b9de6b1fb73b8878",
       "version_major": 2,
       "version_minor": 0
      },
      "text/plain": [
       "  0%|          | 0/701 [00:00<?, ?it/s]"
      ]
     },
     "metadata": {},
     "output_type": "display_data"
    }
   ],
   "source": [
    "cdrkeys = [f'CDR{c}{i}' for c, i in itertools.product(['H', 'L'], range(1, 4))]\n",
    "\n",
    "for k in cdrkeys:\n",
    "    gvecs[f'e{k}'] = None\n",
    "    \n",
    "gvecs['eCDRH'] = None\n",
    "gvecs['eCDRL'] = None\n",
    "\n",
    "gvecs['eCDRHL'] = None\n",
    "gvecs['eCDRHL3'] = None\n",
    "\n",
    "\n",
    "for index, row in tqdm(gvecs.iterrows(), total=len(gvecs)):\n",
    " \n",
    "    embeds = {k: None for k in cdrkeys}\n",
    "    seqs_keys = {row[k]: k for k in cdrkeys}\n",
    "\n",
    "    seqs = [list(k) for k in seqs_keys.keys()]\n",
    "    seqs.sort(key=len) \n",
    "\n",
    "    embedding = seqvec.embed_sentences( seqs ) # returns: List-of-Lists with shape [3,L,1024]\n",
    "    c = 0\n",
    "    for seq, embed_ in zip(seqs, list(embedding)):\n",
    "        c += 1\n",
    "        k = seqs_keys[''.join(seq)]\n",
    "        embed__ = torch.tensor(embed_).sum(dim=0).mean(dim=0)\n",
    "        embed = embed__.cpu().detach().numpy()\n",
    "        embeds[k] = embed\n",
    "\n",
    "        gvecs.at[index, f'e{k}'] = embed\n",
    "\n",
    "    if c != 6:\n",
    "        continue\n",
    "\n",
    "    gvecs.at[index, 'eCDRHL'] = np.hstack(list(embeds.values()))\n",
    "\n",
    "    gvecs.at[index, 'eCDRH'] = np.hstack([\n",
    "        gvecs.at[index, 'eCDRH1'],\n",
    "        gvecs.at[index, 'eCDRH2'],\n",
    "        gvecs.at[index, 'eCDRH3']\n",
    "    ])\n",
    "\n",
    "    gvecs.at[index, 'eCDRL'] = np.hstack([    \n",
    "        gvecs.at[index, 'eCDRL1'],\n",
    "        gvecs.at[index, 'eCDRL2'],\n",
    "        gvecs.at[index, 'eCDRL3']\n",
    "    ])\n",
    "\n",
    "    gvecs.at[index, 'eCDRHL'] = np.hstack([\n",
    "        gvecs.at[index, 'eCDRH'],\n",
    "        gvecs.at[index, 'eCDRL'],\n",
    "    ])\n",
    "\n",
    "    gvecs.at[index, 'eCDRHL3'] = np.hstack([\n",
    "        gvecs.at[index, 'eCDRH3'],\n",
    "        gvecs.at[index, 'eCDRL3']])\n"
   ]
  },
  {
   "cell_type": "code",
   "execution_count": 58,
   "id": "8f8728c1-29b1-4bf2-827b-12df01b9f551",
   "metadata": {},
   "outputs": [
    {
     "data": {
      "application/vnd.jupyter.widget-view+json": {
       "model_id": "ea776bed61a9427eae65a917df480b5b",
       "version_major": 2,
       "version_minor": 0
      },
      "text/plain": [
       "  0%|          | 0/701 [00:00<?, ?it/s]"
      ]
     },
     "metadata": {},
     "output_type": "display_data"
    }
   ],
   "source": [
    "rpdb = pr.parsePDB(ref_fn)\n",
    "\n",
    "mapped_structs = []\n",
    "\n",
    "for index, row in tqdm(gvecs.iterrows(), total=len(gvecs)):\n",
    "    if row[\"chids\"][0] == row[\"chids\"][1]:\n",
    "        fname = str(PurePath(pdbabdir, f'{row[\"pdbid\"]}_{row[\"chids\"][0]}.pdb'))\n",
    "    else:\n",
    "        fname = str(PurePath(pdbabdir, f'{row[\"pdbid\"]}_{row[\"chids\"][0]}_{row[\"chids\"][1]}.pdb'))\n",
    "\n",
    "    pdb_ = pr.parsePDB(fname).calpha.select(f'chid {row[\"chids\"][0]}')\n",
    "    cealigner = ProdyCEAligner()\n",
    "    cealigner.set_reference(pdb_)\n",
    "    rmsd_, trans_ = cealigner.align(copy.deepcopy(rpdb), transform=True)\n",
    "    mapped_structs.append(cealigner.mobile)"
   ]
  },
  {
   "cell_type": "code",
   "execution_count": 59,
   "id": "b3c7eba0-76ff-4bf3-a6c0-22082fe378d8",
   "metadata": {},
   "outputs": [],
   "source": [
    "N = len(gvecs)\n",
    "Xv = np.vstack(gvecs['cont_rbd'].to_numpy())\n",
    "vdistmat = np.zeros((N, N))\n",
    "\n",
    "for i in range(N):\n",
    "    a1 = Xv[i]\n",
    "    for j in range(i):\n",
    "        a2 = Xv[j]\n",
    "        # dg = prody.calcRMSD(mapped_structs[i], mapped_structs[j])\n",
    "        dg1 = np.linalg.norm(a2-a1)\n",
    "        vdistmat[i, j] = dg1\n",
    "        vdistmat[j, i] = dg1"
   ]
  },
  {
   "cell_type": "code",
   "execution_count": 60,
   "id": "e470b41e-4c7f-4ee4-95ec-e4f3f1384bed",
   "metadata": {},
   "outputs": [
    {
     "data": {
      "text/plain": [
       "<matplotlib.colorbar.Colorbar at 0x7f7e11a46be0>"
      ]
     },
     "execution_count": 60,
     "metadata": {},
     "output_type": "execute_result"
    },
    {
     "data": {
      "image/png": "[encoded data removed]",
      "text/plain": [
       "<Figure size 640x480 with 2 Axes>"
      ]
     },
     "metadata": {},
     "output_type": "display_data"
    }
   ],
   "source": [
    "plt.imshow(vdistmat, origin='lower')\n",
    "plt.colorbar()"
   ]
  },
  {
   "cell_type": "code",
   "execution_count": 61,
   "id": "215e776d-32bf-44b7-82bb-0f464ae70a11",
   "metadata": {},
   "outputs": [],
   "source": [
    "Xv = np.vstack(gvecs['eCDRHL'].to_numpy())\n",
    "X_, Y_ = [], []\n",
    "ind = []\n",
    "\n",
    "for i in range(N):\n",
    "    a1 = Xv[i]\n",
    "    for j in range(i):\n",
    "        a2 = Xv[j]\n",
    "        dg = np.linalg.norm(a1 - a2)\n",
    "        X_.append(dg)\n",
    "        Y_.append(vdistmat[i, j])\n",
    "        ind.append((i, j))"
   ]
  },
  {
   "cell_type": "code",
   "execution_count": 62,
   "id": "235be377-90aa-4179-b1db-13322d5660f3",
   "metadata": {},
   "outputs": [
    {
     "data": {
      "text/plain": [
       "<matplotlib.collections.PathCollection at 0x7f7d6173c2b0>"
      ]
     },
     "execution_count": 62,
     "metadata": {},
     "output_type": "execute_result"
    },
    {
     "data": {
      "image/png": "[encoded data removed]",
      "text/plain": [
       "<Figure size 640x480 with 1 Axes>"
      ]
     },
     "metadata": {},
     "output_type": "display_data"
    }
   ],
   "source": [
    "plt.scatter(X_, Y_)"
   ]
  },
  {
   "cell_type": "code",
   "execution_count": 65,
   "id": "9e3c8271-5b7a-4bd6-a1d1-2d9f44f85f49",
   "metadata": {},
   "outputs": [
    {
     "name": "stdout",
     "output_type": "stream",
     "text": [
      "[50, 91, 146, 199, 208, 258, 301, 335, 414, 591, 622, 29]\n"
     ]
    }
   ],
   "source": [
    "from collections import Counter\n",
    "\n",
    "dupind = [(ind[i], X_[i], Y_[i]) for i in range(len(X_)) if (X_[i]<1) & (Y_[i]>5)] \n",
    "# print('\\n'.join(map(str, dupind)))\n",
    "indlist = [x[0][0] for x in dupind] + [x[0][1] for x in dupind]\n",
    "print(badids := [item for item, count in Counter(indlist).items() if count > 2])"
   ]
  },
  {
   "cell_type": "code",
   "execution_count": 66,
   "id": "88da29f4-c98f-43a1-9b01-eee10a9dfabb",
   "metadata": {},
   "outputs": [
    {
     "name": "stdout",
     "output_type": "stream",
     "text": [
      "677\n"
     ]
    }
   ],
   "source": [
    "gvecs.drop(index=gvecs.iloc[badids, :].index.to_list(), inplace=True)\n",
    "print(len(gvecs))\n",
    "gvecs.to_json(PurePath(datadir, outfile3))\n"
   ]
  },
  {
   "cell_type": "code",
   "execution_count": 67,
   "id": "d47a8cb8-f85f-4fda-9f7b-93c46bb4a0bb",
   "metadata": {},
   "outputs": [],
   "source": [
    "# Drop ECM structures with sugnificantly differ from X-Ray\n",
    "# DIST 0.42800092697143555 7.501261287929377\n",
    "# 408 305 IS-9A IS-9A 7YCL 8HHY ['H', 'L', 'D'] ['F', 'W', 'B']\n",
    "gvecs.drop(index=gvecs[gvecs['pdbid'] == '8HHY'].index, inplace=True) \n",
    "# DIST 3.65395188331604 57.27163726074108\n",
    "# 119 43 P5A-1B6 COVOX-45 7CZV 7PRY ['I', 'M', 'B'] ['F', 'G', 'E']\n",
    "gvecs.drop(index=gvecs[gvecs['pdbid'] == '7CZV'].index, inplace=True)\n",
    "# DIST 3.500866174697876 66.21690631486935\n",
    "# 350 235 Asarnow_5A6 Liu_10-28 7KQB 7SI2 ['H', 'L', 'A'] ['G', 'F', 'C']\n",
    "gvecs.drop(index=gvecs[gvecs['pdbid'] == '7KQB'].index, inplace=True)\n",
    "# DIST 0.44726693630218506 3.343109008827203\n",
    "# 158 86 FP-12A FP-12A 8HHX 7YCK ['H', 'I', 'C'] ['E', 'F', 'B']\n",
    "gvecs.drop(index=gvecs[gvecs['pdbid'] == '8HHX'].index, inplace=True)"
   ]
  },
  {
   "cell_type": "code",
   "execution_count": 68,
   "id": "65e2858a-b6de-4538-ae09-1d563f388e3d",
   "metadata": {},
   "outputs": [
    {
     "name": "stdout",
     "output_type": "stream",
     "text": [
      "372\n"
     ]
    }
   ],
   "source": [
    "# Drop duplicates\n",
    "gvecs.drop_duplicates(\n",
    "    subset=[\n",
    "        'CDRH1', 'CDRH2', 'CDRH3', \n",
    "        'CDRL1', 'CDRL2', 'CDRL3',\n",
    "    ], keep='last', inplace=True)\n",
    "print(len(gvecs))\n",
    "gvecs.to_json(PurePath(datadir, outfile4))"
   ]
  },
  {
   "cell_type": "code",
   "execution_count": null,
   "id": "756b3bc1-4b72-4afb-a1bc-9d156ddf664f",
   "metadata": {},
   "outputs": [],
   "source": []
  }
 ],
 "metadata": {
  "kernelspec": {
   "display_name": "Python 3 (ipykernel)",
   "language": "python",
   "name": "python3"
  },
  "language_info": {
   "codemirror_mode": {
    "name": "ipython",
    "version": 3
   },
   "file_extension": ".py",
   "mimetype": "text/x-python",
   "name": "python",
   "nbconvert_exporter": "python",
   "pygments_lexer": "ipython3",
   "version": "3.8.19"
  }
 },
 "nbformat": 4,
 "nbformat_minor": 5
}
