{
 "cells": [
  {
   "cell_type": "code",
   "execution_count": 1,
   "id": "58a911cc-d4f6-46a2-956d-892a8b319395",
   "metadata": {},
   "outputs": [],
   "source": [
    "# Import general packages\n",
    "import sys\n",
    "import os\n",
    "import re\n",
    "import glob\n",
    "import json\n",
    "import gzip\n",
    "import itertools\n",
    "from tqdm.auto import tqdm\n",
    "import copy\n",
    "from pathlib import PurePath\n",
    "\n",
    "# Parallel processing\n",
    "from joblib import Parallel, delayed\n",
    "\n",
    "# import data and math packages\n",
    "import numpy as np\n",
    "import pandas as pd\n",
    "from pandarallel import pandarallel\n",
    " \n",
    "import networkx as nx\n",
    "import matplotlib.pyplot as plt\n",
    "\n",
    "from requests.adapters import HTTPAdapter\n",
    "from urllib3.util.retry import Retry\n",
    "\n",
    "from abnumber import Chain\n",
    "from abnumber.exceptions import ChainParseError, MultipleDomainsChainParseError\n",
    "\n",
    "# working with structures\n",
    "import prody as pr\n",
    "import pymol as pml\n",
    "\n",
    "import requests\n",
    "# Working with sequences\n",
    "import pyfastx\n",
    "import swalign\n",
    "# choose your own values here… 2 and -1 are common.\n",
    "match = 2#\n",
    "mismatch = -1\n",
    "scoring = swalign.NucleotideScoringMatrix(match, mismatch)\n",
    "sw = swalign.LocalAlignment(scoring)  # you can also choose gap penalties, etc...\n",
    "\n",
    "import torch\n",
    "from allennlp.commands.elmo import ElmoEmbedder\n",
    "from pathlib import Path\n",
    "\n",
    "model_dir = Path('/nfs/baron1/nolde/zhalevsky/uniref50_v2/')  # Seqvec data\n",
    "weights = model_dir / 'weights.hdf5'\n",
    "options = model_dir / 'options.json'\n",
    "seqvec  = ElmoEmbedder(options,weights,cuda_device=0) # cuda_device=-1 for CPU\n",
    "\n",
    "import Bio.PDB \n",
    "import Bio.PDB.ccealign\n",
    "from Bio.PDB.ccealign import run_cealign"
   ]
  },
  {
   "cell_type": "markdown",
   "id": "c1392c17-613a-4e7d-972b-fe88b80fa6f3",
   "metadata": {},
   "source": [
    "# Part 2"
   ]
  },
  {
   "cell_type": "code",
   "execution_count": 2,
   "id": "44c646cf-1a2c-4609-9b33-8518357d0a19",
   "metadata": {},
   "outputs": [],
   "source": [
    "# Read covadab with CDRs\n",
    "# Select only human Abs\n",
    "# Extract pdbids\n",
    "# Add pdbids from rcsb search:\n",
    "#      (Scientific Name of the Source Organism is Severe acute respiratory syndrome coronavirus 2 OR\n",
    "#       Scientific Name of the Source Organism is Severe acute respiratory syndrome coronavirus) AND\n",
    "#      Scientific Name of the Source Organism is Homo Sapiens AND\n",
    "#      Structure Title has any of words (antibody, antibodies, Fab, Fabs)\n",
    "# Download pdb structures from the rcsb sever\n",
    "# For structures of human antibodies in the covadab database process structure file to \n",
    "# find Abs H and L chain and RBD chain\n",
    "# split pdb file to H+L+RBD chains and H+L chains only fitted to reference RBD structure\n",
    "# Process pdb files which are not in the covadb database\n",
    "# Fit Ab-RBD to ref complex and calculates decart coordinates of 3 points for Ab\n",
    "#          1. center of mass of RBD heavy atoms interacting with Ab\n",
    "#          2. center of mass of Ab heavy atoms interacting with RBD\n",
    "#          3. center of CA atoms of Av variable domain\n",
    "# Write unfiltered database\n",
    "# Drop Ab not interacting with RBD (residue 333-527) and write next database version\n",
    "# Calculate Seqvec embedded vectors for CDR[HL][1-3] and plot distance \n",
    "# between embedded vectors vs distance between epitopes map\n",
    "# Delete outliers based on plotted map and save the database\n",
    "# Drop duplicates on set of 6 RBD sequences (keep only last entry)\n",
    "# "
   ]
  },
  {
   "cell_type": "code",
   "execution_count": 3,
   "id": "add6e4b1-245c-4247-b3ee-51139e0632ca",
   "metadata": {},
   "outputs": [],
   "source": [
    "# I/O files locataion\n",
    "datadir = '/kate1/nolde/Ncom_2025' # path to I/O directory\n",
    "dbfname = 'covadab_allcdr.json'                     # input file (output of part 1)\n",
    "newpdblist = 'list2.txt'                            # file with additional pdbids (see cell above)\n",
    "ref_rbd = 'ref.pdb'                                  # reference RBD structure from pdb 7LOP\n",
    "ref_fn = str(PurePath(datadir, ref_rbd))\n",
    "ref_ace = 'ace2.pdb'                                 # Ace2 structure of Ace2-RBD complex (6m0j) fitted to refrbd\n",
    "ace2_fn = str(PurePath(datadir, ref_ace))\n",
    "pdbrawdir = str(PurePath(datadir, 'pdb_raw'))         # Directory to download pdb files\n",
    "pdbcleandir = str(PurePath(datadir, 'pdb_clean'))     # Store only RBD and 2 Ab chains\n",
    "pdbabdir = str(PurePath(datadir, 'pdb_clean_ab_only')) #  Store only Abs chains\n",
    "rbdseqs = 'rbd_seqs.fasta'                            # Output all RBD sequences\n",
    "outfile1 = 'covidab_pdb_rbd_p1_1.json'                  # Output nonfiltered database with duplicates, non-rbd bindings etc\n",
    "outfile2 = 'covidab_pdb_rbd_p2_1.json'                  # Output filtered for complexes binds with RBD\n",
    "outfile3 = 'covidab_pdb_rbd_p3_1.json'                  # Output filtered for outliers based on Seqvec-Epitope distances map\n",
    "outfile4 = 'covidab_pdb_rbd_p4_1.json'                  # Output filtered for Ab with unique CDRHL[1-3] sequences\n",
    "outfile5 = 'covidab_pdb_rbd_p5_1.json'                  # Output filtered for Ab with unique CDRHL[1-3] sequences and correct Ab's name"
   ]
  },
  {
   "cell_type": "code",
   "execution_count": 4,
   "id": "c1e37fe9-c2f5-4aa9-ba5b-2b1580931546",
   "metadata": {},
   "outputs": [],
   "source": [
    "covadab = pd.read_json(PurePath(datadir, dbfname))"
   ]
  },
  {
   "cell_type": "code",
   "execution_count": 5,
   "id": "a2516e95-e3d0-4533-9757-0bd2c97fbb84",
   "metadata": {},
   "outputs": [
    {
     "name": "stdout",
     "output_type": "stream",
     "text": [
      "516\n"
     ]
    }
   ],
   "source": [
    "# filter entries containing pdb structure\n",
    "covadab['Structures'] = covadab['Structures'].str.upper()\n",
    "covadab_pdb = covadab[covadab['Structures'].str.contains('WWW') == True].copy()\n",
    "print(len(covadab_pdb))"
   ]
  },
  {
   "cell_type": "code",
   "execution_count": 6,
   "id": "eaf0b2a3-20f6-4af7-8bd4-12b4f5efe4e6",
   "metadata": {},
   "outputs": [],
   "source": [
    "### IMPORTANT PART ###\n",
    "# SELECT ONLY HUMAN ABs vs RBD\n",
    "hrbds = covadab_pdb[\n",
    "    (covadab_pdb['Binds to'].str.contains('SARS-CoV2')) & \n",
    "    (covadab_pdb['Protein + Epitope'] == 'S; RBD') &\n",
    "    (covadab_pdb['Heavy V Gene'].str.contains('Human')) &\n",
    "    (covadab_pdb['Light V Gene'].str.contains('Human'))]"
   ]
  },
  {
   "cell_type": "code",
   "execution_count": 7,
   "id": "0e153fe3-393b-45de-8600-f1c244677108",
   "metadata": {},
   "outputs": [],
   "source": [
    "qid = re.compile('[1-9][0-9A-Za-z]{3}')\n",
    "pdbids = list()\n",
    "for index, row in hrbds.iterrows():\n",
    "    pdbs = row['Structures']\n",
    "    q = qid.findall(pdbs)\n",
    "    if q is None:\n",
    "        print(row)\n",
    "    else:\n",
    "        pdbids.extend(q)\n",
    "        \n",
    "pdbids = set(pdbids)"
   ]
  },
  {
   "cell_type": "code",
   "execution_count": 8,
   "id": "16ff2b75-dee1-466c-8ad0-8fa6fe24ff36",
   "metadata": {},
   "outputs": [
    {
     "name": "stdout",
     "output_type": "stream",
     "text": [
      "584\n"
     ]
    }
   ],
   "source": [
    "print(len(pdbids))"
   ]
  },
  {
   "cell_type": "code",
   "execution_count": 9,
   "id": "b033b1f1-394d-409c-82e4-a477b4dbca0c",
   "metadata": {},
   "outputs": [
    {
     "name": "stdout",
     "output_type": "stream",
     "text": [
      "903\n"
     ]
    }
   ],
   "source": [
    "# Additional pdbids\n",
    "with open(PurePath(datadir, newpdblist), 'r') as f1:\n",
    "    newids = set(f1.readline()[:-1].split(','))\n",
    "#pdbids = list(set(pdbids+list1))\n",
    "#print(len(pdbids))\n",
    "pdbids = pdbids.union(newids)\n",
    "print(len(pdbids))"
   ]
  },
  {
   "cell_type": "code",
   "execution_count": 10,
   "id": "1530e9af",
   "metadata": {},
   "outputs": [
    {
     "name": "stdout",
     "output_type": "stream",
     "text": [
      "Index(['Name', 'Ab or Nb', 'Binds to', 'Doesn't Bind to', 'Neutralising Vs',\n",
      "       'Not Neutralising Vs', 'Protein + Epitope', 'Origin', 'VHorVHH', 'VL',\n",
      "       'Heavy V Gene', 'Heavy J Gene', 'Light V Gene', 'Light J Gene', 'CDRH3',\n",
      "       'CDRL3', 'Structures', 'ABB Homology Model (if no structure)',\n",
      "       'Sources', 'Date Added', 'Last Updated', 'Update Description',\n",
      "       'Notes/Following Up?', 'Unnamed: 23', 'Unnamed: 24', 'CDRH1', 'CDRH2',\n",
      "       'CDRL1', 'CDRL2'],\n",
      "      dtype='object')\n"
     ]
    }
   ],
   "source": [
    "print(covadab_pdb.keys())"
   ]
  },
  {
   "cell_type": "code",
   "execution_count": 11,
   "id": "8fd2ddbe-b617-4fd2-8856-493c85dfa9cb",
   "metadata": {},
   "outputs": [],
   "source": [
    "# download pdb file if present otherwise mmcif \n",
    "def pdb_mmcif_download(pdbid, datadir):\n",
    "    # Create a session\n",
    "    session = requests.Session()\n",
    "\n",
    "# Define a retry strategy\n",
    "    retry_strategy = Retry(\n",
    "    total=5,  # Total number of retries\n",
    "    backoff_factor=1,  # Waits 1 second between retries, then 2s, 4s, 8s...\n",
    "    status_forcelist=[429, 500, 502, 503, 504],  # Status codes to retry on\n",
    "    allowed_methods=[\"HEAD\", \"GET\", \"OPTIONS\"]  # Methods to retry\n",
    "    )\n",
    "\n",
    "    # Mount the retry strategy to the session\n",
    "    adapter = HTTPAdapter(max_retries=retry_strategy)\n",
    "    session.mount(\"http://\", adapter)\n",
    "    session.mount(\"https://\", adapter)\n",
    "\n",
    "    urlpdb = f'https://files.rcsb.org/download/{pdbid}.pdb'\n",
    "    pdb = f'{datadir}/{pdbid}.pdb'\n",
    "    urlcif = f'https://files.rcsb.org/download/{pdbid}.cif'\n",
    "    cif = f'{datadir}/{pdbid}.cif'\n",
    "    \n",
    "    if session.get(urlpdb, stream=True).status_code == 200:\n",
    "        dsize = int(session.get(urlpdb, stream=True).headers['Content-length'])\n",
    "        if os.path.exists(pdb) and os.path.getsize(pdb) >= dsize:\n",
    "            return pdb # File already downloaded and has reliable size\n",
    "        else:\n",
    "            with open(pdb, 'wb') as file_handle:  # wb means Write Binary\n",
    "                file_handle.write(session.get(urlpdb, stream=True).content)\n",
    "            return pdb\n",
    "    elif session.get(urlcif, stream=True).status_code == 200:\n",
    "        dsize = int(session.get(urlcif, stream=True).headers['Content-length'])\n",
    "        if os.path.exists(cif) and os.path.getsize(cif) >= dsize:\n",
    "            return cif # File already downloaded and has reliable size\n",
    "        else:\n",
    "            with open(cif, 'wb') as file_handle:  # wb means Write Binary\n",
    "                file_handle.write(session.get(urlcif, stream=True).content)\n",
    "            return cif\n",
    "    else:\n",
    "        return None\n",
    "        "
   ]
  },
  {
   "cell_type": "code",
   "execution_count": 12,
   "id": "44c54de3-029d-4158-9783-c253fb4d81aa",
   "metadata": {},
   "outputs": [
    {
     "data": {
      "application/vnd.jupyter.widget-view+json": {
       "model_id": "1b9d550515d941fbbc25862786883279",
       "version_major": 2,
       "version_minor": 0
      },
      "text/plain": [
       "  0%|          | 0/903 [00:00<?, ?it/s]"
      ]
     },
     "metadata": {},
     "output_type": "display_data"
    }
   ],
   "source": [
    "if not os.path.exists(pdbrawdir):\n",
    "    os.makedirs(pdbrawdir)\n",
    "result = Parallel(n_jobs=8)(delayed(pdb_mmcif_download)(pdbid, pdbrawdir) for pdbid in tqdm(list(pdbids)))"
   ]
  },
  {
   "cell_type": "code",
   "execution_count": 13,
   "id": "514f5d4d-27cb-4847-9d72-4bcb67d6e50a",
   "metadata": {},
   "outputs": [],
   "source": [
    "# download pdb_seqres.txt if not exist or small size\n",
    "seq = PurePath(datadir, 'pdb_seqres.txt')\n",
    "url = 'https://files.rcsb.org/pub/pdb/derived_data/pdb_seqres.txt'\n",
    "if requests.get(url, stream=True).status_code == 200:\n",
    "    dsize = 300000\n",
    "    if os.path.exists(seq) and os.path.getsize(seq) >= dsize:\n",
    "        pass\n",
    "    else:\n",
    "        with open(seq, 'wb') as file_handle:  # wb means Write Binary\n",
    "            file_handle.write(requests.get(url, stream=True).content)\n",
    "pdb_seqres = str(PurePath(datadir, 'pdb_seqres.txt'))"
   ]
  },
  {
   "cell_type": "code",
   "execution_count": 14,
   "id": "88918c47-51d3-4ed8-9a42-de5f1f5f6935",
   "metadata": {},
   "outputs": [
    {
     "name": "stdout",
     "output_type": "stream",
     "text": [
      "903\n"
     ]
    }
   ],
   "source": [
    "fnames = [x for x in result if x is not None]\n",
    "print(len(fnames))"
   ]
  },
  {
   "cell_type": "code",
   "execution_count": 15,
   "id": "083d1e2e-ee20-437d-8358-33c1c6a5696a",
   "metadata": {},
   "outputs": [],
   "source": [
    "# filter pdb file by ORGANISM_TAXID record \n",
    "# only Homo sapiens or makaka + Severe acute respiratory syndrome coronavirus 2 are selected\n",
    "def filter_sars_human(fname):\n",
    "    fl1 = False\n",
    "    fl2 = False\n",
    "    with open(fname, 'r') as f:\n",
    "        if fname.endswith('.pdb'):\n",
    "            for line in f:\n",
    "                if re.search('(?i)ORGANISM_TAXID:(\\s+)9606', line):\n",
    "                    fl1 = True\n",
    "                elif re.search('(?i)ORGANISM_TAXID:(\\s+)9544', line):\n",
    "                    fl1 = True\n",
    "                elif re.search('(?i)EXPRESSION_SYSTEM_TAXID:(\\s+)9606', line):\n",
    "                    fl1 = True\n",
    "                elif re.search('(?i)ORGANISM_TAXID:(\\s+)2697049', line):\n",
    "                    fl2 = True\n",
    "                elif re.search('(?i)ORGANISM_TAXID:(\\s+)2901879', line): # SARS-COV-1 but errors occur\n",
    "                    fl2 = True\n",
    "                elif re.search('(?i)SARS-COV.*2', line):\n",
    "                    fl2 = True\n",
    "                elif re.search('(?i)SEVERE ACUTE RESPIRATORY SYNDROME CORONAVIRUS.2', line):\n",
    "                    fl2 = True\n",
    "                if fl1 and fl2:\n",
    "                    return True\n",
    "            return False   \n",
    "        else:\n",
    "            for line in f:\n",
    "                if re.search('(?i)sample.* 9606 ', line):\n",
    "                    fl1 = True\n",
    "                elif re.search('(?i)sample.* 9544 ', line):\n",
    "                    fl1 = True\n",
    "                elif re.search('(?i)sample.* \\'Homo sapiens\\'', line):\n",
    "                    fl1 = True\n",
    "                elif re.search('(?i)sample.* \\'Macaca Mulatta\\'', line):\n",
    "                    fl1 = True\n",
    "                elif re.search('(?i)sample.* 2697049 ', line):\n",
    "                    fl2 = True\n",
    "                elif re.search('(?i)sample.* \\'Severe acute respiratory syndrome coronavirus 2\\'', line):\n",
    "                    fl2 = True\n",
    "                elif re.search('(?i)sample.* 2901879 ', line):\n",
    "                    fl2 = True\n",
    "                elif re.search('(?i)sample.* SARS-CoV-2', line):\n",
    "                    fl2 =True\n",
    "                elif re.search('(?i)sample.* 2019-nCoV', line):\n",
    "                    fl2 = True\n",
    "                elif re.search('(?i)SARS-COV.*2', line):\n",
    "                    fl2 = True\n",
    "                if fl1 and fl2:\n",
    "                    return True\n",
    "            return False"
   ]
  },
  {
   "cell_type": "code",
   "execution_count": 16,
   "id": "cd72221a-94cb-4ad4-84f6-727c6c12facf",
   "metadata": {},
   "outputs": [
    {
     "name": "stdout",
     "output_type": "stream",
     "text": [
      "897 6\n",
      "['/kate1/nolde/Ncom_2025/pdb_raw/8DT3.pdb', '/kate1/nolde/Ncom_2025/pdb_raw/7TTY.pdb', '/kate1/nolde/Ncom_2025/pdb_raw/8GJM.cif', '/kate1/nolde/Ncom_2025/pdb_raw/7TTX.pdb', '/kate1/nolde/Ncom_2025/pdb_raw/7U0L.cif', '/kate1/nolde/Ncom_2025/pdb_raw/7TTM.pdb']\n"
     ]
    }
   ],
   "source": [
    "newfnames = [fname for fname in fnames if filter_sars_human(fname)]\n",
    "nothuman = [fname for fname in fnames if not filter_sars_human(fname)]\n",
    "print(len(newfnames), len(nothuman))\n",
    "print(nothuman)\n",
    "allfnames = fnames\n",
    "fnames = newfnames"
   ]
  },
  {
   "cell_type": "code",
   "execution_count": 17,
   "id": "05079a8f-b13d-42b2-b8a8-0ba531c029ca",
   "metadata": {},
   "outputs": [],
   "source": [
    "# 7TTY non  SArs-Cov2\n",
    "# 7U0L  non Ab non  SArs-Cov2; \n",
    "# 8GB5, 8GB6, 8GB7, 8GB8  makaka \n",
    "# 8GJM mouse\n",
    "# 8DT3 mouse\n",
    "# 7TTX, 7TTM Sarbecovirus"
   ]
  },
  {
   "cell_type": "code",
   "execution_count": 18,
   "id": "058f8b1f-1d2d-4229-9ca2-21dee69bd3bd",
   "metadata": {},
   "outputs": [],
   "source": [
    "# Add makaka Ab because they were classified in https://doi.org/10.1038/s41586-022-04980-y\n",
    "# fnames.extend([x for x in nothuman if '8GB' in x])"
   ]
  },
  {
   "cell_type": "code",
   "execution_count": 19,
   "id": "8668ec1b-85cc-4a5c-a7cd-e0bffc81b33a",
   "metadata": {},
   "outputs": [],
   "source": [
    "def molnames_from_pdbheader(fname):\n",
    "    pnames = []\n",
    "    try:\n",
    "        cifflag = fname.endswith('.cif')\n",
    "        if cifflag:\n",
    "            header = pr.parseMMCIF(fname, model=0, header=True)\n",
    "        else:\n",
    "            header = pr.parsePDB(fname, model=0, header=True)\n",
    " \n",
    "        for p in header['polymers']:\n",
    "            pnames.append(p.name)\n",
    "        return pnames\n",
    "    \n",
    "    except (ValueError, KeyError) as e:\n",
    "        print(f'Bad file: {fname} {str(e)}')\n",
    "        return None"
   ]
  },
  {
   "cell_type": "code",
   "execution_count": 20,
   "id": "9e0536ab-e093-40fb-b175-8ec416c1bdd6",
   "metadata": {},
   "outputs": [
    {
     "data": {
      "application/vnd.jupyter.widget-view+json": {
       "model_id": "abd102a90c5f4ff98888bb395ff7ad19",
       "version_major": 2,
       "version_minor": 0
      },
      "text/plain": [
       "  0%|          | 0/897 [00:00<?, ?it/s]"
      ]
     },
     "metadata": {},
     "output_type": "display_data"
    }
   ],
   "source": [
    "pr.confProDy(verbosity='critical')\n",
    "allpnames = Parallel(n_jobs=24)(delayed(molnames_from_pdbheader)(fname) for fname in tqdm(fnames))"
   ]
  },
  {
   "cell_type": "code",
   "execution_count": 21,
   "id": "82cc25e9-d6c8-4db2-89e6-c207b27db23f",
   "metadata": {},
   "outputs": [
    {
     "name": "stdout",
     "output_type": "stream",
     "text": [
      "903\n"
     ]
    }
   ],
   "source": [
    "print(len([x for x in result if x[0]]))"
   ]
  },
  {
   "cell_type": "code",
   "execution_count": 22,
   "id": "e4766091-1652-4e6e-95b7-b62ef5738948",
   "metadata": {},
   "outputs": [],
   "source": [
    "# Chain classification based on chain description in the structure pdb file ()\n",
    "\n",
    "pnames = set([x for xs in allpnames if xs is not None for x in xs])\n",
    "pnamesd = {\n",
    "    'RBD': [],\n",
    "    'H': [],\n",
    "    'L': [],\n",
    "    'Nano': [],\n",
    "    'Fusion': [],\n",
    "    'Darpin': [],\n",
    "    'SC': [],\n",
    "    'HorL': [],\n",
    "    'OTHER': []}\n",
    "\n",
    "for _pname in pnames:\n",
    "    pname = _pname.upper()\n",
    "    if re.search('(SINGLE CHAIN)', pname):\n",
    "        pnamesd['SC'].append(pname)\n",
    "    elif re.search('(H.AVY|[Hh]eavy)', pname):\n",
    "        pnamesd['H'].append(pname)\n",
    "    elif re.search('(LIG[HN]T|[Ll]ig[hn]t)', pname):\n",
    "        pnamesd['L'].append(pname)\n",
    "    elif re.search('(NANOBODY|Nanobody|NAN|VHH)', pname):\n",
    "        pnamesd['Nano'].append(pname)\n",
    "    elif re.search('(FAB H|H CHAIN|CHAIN H|VH|H$|IGH@ PROTEIN|-HC)', pname):\n",
    "        pnamesd['H'].append(pname)\n",
    "    elif re.search('(FAB L|KAPPA|LAMBDA|L CHAIN|L CHIAN|CHAIN L|VL|L$|IGK@ PROTEIN|-LC)', pname):\n",
    "        pnamesd['L'].append(pname)\n",
    "    elif re.search('(RBD|RECEPTOR BINDING DOMAIN|S1|SPIKE|MERS S|S PROTEIN|SURFACE GLYCOPROTEIN|Spike glycoprotein)', pname):\n",
    "        pnamesd['RBD'].append(pname)\n",
    "    elif re.search('(FUSION)', pname):\n",
    "        pnamesd['Fusion'].append(pname)\n",
    "    elif re.search('(DARPIN|SR22)', pname):\n",
    "        pnamesd['Darpin'].append(pname)\n",
    "    elif re.search('(SCFV|GW01|16L9|AB08|ANTIBODY|BN03|N3113|NB70|N3130)', pname):\n",
    "        pnamesd['SC'].append(pname)\n",
    "    elif re.search('(F26G19|FAB)', pname):\n",
    "        pnamesd['HorL'].append(pname)\n",
    "    elif re.search('(Antibody Cr3022)', pname):\n",
    "        pnamesd['H'].append(pname)\n",
    "    else:\n",
    "        pnamesd['OTHER'].append(pname)"
   ]
  },
  {
   "cell_type": "code",
   "execution_count": 23,
   "id": "d766914c-afed-4a24-8cf2-7e5ccc65dddb",
   "metadata": {},
   "outputs": [
    {
     "name": "stdout",
     "output_type": "stream",
     "text": [
      "['3E8', '7F3 FV', 'S309-KC', 'PROCESSED ANGIOTENSIN-CONVERTING ENZYME 2', 'NBC1', 'SODIUM-DEPENDENT NEUTRAL AMINO ACID TRANSPORTER B(0)AT1', 'PRO-SER-LYS-ARG-SER-PHE-ILE-GLU-ASP-LEU-LEU-PHE-ASN', 'ANGIOTENSIN-CONVERTING ENZYME 2', 'SA55_KC', 'NUCLEOPROTEIN']\n"
     ]
    }
   ],
   "source": [
    "print(pnamesd['OTHER'])"
   ]
  },
  {
   "cell_type": "code",
   "execution_count": 24,
   "id": "79b21933-f74b-4291-a04d-f484738eb714",
   "metadata": {},
   "outputs": [],
   "source": [
    "if not os.path.exists(pdbabdir):\n",
    "    os.makedirs(pdbabdir)\n",
    "if not os.path.exists(pdbcleandir):\n",
    "    os.makedirs(pdbcleandir)"
   ]
  },
  {
   "cell_type": "code",
   "execution_count": 25,
   "id": "9a40ac6a-4db7-4962-a6a0-690296a75818",
   "metadata": {},
   "outputs": [],
   "source": [
    "# CDRs from aminoacid sequence of chain\n",
    "def extr_cdr_from_aaseq(seq):\n",
    "    res = {}\n",
    "    for chain in Chain.multiple_domains(seq, scheme='imgt', allowed_species='human', assign_germline=False):\n",
    "    # chain = Chain(seq, scheme='imgt', allowed_species='human', assign_germline=False)\n",
    "        if chain.is_heavy_chain():\n",
    "            pref = 'CDRH'\n",
    "        elif chain.is_light_chain():\n",
    "            pref = 'CDRL'\n",
    "        else:\n",
    "            return None\n",
    "            \n",
    "        for num, cdr in enumerate([chain.cdr1_seq, chain.cdr2_seq, chain.cdr3_seq], start=1):\n",
    "            res[f'{pref}{num}'] = cdr\n",
    "    return res\n",
    "\n",
    "def extr_cdr_from_twoseq(H, L):\n",
    "    res1 = extr_cdr_from_aaseq(H)\n",
    "    res2 = extr_cdr_from_aaseq(L)\n",
    "    # print(res1, res2)\n",
    "    res1.update(res2)\n",
    "    return res1\n"
   ]
  },
  {
   "cell_type": "code",
   "execution_count": 26,
   "id": "fb2d5938-02c6-4675-aa27-cb48617147de",
   "metadata": {},
   "outputs": [],
   "source": [
    "# Process pdb structure file\n",
    "# Make chain classification\n",
    "# Finding triplets of RBD+H+L chains interacting with each other\n",
    "# For each Ab selecting tiplet with maximimum number of contacts\n",
    "# fit Ab+RBD to reference RBD structure and write pdb files with\n",
    "# Ab+RBD and Ab only structure\n",
    "\n",
    "def procpdbnew(fname, ref, pdb_seqres, debug=False):\n",
    "    if debug:\n",
    "        def dbgprint(*args):\n",
    "            print(args)\n",
    "    else:\n",
    "        def dbgprint(*args):\n",
    "            pass\n",
    "    pdbseqs = pyfastx.Fasta(pdb_seqres, build_index=True)        \n",
    "    gchids = {}\n",
    "    regchids = {}\n",
    "    dbgprint(fname)\n",
    "    cifflag = fname.endswith('.cif')\n",
    "    try:\n",
    "        if cifflag:\n",
    "            pdb_, cifheader = pr.parseMMCIF(fname, header=True)\n",
    "            header = cifheader['polymers']\n",
    "            pdbname = fname.split('/')[-1].replace('cif', 'pdb')\n",
    "        else:\n",
    "            pdb_, pdbheader = pr.parsePDB(fname, header=True)\n",
    "            header = pdbheader['polymers']\n",
    "            pdbname = fname.split('/')[-1].replace('cif', 'pdb')\n",
    "        pdb = pdb_.select('protein')\n",
    "        ca = pdb.select('calpha')\n",
    "    except ValueError:\n",
    "        return False, f'Bad file: {fname}'\n",
    "    except KeyError:\n",
    "        return False, f'Bad file: {fname}'\n",
    "   #  print(fname, pdbheader)\n",
    "    pdbid = pdb.getTitle()\n",
    "    if len(header) == 0:\n",
    "        return False, f'Bad pdb {pdbid} {fname}'\n",
    "     \n",
    "    chidsd = {\n",
    "        'RBD': [],\n",
    "        'L': [],\n",
    "        'H': [],\n",
    "        'SC': [],\n",
    "        'HorL': []\n",
    "    }\n",
    "    for p in header:\n",
    "        for k in chidsd.keys():\n",
    "            if p.name in pnamesd[k]:\n",
    "                chidsd[k].append(p.chid)\n",
    "                gchids[(pdbid, p.chid)] = k\n",
    "                break\n",
    "\n",
    "    if (len(chidsd['RBD']) == 0) or \\\n",
    "        (len(chidsd['H']) + len(chidsd['HorL']) + len(chidsd['SC']) == 0) or \\\n",
    "        (len(chidsd['L']) + len(chidsd['HorL']) + len(chidsd['SC']) == 0) or \\\n",
    "        (len(chidsd['H']) + len(chidsd['L']) + len(chidsd['HorL']) + 2*len(chidsd['SC'])) < 2:\n",
    "        return False, f'pdb {pdbid} does not contain RBD + H + L chains'\n",
    "\n",
    "    for c in chidsd['HorL']:\n",
    "        try:\n",
    "            # print(f'pdb {pdbid} chain {c} H or L?')\n",
    "            seq = str(pdbseqs[f'{pdbid.lower()}_{c}'])\n",
    "           #  seq = ca.select(f'chid {c}').getSequence()\n",
    "            cdr = extr_cdr_from_aaseq(seq)\n",
    "            # print('HorL CDR', c, cdr)\n",
    "            if \"CDRL3\" in cdr.keys():\n",
    "                chidsd['L'].append(c)\n",
    "                gchids[(pdbid, c)] = 'L'\n",
    "                # print('Chain L')\n",
    "            elif \"CDRH3\" in cdr.keys():\n",
    "                chidsd['H'].append(c)\n",
    "                gchids[(pdbid, c)] = 'H'\n",
    "                # print('Chain H')\n",
    "            else:\n",
    "                print(f'Error pdb {pdbid} chain {c} neither H nor L!')\n",
    "                continue\n",
    "        except ChainParseError:\n",
    "            continue\n",
    "                \n",
    "    for c in chidsd['SC']:\n",
    "        try:\n",
    "            # print(f'pdb {pdbid} chain {c} Single Chain')\n",
    "            seq = str(pdbseqs[f'{pdbid.lower()}_{c}'])\n",
    "            # seq = ca.select(f'chid {c}').getSequence()\n",
    "            cdr = extr_cdr_from_aaseq(seq)\n",
    "            if (\"CDRL3\" in cdr.keys()) and (\"CDRH3\" in cdr.keys()):\n",
    "                chidsd['L'].append(c + '_L__')\n",
    "                # print('Chain L')\n",
    "                chidsd['H'].append(c + '_H__')\n",
    "                # print('Chain H'f)\n",
    "            else:\n",
    "                dbgprint(f'Error pdb {pdbid} chain {c} CDRH3 or CDRL3 not found')\n",
    "                continue\n",
    "        except ChainParseError:\n",
    "            continue\n",
    "\n",
    "    dcut = 4.5\n",
    "    dcutHL = 4.5\n",
    "    G = nx.Graph()\n",
    "    dbgprint('chidsd=', chidsd)\n",
    "    for r in chidsd['RBD']:\n",
    "        for c in chidsd['L']:\n",
    "            try:\n",
    "                c0 = c[:-4] if len(c)>4 else c\n",
    "                seq = str(pdbseqs[f'{pdbid.lower()}_{c0}'])\n",
    "                # seq = ca.select(f'chid {c0}').getSequence()\n",
    "                cdr = extr_cdr_from_aaseq(seq)\n",
    "                if \"CDRL3\" in cdr.keys():\n",
    "                    cdr3 = pdb.select(f'chid {c0} and sequence {cdr[\"CDRL3\"]}')\n",
    "                    if cdr3:\n",
    "                        last = cdr3.getResnums()[-1] + 12\n",
    "                        first = max(1, cdr3.getResnums()[0] - 95)\n",
    "                        regchids[c] = (first, last)\n",
    "                        s = pdb.select(f'exwithin {dcut} of chid {r} and chid {c0}' + \n",
    "                                       f' and resnum {first} to {last}')\n",
    "                        weight = 0 if s is None else len(s)\n",
    "                        dbgprint(f'RBD-L {r}-{c} {weight}')\n",
    "                        G.add_edge(r, c, weight=weight, ind=cdr[\"CDRL3\"])\n",
    "                    else:\n",
    "                        dbgprint(f'chain {c0} no CDR3')\n",
    "                        continue\n",
    "                else:\n",
    "                    dbgprint(f'chain {c0} no CDR3')\n",
    "                    continue\n",
    "            except ChainParseError: \n",
    "                dbgprint(f'chain {c0} parse error')\n",
    "                dbgprint(seq)\n",
    "                continue\n",
    "\n",
    "        for c in chidsd['H']:\n",
    "            try: \n",
    "                c0 = c[:-4] if len(c)>4 else c\n",
    "                seq = str(pdbseqs[f'{pdbid.lower()}_{c0}'])\n",
    "                # seq = ca.select(f'chid {c0}').getSequence()\n",
    "                cdr = extr_cdr_from_aaseq(seq)\n",
    "                if \"CDRH3\" in cdr.keys():\n",
    "                    cdr3 = pdb.select(f'chid {c0} and sequence {cdr[\"CDRH3\"]}')\n",
    "                    if cdr3:\n",
    "                        first = max(1, cdr3.getResnums()[0] - 98)\n",
    "                        last = cdr3.getResnums()[-1] + 13\n",
    "                        regchids[c] = (first, last)\n",
    "                        s = pdb.select(f'(within {dcut} of chid {r}) and chid {c0}' + \n",
    "                                       f' and resnum {first} to {last}')\n",
    "                        weight = 0 if s is None else len(s)\n",
    "                        dbgprint(f'RBD-H {r}-{c} {weight}')\n",
    "                        G.add_edge(r, c, weight=weight, ind=cdr[\"CDRH3\"])\n",
    "                    else:\n",
    "                        dbgprint(f'chain {c0} no CDR3')\n",
    "                        continue\n",
    "                else:\n",
    "                    dbgprint(f'chain {c0} no CDR3')\n",
    "                    continue\n",
    "            except ChainParseError:\n",
    "                dbgprint(f'chain {c0} parse error')\n",
    "                dbgprint(seq)\n",
    "                continue\n",
    "\n",
    "    for r in chidsd['L']:\n",
    "        r0 = r[:-4] if len(r)>4 else r\n",
    "        for c in chidsd['H']:\n",
    "            c0 = c[:-4] if len(c)>4 else c\n",
    "            if c0 == r0:\n",
    "                dbgprint(f'L-H {r}-{c} 100')\n",
    "                G.add_edge(r, c, weight=100)\n",
    "            else:\n",
    "                s = pdb.select(f'(exwithin {dcutHL} of chid {r0}) and chid {c0}')\n",
    "                if s is not None:\n",
    "                    dbgprint(f'L-H {r}-{c} {len(s)}')\n",
    "                    G.add_edge(r, c, weight=len(s))\n",
    "\n",
    "    clqs = list(nx.find_cliques(G))\n",
    "    chlist = []\n",
    "    for i, cl in enumerate(clqs):\n",
    "        lcl = len(cl)\n",
    "        if lcl > 2:\n",
    "            if lcl > 3:\n",
    "                dbgprint(f'Something wrong with {fname}', file=f)\n",
    "            elif lcl == 3:\n",
    "                for chid_ in cl:\n",
    "                    if chid_ in chidsd['H']:\n",
    "                        h = chid_\n",
    "                    elif chid_ in chidsd['L']:\n",
    "                        l = chid_\n",
    "                    elif chid_ in chidsd['RBD']:\n",
    "                        r = chid_\n",
    "                    else:\n",
    "                        dbgprint(f'Something broken {fname}', file=f)\n",
    "                chlist.append({'H': h, 'L': l, 'R': r, 'Wsum':  G[r][h]['weight']+G[r][l]['weight'], \\\n",
    "                               'Wrh': G[r][h]['weight'], 'Wrl': G[r][l]['weight'], 'Whl': G[l][h]['weight'],\\\n",
    "                             'CDRH3': G[r][h]['ind'], 'CDRL3': G[r][l]['ind'], 'pdbid': pdbid})\n",
    "    # print('chlist=', chlist)\n",
    "    # print('regchids=', regchids)\n",
    "    if len(chlist):\n",
    "        result = pd.DataFrame(chlist)\n",
    "        result.drop(result[result['Wsum']<=0].index, inplace=True)\n",
    "        result.sort_values(by=['Whl', 'Wsum', 'Wrh'], inplace=True)\n",
    "        result.drop_duplicates(subset='CDRH3', keep='last', inplace=True)\n",
    "        # print(result)\n",
    "        for index, row in result.iterrows():\n",
    "            h, l, r = row['H'], row['L'], row['R']\n",
    "            h0 = h[:-4] if len(h)>=4 else h\n",
    "            l0 = l[:-4] if len(h)>=4 else l\n",
    "            r0 = r[:-4] if len(r)>=4 else r\n",
    "            # print(h, l, r)\n",
    "            chs_ = f'{h0[0]}_{l0[0]}_{r0[0]}'\n",
    "            name1 = f'{pdbid}_{chs_}.pdb'\n",
    "            name2 = f'{pdbid}_{h0[0]}_{l0[0]}.pdb'\n",
    "            s = pdb.select(f'chid {r0} or ' + \n",
    "                    f'(chid {h0} and resnum {regchids[h][0]} to {regchids[h][1]}) or ' + \n",
    "                    f'(chid {l0} and resnum {regchids[l][0]} to {regchids[l][1]})')\n",
    "            if len(r0)>1:\n",
    "                pdb.select(f'chid {r0}').setChids(r0[0])\n",
    "            if len(h0)>1:\n",
    "                pdb.select(f'chid {h0}').setChids(h0[0])\n",
    "            if len(l0)>1 and h0!=l0:\n",
    "                pdb.select(f'chid {l0}').setChids(l0[0])\n",
    "            pr.writePDB(str(PurePath('/tmp/', pdbname)), s)\n",
    "            pml.cmd.reinitialize()\n",
    "            pml.cmd.load(ref_fn)\n",
    "            pml.cmd.load(PurePath('/tmp/', pdbname)) \n",
    "            pml.cmd.alignto('ref')\n",
    "            pml.cmd.remove('ref')\n",
    "            pml.cmd.save(str(PurePath(pdbcleandir, name1)))\n",
    "            pml.cmd.save(str(PurePath(pdbabdir, name2)), f'not c. {r0}')\n",
    "        return True, result\n",
    "    else:\n",
    "        dbgprint(chidsd, chlist)\n",
    "        return False, f'{pdbid} not included'"
   ]
  },
  {
   "cell_type": "code",
   "execution_count": 27,
   "id": "af042161-ba6a-4b36-b4fa-f4d289717def",
   "metadata": {},
   "outputs": [
    {
     "data": {
      "text/plain": [
       "896"
      ]
     },
     "execution_count": 27,
     "metadata": {},
     "output_type": "execute_result"
    }
   ],
   "source": [
    "fnames = [x for x in fnames if '7SIX' not in x] # entry 7SIX removed from pdb\n",
    "len(fnames)"
   ]
  },
  {
   "cell_type": "code",
   "execution_count": 28,
   "id": "8c2ffe29-a4b9-4642-bb4f-500f59539ec6",
   "metadata": {},
   "outputs": [
    {
     "data": {
      "text/plain": [
       "(896, 896)"
      ]
     },
     "execution_count": 28,
     "metadata": {},
     "output_type": "execute_result"
    }
   ],
   "source": [
    "len(fnames), len(set(fnames))"
   ]
  },
  {
   "cell_type": "code",
   "execution_count": 29,
   "id": "b999c1c4-aa78-4d57-98f9-78cb48b3f3ec",
   "metadata": {},
   "outputs": [
    {
     "data": {
      "application/vnd.jupyter.widget-view+json": {
       "model_id": "8991bfdf70bb4fc1816b71285b78b469",
       "version_major": 2,
       "version_minor": 0
      },
      "text/plain": [
       "  0%|          | 0/896 [00:00<?, ?it/s]"
      ]
     },
     "metadata": {},
     "output_type": "display_data"
    },
    {
     "name": "stdout",
     "output_type": "stream",
     "text": [
      "896\n"
     ]
    }
   ],
   "source": [
    "pr.confProDy(verbosity='critical')\n",
    "result = Parallel(n_jobs=16)(delayed(procpdbnew)(fname, ref_fn, pdb_seqres, False) for fname in tqdm(fnames))\n",
    "print(len(result))"
   ]
  },
  {
   "cell_type": "code",
   "execution_count": 30,
   "id": "765564cb-3e9b-4ff6-8256-f1d460340132",
   "metadata": {},
   "outputs": [
    {
     "name": "stdout",
     "output_type": "stream",
     "text": [
      "/kate1/nolde/Ncom_2025/pdb_raw/7DZX.pdb H L C Whl= 1\n",
      "/kate1/nolde/Ncom_2025/pdb_raw/8VYE.cif B C K Whl= 2\n",
      "/kate1/nolde/Ncom_2025/pdb_raw/8VYE.cif H L K Whl= 3\n",
      "/kate1/nolde/Ncom_2025/pdb_raw/7L58.pdb H L B Wsum= 2\n",
      "/kate1/nolde/Ncom_2025/pdb_raw/7L57.pdb H L B Wsum= 2\n",
      "/kate1/nolde/Ncom_2025/pdb_raw/7L57.pdb H L B Whl= 2\n"
     ]
    }
   ],
   "source": [
    "for fname, res in zip(fnames, result):\n",
    "    if res[0]:\n",
    "        for ind, res1 in res[1].iterrows():\n",
    "            if(res1['Wsum']<5):\n",
    "                print(fname, res1['H'], res1['L'], res1['R'], 'Wsum=', res1['Wsum'])\n",
    "            if(res1['Whl']<5):\n",
    "                print(fname, res1['H'], res1['L'], res1['R'], 'Whl=', res1['Whl'])\n",
    "           "
   ]
  },
  {
   "cell_type": "code",
   "execution_count": 31,
   "id": "8c29a603-c043-4660-a3dc-455bc3e46fc8",
   "metadata": {},
   "outputs": [],
   "source": [
    "def abname_fromheader(header, chidsd, title):\n",
    "    # print('header', header)\n",
    "    # print('chidsd', chidsd)\n",
    "    # print('title', title)\n",
    "    out = set()\n",
    "    outh = set()\n",
    "    outl = set()\n",
    "    for ch in chidsd['SC'] + chidsd['HorL']:\n",
    "        out.add(abname_frommolname(next(pol.name for pol in header if pol.chid==ch)))\n",
    "                \n",
    "    for ch in chidsd['H']:\n",
    "        outh.add(abname_frommolname(next(pol.name for pol in header if pol.chid==ch)))\n",
    "    \n",
    "    for ch in chidsd['L']:\n",
    "        outl.add(abname_frommolname(next(pol.name for pol in header if pol.chid==ch)))\n",
    "                 \n",
    "    if outh != outl:\n",
    "        if 'IGK@' in outl:\n",
    "            pass\n",
    "        else:\n",
    "            print('Error', outh, outl)\n",
    "            print(header, chidsd)\n",
    "        out.update(outh)\n",
    "    else:\n",
    "        if 'IGG' in outh:\n",
    "            outh.remove('IGG')\n",
    "            outh.add(abname_frommolname(title))\n",
    "        out.update(outh)\n",
    "    # if 'SCFV' in out or 'ANTIBODY' in out or 'SINGLE CHAIN VARIABLE FRAGMENT' in out or\\\n",
    "    #     'IGG' in out or 'MONOCLONAL' in out:\n",
    "    #     print(header, chidsd, title, out)\n",
    "    return(out)\n",
    "    "
   ]
  },
  {
   "cell_type": "code",
   "execution_count": 32,
   "id": "fabd6d4f-a9db-422d-a9b9-9540a2e03310",
   "metadata": {},
   "outputs": [
    {
     "data": {
      "text/plain": [
       "821"
      ]
     },
     "execution_count": 32,
     "metadata": {},
     "output_type": "execute_result"
    }
   ],
   "source": [
    "len([res[1] for res in result if res[0]])"
   ]
  },
  {
   "cell_type": "code",
   "execution_count": 33,
   "id": "2e8f96f0-b0cc-4423-8edc-3ac5bc5274bb",
   "metadata": {},
   "outputs": [
    {
     "data": {
      "text/plain": [
       "(True,\n",
       "    H  L  R  Wsum  Wrh  Wrl  Whl             CDRH3       CDRL3 pdbid\n",
       " 0  H  L  E    69   49   20  168  AAPYCSSISCNDGFDI  QHYGSSRGWT  7L7D)"
      ]
     },
     "execution_count": 33,
     "metadata": {},
     "output_type": "execute_result"
    }
   ],
   "source": [
    "pdbres = [res[1] for res in result if res[0]]\n",
    "result[0]"
   ]
  },
  {
   "cell_type": "code",
   "execution_count": 34,
   "id": "9bd49b74-df9f-46ce-8cbd-46b97213cc0d",
   "metadata": {},
   "outputs": [
    {
     "name": "stdout",
     "output_type": "stream",
     "text": [
      "821\n",
      "970\n"
     ]
    }
   ],
   "source": [
    "pdbres = [res[1] for res in result if res[0]]\n",
    "print(len(pdbres))\n",
    "df = pd.concat(pdbres, ignore_index=True)\n",
    "print(len(df))"
   ]
  },
  {
   "cell_type": "code",
   "execution_count": 35,
   "id": "90d00d49-0080-48d1-af4b-aa6c99974d9b",
   "metadata": {},
   "outputs": [
    {
     "data": {
      "text/html": [
       "<div>\n",
       "<style scoped>\n",
       "    .dataframe tbody tr th:only-of-type {\n",
       "        vertical-align: middle;\n",
       "    }\n",
       "\n",
       "    .dataframe tbody tr th {\n",
       "        vertical-align: top;\n",
       "    }\n",
       "\n",
       "    .dataframe thead th {\n",
       "        text-align: right;\n",
       "    }\n",
       "</style>\n",
       "<table border=\"1\" class=\"dataframe\">\n",
       "  <thead>\n",
       "    <tr style=\"text-align: right;\">\n",
       "      <th></th>\n",
       "      <th>H</th>\n",
       "      <th>L</th>\n",
       "      <th>R</th>\n",
       "      <th>Wsum</th>\n",
       "      <th>Wrh</th>\n",
       "      <th>Wrl</th>\n",
       "      <th>Whl</th>\n",
       "      <th>CDRH3</th>\n",
       "      <th>CDRL3</th>\n",
       "      <th>pdbid</th>\n",
       "    </tr>\n",
       "  </thead>\n",
       "  <tbody>\n",
       "    <tr>\n",
       "      <th>306</th>\n",
       "      <td>A</td>\n",
       "      <td>B</td>\n",
       "      <td>R</td>\n",
       "      <td>71</td>\n",
       "      <td>67</td>\n",
       "      <td>4</td>\n",
       "      <td>83</td>\n",
       "      <td>AKDFSRDGDAFDI</td>\n",
       "      <td>QVWDRSSDQPV</td>\n",
       "      <td>7EY0</td>\n",
       "    </tr>\n",
       "    <tr>\n",
       "      <th>307</th>\n",
       "      <td>H</td>\n",
       "      <td>L</td>\n",
       "      <td>R</td>\n",
       "      <td>89</td>\n",
       "      <td>64</td>\n",
       "      <td>25</td>\n",
       "      <td>94</td>\n",
       "      <td>ARFLPTYDYFDY</td>\n",
       "      <td>QHTDTTPLTF</td>\n",
       "      <td>7EY0</td>\n",
       "    </tr>\n",
       "  </tbody>\n",
       "</table>\n",
       "</div>"
      ],
      "text/plain": [
       "     H  L  R  Wsum  Wrh  Wrl  Whl          CDRH3        CDRL3 pdbid\n",
       "306  A  B  R    71   67    4   83  AKDFSRDGDAFDI  QVWDRSSDQPV  7EY0\n",
       "307  H  L  R    89   64   25   94   ARFLPTYDYFDY   QHTDTTPLTF  7EY0"
      ]
     },
     "execution_count": 35,
     "metadata": {},
     "output_type": "execute_result"
    }
   ],
   "source": [
    "df[df.pdbid=='7EY0']"
   ]
  },
  {
   "cell_type": "code",
   "execution_count": 36,
   "id": "99aeca2c-716e-43a4-9ee7-15224250e3c7",
   "metadata": {},
   "outputs": [
    {
     "data": {
      "application/vnd.jupyter.widget-view+json": {
       "model_id": "bbaf21953d8b48d3917a6aae03905c4b",
       "version_major": 2,
       "version_minor": 0
      },
      "text/plain": [
       "  0%|          | 0/1202 [00:00<?, ?it/s]"
      ]
     },
     "metadata": {},
     "output_type": "display_data"
    },
    {
     "data": {
      "application/vnd.jupyter.widget-view+json": {
       "model_id": "9bf5a14167eb458a9ab457fb052ae828",
       "version_major": 2,
       "version_minor": 0
      },
      "text/plain": [
       "  0%|          | 0/970 [00:00<?, ?it/s]"
      ]
     },
     "metadata": {},
     "output_type": "display_data"
    }
   ],
   "source": [
    "cdrs = {}\n",
    "allseq = set()\n",
    "pdbseqs = pyfastx.Fasta(str(PurePath(datadir, 'pdb_seqres.txt')), build_index=True)\n",
    "\n",
    "for seq in allseq:\n",
    "    cur = extr_cdr_from_aaseq(seq)\n",
    "    if len(cur) == 3 or len(cur) == 6:\n",
    "        cdrs[seq] = cur\n",
    "    else:\n",
    "        print(seq)\n",
    "        print(cur)\n",
    "for index, row in df.iterrows():\n",
    "    h, l = row[\"H\"], row[\"L\"]\n",
    "    h0 = h[:-4] if len(h)>4 else h \n",
    "    l0 = l[:-4] if len(l)>4 else l\n",
    "    # print(pdbseqs[f'{row[\"pdbid\"].lower()}_{row[\"H\"]}'])\n",
    "    #print(type(pdbseqs[f'{row[\"pdbid\"].lower()}_{row[\"H\"]}']))\n",
    "    df.loc[index, 'H'] = h0\n",
    "    df.loc[index, 'L'] = l0\n",
    "    seqh = str(pdbseqs[f'{row[\"pdbid\"].lower()}_{h0}'])\n",
    "    seql = str(pdbseqs[f'{row[\"pdbid\"].lower()}_{l0}'])\n",
    "    df.loc[index, 'Heavy'] = seqh\n",
    "    df.loc[index, 'Light'] = seql\n",
    "    allseq.update([seqh, seql])\n",
    "\n",
    "for seq in tqdm(allseq, total=len(allseq)):\n",
    "    cur = extr_cdr_from_aaseq(seq)\n",
    "    if len(cur) == 3 or len(cur) == 6:\n",
    "        cdrs[seq] = cur\n",
    "    else:\n",
    "        print(seq)\n",
    "        print(cur)\n",
    "        \n",
    "for index, row in tqdm(df.iterrows(), total=len(df)):\n",
    "    df.loc[index, 'CDRL1'] = cdrs[row['Light']]['CDRL1']\n",
    "    df.loc[index, 'CDRL2'] = cdrs[row['Light']]['CDRL2']\n",
    "    df.loc[index, 'CDRL3'] = cdrs[row['Light']]['CDRL3']\n",
    "    df.loc[index, 'CDRH1'] = cdrs[row['Heavy']]['CDRH1']\n",
    "    df.loc[index, 'CDRH2'] = cdrs[row['Heavy']]['CDRH2']\n",
    "    df.loc[index, 'CDRH3'] = cdrs[row['Heavy']]['CDRH3']\n"
   ]
  },
  {
   "cell_type": "code",
   "execution_count": 37,
   "id": "779e33e4-848b-47c7-83fd-cb4d62929df3",
   "metadata": {},
   "outputs": [],
   "source": [
    "# Some renaming\n",
    "covadab.loc[covadab['Name'] == 'P5-1H1', 'Name'] = 'P5S-1H1'"
   ]
  },
  {
   "cell_type": "code",
   "execution_count": 38,
   "id": "ce2d1ff6-cc64-4448-816b-c05482bfd45c",
   "metadata": {},
   "outputs": [],
   "source": [
    "def allcdrh(df, cdrs):\n",
    "    return (df['CDRH1'] == cdrs.get('CDRH1', ' ')) & (df['CDRH2'] == cdrs.get('CDRH2', ' ')) & \\\n",
    "           (df['CDRH3'] == cdrs.get('CDRH3', ' '))\n",
    "def allcdrl(df, cdrs):\n",
    "    return (df['CDRL1'] == cdrs.get('CDRL1', ' ')) & (df['CDRL2'] == cdrs.get('CDRL2', ' ')) & \\\n",
    "           (df['CDRL3'] == cdrs.get('CDRL3', ' '))"
   ]
  },
  {
   "cell_type": "code",
   "execution_count": 39,
   "id": "0e6b3231",
   "metadata": {},
   "outputs": [
    {
     "name": "stdout",
     "output_type": "stream",
     "text": [
      "145\n"
     ]
    }
   ],
   "source": [
    "pr.confProDy(verbosity='critical')\n",
    "ref = pr.parsePDB(ref_fn)\n",
    "ref.setChids('x')\n",
    "compl = ref.copy()\n",
    "ace2 = pr.parsePDB(ace2_fn)\n",
    "ace2.setChids('y')\n",
    "compl += ace2\n",
    "\n",
    "# Interaction threshold\n",
    "dth = 4.5 #\n",
    "cont_rbd_ace2 = compl.select(f'(same residue as (exwithin {dth} of chid y and heavy) and (chid x and heavy))')\n",
    "print(len(cont_rbd_ace2))\n",
    "res_rbd_ace2 = np.unique((cont_rbd_ace2).getResnums())"
   ]
  },
  {
   "cell_type": "code",
   "execution_count": 40,
   "id": "e2cc06ac-7c4c-4b3b-a26f-6bc24f7293a8",
   "metadata": {},
   "outputs": [
    {
     "data": {
      "text/plain": [
       "H                                                        H\n",
       "L                                                        L\n",
       "R                                                        E\n",
       "Wsum                                                    69\n",
       "Wrh                                                     49\n",
       "Wrl                                                     20\n",
       "Whl                                                    168\n",
       "CDRH3                                     AAPYCSSISCNDGFDI\n",
       "CDRL3                                           QHYGSSRGWT\n",
       "pdbid                                                 7L7D\n",
       "Heavy    QMQLVQSGPEVKKPGTSVKVSCKASGFTFMSSAVQWVRQARGQRLE...\n",
       "Light    EIVLTQSPGTLSLSPGERATLSCRASQSVSSSYLAWYQQKPGQAPR...\n",
       "CDRL1                                              QSVSSSY\n",
       "CDRL2                                                  GAS\n",
       "CDRH1                                             GFTFMSSA\n",
       "CDRH2                                             IVIGSGNT\n",
       "Name: 0, dtype: object"
      ]
     },
     "execution_count": 40,
     "metadata": {},
     "output_type": "execute_result"
    }
   ],
   "source": [
    "df.iloc[0]"
   ]
  },
  {
   "cell_type": "code",
   "execution_count": 41,
   "id": "484740b5-6b22-417c-b8c1-f6677da3a7c3",
   "metadata": {},
   "outputs": [
    {
     "name": "stdout",
     "output_type": "stream",
     "text": [
      "365 970\n"
     ]
    }
   ],
   "source": [
    "fnames = []\n",
    "for index, row in df.iterrows():\n",
    "    fnames.append(str(PurePath(pdbcleandir, f'{row.pdbid}_{row.H[0]}_{row.L[0]}_{row.R[0]}.pdb')))\n",
    "print(len(hrbds), len(df))"
   ]
  },
  {
   "cell_type": "code",
   "execution_count": 42,
   "id": "96299322-d7c5-411a-bbd4-e87269756391",
   "metadata": {
    "tags": []
   },
   "outputs": [],
   "source": [
    "import traceback\n",
    "\n",
    "def calc_ab_centers(fname, ref_fn, ace2_fn, ind=0):\n",
    "    try:\n",
    "        nrow = {'ind': ind}\n",
    "        \n",
    "        pdbseqs = pyfastx.Fasta(str(PurePath(datadir, 'pdb_seqres.txt')), build_index=True)\n",
    "        ref = pr.parsePDB(ref_fn)\n",
    "        ref.setChids('x')\n",
    "        compl = ref.copy()\n",
    "        ace2 = pr.parsePDB(ace2_fn)\n",
    "        ace2.setChids('y')\n",
    "        compl += ace2\n",
    "        # Interaction threshold\n",
    "        dth = 4.5 \n",
    "        # RBD ace2 contacts\n",
    "        cont_rbd_ace2 = compl.select(f'(same residue as (exwithin {dth} of chid y and heavy) and (chid x and heavy))')\n",
    "        res_rbd_ace2 = np.unique((cont_rbd_ace2).getResnums())\n",
    "    \n",
    "        pdb_ = pr.parsePDB(fname, header=False)\n",
    "        pdb = pdb_.select('protein')\n",
    "    \n",
    "    \n",
    "        pdbname = pdb.getTitle()\n",
    "        pdbname_ = pdb.getTitle().split('_')\n",
    "        pdbid = pdbname_[0]\n",
    "    \n",
    "        hchid = pdbname_[1]\n",
    "        h = pdb.select(f'chid {hchid}')\n",
    "    \n",
    "        lchid = pdbname_[2]\n",
    "        l = pdb.select(f'chid {lchid}')\n",
    "    \n",
    "        rchid = pdbname_[3]\n",
    "        r = pdb.select(f'chid {rchid}')\n",
    "    \n",
    "        chids = (hchid, lchid, rchid)\n",
    "    \n",
    "    \n",
    "        nrow['pdbid'] = pdbid\n",
    "        nrow['chids'] = chids\n",
    "\n",
    "        cont_rbd = pdb.select(f'(exwithin {dth} of ((chid {hchid} or chid {lchid}) and heavy)) and chid {rchid} and heavy')\n",
    "        cont_cdr = pdb.select(f'(exwithin {dth} of (chid {rchid} and heavy)) and (chid {hchid} or chid {lchid}) and heavy')\n",
    "        \n",
    "        if cont_rbd:\n",
    "            res_rbd = np.unique((cont_rbd).getResnums())\n",
    "        else:\n",
    "            res_rbd = []\n",
    "        delta = len(res_rbd) + len(res_rbd_ace2) - len(np.unique(np.concatenate((res_rbd, res_rbd_ace2))))\n",
    "        if delta < 3:\n",
    "            nrow['ace2'] = 0\n",
    "        else:\n",
    "            nrow['ace2'] = 1\n",
    "  \n",
    "        nrow['cont'] = res_rbd\n",
    "        nrow['cont_cdr'] = pr.calcCenter(cont_cdr, weights=cont_cdr.getMasses())\n",
    "        nrow['cont_rbd'] = pr.calcCenter(cont_rbd, weights=cont_rbd.getMasses())\n",
    "        ca = pdb.select(f'ca and (chid {hchid} or chid {lchid})')\n",
    "        nrow['ab_ca'] = pr.calcCenter(ca, weights=ca.getMasses())\n",
    "\n",
    "        refp = (ref + pdb_)\n",
    "        cs = refp.select(f'exwithin {dth} of (chid x and name CA) and (chid {rchid} and name CA)')\n",
    "        if cs is None:\n",
    "            print(f'Did not find interaction with RBD in {pdb.getTitle()}')\n",
    "            return None\n",
    "        csc = cs.select('resname CYS')\n",
    "        if csc is None:\n",
    "            print(f'Did not find cys in {pdb.getTitle()}')\n",
    "            return None\n",
    "\n",
    "        rnums = csc.getResnums()\n",
    "        rnum_b = min(rnums)\n",
    "        rnum_e = max(rnums)\n",
    "        mypdbseq = '_'.join([pdbid.lower(), rchid])\n",
    "        if mypdbseq in pdbseqs.keys():\n",
    "            refseq = pdbseqs[mypdbseq].seq\n",
    "        else:\n",
    "            print(f'Did not find {mypdbseq} in pdbseqs.keys')\n",
    "            print(f'Bad file {fname} {mypdbseq}')\n",
    "            return None\n",
    "        # Find real residues in PDB\n",
    "        seq = pdb.select(f'resnum {rnum_b}to{rnum_e} and chid {rchid} and name CA').getSequence()\n",
    "        aln = sw.align(seq, refseq)\n",
    "        cseq = refseq[aln.q_pos: aln.q_end]\n",
    "        nrow['RBD'] = cseq\n",
    "        return nrow\n",
    "\n",
    "    except ValueError:\n",
    "        print(f'Bad file: {fname}')\n",
    "        return None\n",
    "    except TypeError:\n",
    "        traceback.print_exc()\n",
    "        print(f'Problem with selection in {pdbid.lower()}')\n",
    "        return None\n"
   ]
  },
  {
   "cell_type": "code",
   "execution_count": 43,
   "id": "e5de6b2c-4f9d-4064-8fe0-c433dff836a4",
   "metadata": {},
   "outputs": [
    {
     "data": {
      "application/vnd.jupyter.widget-view+json": {
       "model_id": "faed83d08fa8421f893265421e7f74ad",
       "version_major": 2,
       "version_minor": 0
      },
      "text/plain": [
       "  0%|          | 0/970 [00:00<?, ?it/s]"
      ]
     },
     "metadata": {},
     "output_type": "display_data"
    }
   ],
   "source": [
    "res2 = Parallel(n_jobs=24)(delayed(calc_ab_centers)(fname, ref_fn, ace2_fn, num) \\\n",
    "                           for num, fname in tqdm(enumerate(fnames), total=len(fnames)))"
   ]
  },
  {
   "cell_type": "code",
   "execution_count": 44,
   "id": "74a15f4b-62cb-4509-bd25-21540baba00f",
   "metadata": {},
   "outputs": [
    {
     "name": "stdout",
     "output_type": "stream",
     "text": [
      "970 943\n"
     ]
    }
   ],
   "source": [
    "gvecs = pd.DataFrame([x for x in res2 if x is not None])\n",
    "print(len(res2), len(gvecs))"
   ]
  },
  {
   "cell_type": "code",
   "execution_count": 45,
   "id": "e70ea75b-fc1b-41d2-b160-1bcfd02b26cb",
   "metadata": {},
   "outputs": [
    {
     "data": {
      "text/plain": [
       "Index(['ind', 'pdbid', 'chids', 'ace2', 'cont', 'cont_cdr', 'cont_rbd',\n",
       "       'ab_ca', 'RBD'],\n",
       "      dtype='object')"
      ]
     },
     "execution_count": 45,
     "metadata": {},
     "output_type": "execute_result"
    }
   ],
   "source": [
    "gvecs.keys()"
   ]
  },
  {
   "cell_type": "code",
   "execution_count": 46,
   "id": "2b91ec9f-ea8c-48ee-8f1a-5258d38881f0",
   "metadata": {},
   "outputs": [],
   "source": [
    "gvecs.to_json(PurePath(datadir, outfile1))"
   ]
  },
  {
   "cell_type": "code",
   "execution_count": 47,
   "id": "2d220470-8a00-4939-97a1-af5e4dbc7011",
   "metadata": {},
   "outputs": [],
   "source": [
    "with open(PurePath(datadir, rbdseqs), 'w') as f:\n",
    "    for index, row in gvecs.iterrows():\n",
    "        name = row['pdbid'] + '_' + '_'.join(row['chids'])\n",
    "        f.write(f'>{name}\\n')\n",
    "        f.write(f'{row[\"RBD\"]}\\n')"
   ]
  },
  {
   "cell_type": "code",
   "execution_count": 48,
   "id": "55739a08",
   "metadata": {},
   "outputs": [
    {
     "data": {
      "text/plain": [
       "943"
      ]
     },
     "execution_count": 48,
     "metadata": {},
     "output_type": "execute_result"
    }
   ],
   "source": [
    "len(gvecs)"
   ]
  },
  {
   "cell_type": "code",
   "execution_count": 49,
   "id": "b20559d0-92e9-483a-8bcd-d2eb03e4c128",
   "metadata": {},
   "outputs": [],
   "source": [
    "def is_rbd_cont(row):\n",
    "    return len(rbdres.intersection(set(row['cont']))) > 1       "
   ]
  },
  {
   "cell_type": "code",
   "execution_count": 50,
   "id": "bf074d32-c479-4797-b000-e892e8196ee8",
   "metadata": {},
   "outputs": [
    {
     "name": "stdout",
     "output_type": "stream",
     "text": [
      "INFO: Pandarallel will run on 24 workers.\n",
      "INFO: Pandarallel will use Memory file system to transfer data between the main process and workers.\n"
     ]
    },
    {
     "data": {
      "application/vnd.jupyter.widget-view+json": {
       "model_id": "84357774dc5d499fa495211693fe18ef",
       "version_major": 2,
       "version_minor": 0
      },
      "text/plain": [
       "  0%|          | 0/943 [00:00<?, ?it/s]"
      ]
     },
     "metadata": {},
     "output_type": "display_data"
    }
   ],
   "source": [
    "rbdres = set(list(range(333, 528)))\n",
    "pandarallel.initialize(progress_bar=True)\n",
    "tqdm.pandas()\n",
    "gvecs['keep'] = gvecs.progress_apply(is_rbd_cont, axis=1, result_type='expand')"
   ]
  },
  {
   "cell_type": "code",
   "execution_count": 51,
   "id": "e57d7dca-dce3-49e1-bd5b-eef7e5865828",
   "metadata": {},
   "outputs": [
    {
     "name": "stdout",
     "output_type": "stream",
     "text": [
      "886\n"
     ]
    }
   ],
   "source": [
    "gvecs.drop(gvecs[gvecs['keep'] ==False].index, inplace=True)\n",
    "print(len(gvecs))\n",
    "gvecs.to_json(PurePath(datadir, outfile2))"
   ]
  },
  {
   "cell_type": "code",
   "execution_count": 52,
   "id": "a3fafa06-f809-45dd-9e2f-3b8ce6fe57fd",
   "metadata": {},
   "outputs": [],
   "source": [
    "gvecs.drop(index=gvecs[gvecs['pdbid'] == '7SG4'].index, inplace=True)\n",
    "gvecs.drop(index=gvecs[gvecs['pdbid'] == '7JN5'].index, inplace=True) # SARS-Cov 1 "
   ]
  },
  {
   "cell_type": "code",
   "execution_count": 53,
   "id": "95de6b34-cdc2-4daf-8eb4-506edfa4bb55",
   "metadata": {},
   "outputs": [],
   "source": [
    "gvecs.set_index('ind', inplace=True)"
   ]
  },
  {
   "cell_type": "code",
   "execution_count": 54,
   "id": "c868b6cd-528b-4a95-8b90-fbdf7e03028e",
   "metadata": {},
   "outputs": [],
   "source": [
    "df.reset_index(inplace=True)"
   ]
  },
  {
   "cell_type": "code",
   "execution_count": 55,
   "id": "d753a70b-3754-4093-9ea9-909ea36e2514",
   "metadata": {},
   "outputs": [
    {
     "data": {
      "text/plain": [
       "(884, 884)"
      ]
     },
     "execution_count": 55,
     "metadata": {},
     "output_type": "execute_result"
    }
   ],
   "source": [
    "gvecs1 = df.merge(gvecs, how='inner', left_index=True, right_index=True)\n",
    "len(gvecs1), len(gvecs)"
   ]
  },
  {
   "cell_type": "code",
   "execution_count": 56,
   "id": "9a8906be-03e1-4414-8c13-e624b2a4eb2a",
   "metadata": {},
   "outputs": [],
   "source": [
    "def get_seqvec_embed(seq):\n",
    "    embedding = seqvec.embed_sentence( list(seq) ) # List-of-Lists with shape [3,L,1024]\n",
    "    protein_embd = torch.tensor(embedding).sum(dim=0).mean(dim=0) # Vector with shape [1024]\n",
    "    x = protein_embd.cpu().detach().numpy()\n",
    "    return(x)\n",
    "\n",
    "get_embed = get_seqvec_embed"
   ]
  },
  {
   "cell_type": "code",
   "execution_count": 57,
   "id": "390e5082",
   "metadata": {},
   "outputs": [],
   "source": [
    "dups = gvecs1[gvecs1.duplicated(\n",
    "    subset=[\n",
    "        # 'pdbid', \n",
    "        'CDRH1', 'CDRH2', 'CDRH3', \n",
    "        'CDRL1', 'CDRL2', 'CDRL3',\n",
    "        # 'csh3', 'csl3',\n",
    "        # 'RBDvar',\n",
    "        # 'RBD',\n",
    "    ])]"
   ]
  },
  {
   "cell_type": "code",
   "execution_count": 58,
   "id": "2b0e2fc6-fb2a-4262-8d94-648026a02452",
   "metadata": {},
   "outputs": [
    {
     "data": {
      "text/plain": [
       "422"
      ]
     },
     "execution_count": 58,
     "metadata": {},
     "output_type": "execute_result"
    }
   ],
   "source": [
    "len(dups)"
   ]
  },
  {
   "cell_type": "code",
   "execution_count": 59,
   "id": "d7fda80f",
   "metadata": {},
   "outputs": [],
   "source": [
    "# Copyright (C) 2022, Joao Rodrigues (j.p.g.l.m.rodrigues@gmail.com)\n",
    "#\n",
    "# This file is part of the Biopython distribution and governed by your\n",
    "# choice of the \"Biopython License Agreement\" or the \"BSD 3-Clause License\".\n",
    "# Please see the LICENSE file that should have been included as part of this\n",
    "# package.\n",
    "\n",
    "\"\"\"Protein Structural Alignment using Combinatorial Extension.\n",
    "\n",
    "Python code written by Joao Rodrigues. C++ code and Python/C++ interface\n",
    "adapted from open-source Pymol and originally written by Jason Vertrees.\n",
    "The original license and notices are available in `cealign` folder.\n",
    "\n",
    "Reference\n",
    "---------\n",
    "Shindyalov, I.N., Bourne P.E. (1998).\n",
    "\"Protein structure alignment by incremental combinatorial extension (CE)\n",
    "of the optimal path\". Protein Engineering. 11 (9): 739–747. PMID 9796821.\n",
    "\"\"\"\n",
    "\n",
    "class ProdyCEAligner:\n",
    "    \"\"\"Protein Structure Alignment by Combinatorial Extension.\"\"\"\n",
    "\n",
    "    def __init__(self, window_size=8, max_gap=30):\n",
    "        \"\"\"Superimpose one set of atoms onto another using structural data.\n",
    "\n",
    "        Structures are superimposed using guide atoms, CA and C4', for protein\n",
    "        and nucleic acid molecules respectively.\n",
    "\n",
    "        Parameters\n",
    "        ----------\n",
    "        window_size : float, optional\n",
    "            CE algorithm parameter. Used to define paths when building the\n",
    "            CE similarity matrix. Default is 8.\n",
    "        max_gap : float, optional\n",
    "            CE algorithm parameter. Maximum gap size. Default is 30.\n",
    "        \"\"\"\n",
    "        assert window_size > 0, \"window_size must be greater than 0\"\n",
    "        assert max_gap >= 0, \"max_gap must be positive (or zero)\"\n",
    "\n",
    "        self.window_size = window_size\n",
    "        self.max_gap = max_gap\n",
    "\n",
    "        self.rmsd = None\n",
    "        self.trans = None\n",
    "\n",
    "    def get_guide_coord_from_structure(self, structure):\n",
    "        \"\"\"Return the coordinates of guide atoms in the structure.\n",
    "\n",
    "        We use guide atoms (C-alpha and C4' atoms) since it is much faster than\n",
    "        using all atoms in the calculation without a significant loss in\n",
    "        accuracy.\n",
    "        \"\"\"\n",
    "        # CE algorithm is sensitive to atom ordering. To reproduce Pymol\n",
    "        # results, sort atoms by chain and then residue number.\n",
    "        coords = structure.calpha.getCoords().tolist()\n",
    "        \n",
    "        if len(coords) == 0:\n",
    "            msg = f\"Structure {structure.id} does not have any guide atoms.\"\n",
    "            raise Exception(msg)\n",
    "        return coords\n",
    "\n",
    "    def set_reference(self, structure):\n",
    "        \"\"\"Define a reference structure onto which all others will be aligned.\"\"\"\n",
    "        self.refcoord = self.get_guide_coord_from_structure(structure)\n",
    "\n",
    "        if len(self.refcoord) < self.window_size * 2:\n",
    "            n_atoms = len(self.refcoord)\n",
    "            msg = (\n",
    "                f\"Too few atoms in the reference structure ({n_atoms}). \"\n",
    "                \"Try reducing the window_size parameter.\"\n",
    "            )\n",
    "            raise Exception(msg)\n",
    "\n",
    "    def align(self, structure, transform=True):\n",
    "        \"\"\"Align the input structure onto the reference structure.\n",
    "\n",
    "        Parameters\n",
    "        ----------\n",
    "        transform: bool, optional\n",
    "            If True (default), apply the rotation/translation that minimizes\n",
    "            the RMSD between the two structures to the input structure. If\n",
    "            False, the structure is not modified but the optimal RMSD will\n",
    "            still be calculated.\n",
    "        \"\"\"\n",
    "        self.rms = None  # clear before aligning\n",
    "\n",
    "        coord = self.get_guide_coord_from_structure(structure)\n",
    "\n",
    "        if len(coord) < self.window_size * 2:\n",
    "            n_atoms = len(coord)\n",
    "            msg = (\n",
    "                f\"Too few atoms in the mobile structure ({n_atoms}). \"\n",
    "                \"Try reducing the window_size parameter.\"\n",
    "            )\n",
    "            raise Exception(msg)\n",
    "\n",
    "        # Run CEAlign\n",
    "        # CEAlign returns the best N paths, where each path is a pair of lists\n",
    "        # with aligned atom indices. Paths are not guaranteed to be unique.\n",
    "        paths = run_cealign(self.refcoord, coord, self.window_size, self.max_gap)\n",
    "        unique_paths = {(tuple(pA), tuple(pB)) for pA, pB in paths}\n",
    "\n",
    "        # Iterate over unique paths and find the one that gives the lowest\n",
    "        # corresponding RMSD. Use QCP to align the molecules.\n",
    "        best_rmsd, best_trans = 1e6, None\n",
    "        for u_path in unique_paths:\n",
    "            idxA, idxB = u_path\n",
    "\n",
    "            coordsA = np.array([self.refcoord[i] for i in idxA])\n",
    "            coordsB = np.array([coord[i] for i in idxB])\n",
    "\n",
    "            coordsB_, trans = pr.superpose(coordsB, coordsA)\n",
    "            rmsd = pr.calcRMSD(coordsA, coordsB_)\n",
    "            \n",
    "            if rmsd < best_rmsd:\n",
    "                best_rmsd = rmsd\n",
    "                best_trans = trans\n",
    "\n",
    "        if best_trans is None:\n",
    "            raise RuntimeError(\"Failed to find a suitable alignment.\")\n",
    "\n",
    "        if transform:\n",
    "            # Transform all atoms\n",
    "            self.mobile = pr.applyTransformation(best_trans, structure)\n",
    "\n",
    "        self.rmsd = best_rmsd\n",
    "        self.trans = best_trans\n",
    "        \n",
    "        \n",
    "        return(best_rmsd, best_trans)           "
   ]
  },
  {
   "cell_type": "code",
   "execution_count": 60,
   "id": "5d0f4a6f-12d0-486b-a1e5-8f6695520301",
   "metadata": {},
   "outputs": [],
   "source": [
    "gvecs=gvecs1"
   ]
  },
  {
   "cell_type": "code",
   "execution_count": 61,
   "id": "4b8ebe0b-f194-40e9-80f2-66066ff2d47b",
   "metadata": {},
   "outputs": [
    {
     "name": "stdout",
     "output_type": "stream",
     "text": [
      "Empty DataFrame\n",
      "Columns: [index, H, L, R, Wsum, Wrh, Wrl, Whl, CDRH3, CDRL3, pdbid_x, Heavy, Light, CDRL1, CDRL2, CDRH1, CDRH2, pdbid_y, chids, ace2, cont, cont_cdr, cont_rbd, ab_ca, RBD, keep]\n",
      "Index: []\n",
      "\n",
      "[0 rows x 26 columns]\n"
     ]
    }
   ],
   "source": [
    "print(gvecs[gvecs.pdbid_x!=gvecs.pdbid_y])\n",
    "gvecs.rename(columns={'pdbid_x': 'pdbid'}, inplace=True)"
   ]
  },
  {
   "cell_type": "code",
   "execution_count": 62,
   "id": "5361c03a",
   "metadata": {},
   "outputs": [
    {
     "data": {
      "application/vnd.jupyter.widget-view+json": {
       "model_id": "08d4544dfe054b959e1a6cb960eebf10",
       "version_major": 2,
       "version_minor": 0
      },
      "text/plain": [
       "  0%|          | 0/884 [00:00<?, ?it/s]"
      ]
     },
     "metadata": {},
     "output_type": "display_data"
    }
   ],
   "source": [
    "cdrkeys = [f'CDR{c}{i}' for c, i in itertools.product(['H', 'L'], range(1, 4))]\n",
    "\n",
    "for k in cdrkeys:\n",
    "    gvecs[f'e{k}'] = None\n",
    "    \n",
    "gvecs['eCDRH'] = None\n",
    "gvecs['eCDRL'] = None\n",
    "\n",
    "gvecs['eCDRHL'] = None\n",
    "gvecs['eCDRHL3'] = None\n",
    "\n",
    "\n",
    "for index, row in tqdm(gvecs.iterrows(), total=len(gvecs)):\n",
    " \n",
    "    embeds = {k: None for k in cdrkeys}\n",
    "    seqs_keys = {row[k]: k for k in cdrkeys}\n",
    "\n",
    "    seqs = [list(k) for k in seqs_keys.keys()]\n",
    "    seqs.sort(key=len) \n",
    "\n",
    "    embedding = seqvec.embed_sentences( seqs ) # returns: List-of-Lists with shape [3,L,1024]\n",
    "    c = 0\n",
    "    for seq, embed_ in zip(seqs, list(embedding)):\n",
    "        c += 1\n",
    "        k = seqs_keys[''.join(seq)]\n",
    "        embed__ = torch.tensor(embed_).sum(dim=0).mean(dim=0)\n",
    "        embed = embed__.cpu().detach().numpy()\n",
    "        embeds[k] = embed\n",
    "\n",
    "        gvecs.at[index, f'e{k}'] = embed\n",
    "\n",
    "    if c != 6:\n",
    "        continue\n",
    "\n",
    "    gvecs.at[index, 'eCDRHL'] = np.hstack(list(embeds.values()))\n",
    "\n",
    "    gvecs.at[index, 'eCDRH'] = np.hstack([\n",
    "        gvecs.at[index, 'eCDRH1'],\n",
    "        gvecs.at[index, 'eCDRH2'],\n",
    "        gvecs.at[index, 'eCDRH3']\n",
    "    ])\n",
    "\n",
    "    gvecs.at[index, 'eCDRL'] = np.hstack([    \n",
    "        gvecs.at[index, 'eCDRL1'],\n",
    "        gvecs.at[index, 'eCDRL2'],\n",
    "        gvecs.at[index, 'eCDRL3']\n",
    "    ])\n",
    "\n",
    "    gvecs.at[index, 'eCDRHL'] = np.hstack([\n",
    "        gvecs.at[index, 'eCDRH'],\n",
    "        gvecs.at[index, 'eCDRL'],\n",
    "    ])\n",
    "\n",
    "    gvecs.at[index, 'eCDRHL3'] = np.hstack([\n",
    "        gvecs.at[index, 'eCDRH3'],\n",
    "        gvecs.at[index, 'eCDRL3']])\n"
   ]
  },
  {
   "cell_type": "code",
   "execution_count": 63,
   "id": "8f8728c1-29b1-4bf2-827b-12df01b9f551",
   "metadata": {},
   "outputs": [
    {
     "data": {
      "application/vnd.jupyter.widget-view+json": {
       "model_id": "3bf53e4ce73a4425b2a12181331e99b1",
       "version_major": 2,
       "version_minor": 0
      },
      "text/plain": [
       "  0%|          | 0/884 [00:00<?, ?it/s]"
      ]
     },
     "metadata": {},
     "output_type": "display_data"
    }
   ],
   "source": [
    "rpdb = pr.parsePDB(ref_fn)\n",
    "\n",
    "mapped_structs = []\n",
    "\n",
    "for index, row in tqdm(gvecs.iterrows(), total=len(gvecs)):\n",
    "    fname = str(PurePath(pdbabdir, f'{row[\"pdbid\"]}_{row[\"chids\"][0]}_{row[\"chids\"][1]}.pdb'))\n",
    "    pdb_ = pr.parsePDB(fname).calpha.select(f'chid {row[\"chids\"][0]}')\n",
    "    cealigner = ProdyCEAligner()\n",
    "    cealigner.set_reference(pdb_)\n",
    "    rmsd_, trans_ = cealigner.align(copy.deepcopy(rpdb), transform=True)\n",
    "    mapped_structs.append(cealigner.mobile)"
   ]
  },
  {
   "cell_type": "code",
   "execution_count": 64,
   "id": "b3c7eba0-76ff-4bf3-a6c0-22082fe378d8",
   "metadata": {},
   "outputs": [],
   "source": [
    "# N = len(gvecs)\n",
    "# Xv = np.vstack(gvecs['cont_rbd'].to_numpy())\n",
    "# vdistmat = np.zeros((N, N))\n",
    "\n",
    "# for i in range(N):\n",
    "#     a1 = Xv[i]\n",
    "#     for j in range(i):\n",
    "#         a2 = Xv[j]\n",
    "#         # dg = prody.calcRMSD(mapped_structs[i], mapped_structs[j])\n",
    "#         dg1 = np.linalg.norm(a2-a1)\n",
    "#         vdistmat[i, j] = dg1\n",
    "#         vdistmat[j, i] = dg1"
   ]
  },
  {
   "cell_type": "code",
   "execution_count": 65,
   "id": "215e776d-32bf-44b7-82bb-0f464ae70a11",
   "metadata": {},
   "outputs": [],
   "source": [
    "def pair_mat(gvecs):\n",
    "    Xv = np.vstack(gvecs['eCDRHL'].to_numpy())\n",
    "    Yv = np.vstack(gvecs['cont_rbd'].to_numpy())\n",
    "    N = len(gvecs)\n",
    "    vdistmat = np.zeros((N, N))\n",
    "    X_, Y_ = [], []\n",
    "    ind = []\n",
    "\n",
    "    for i in range(N):\n",
    "        a1 = Yv[i]\n",
    "        for j in range(i):\n",
    "            a2 = Yv[j]\n",
    "        # dg = prody.calcRMSD(mapped_structs[i], mapped_structs[j])\n",
    "            dg1 = np.linalg.norm(a2-a1)\n",
    "            vdistmat[i, j] = dg1\n",
    "            vdistmat[j, i] = dg1\n",
    "    \n",
    "    for i in range(N):\n",
    "        a1 = Xv[i]\n",
    "        for j in range(i):\n",
    "            a2 = Xv[j]\n",
    "            dg = np.linalg.norm(a1 - a2)\n",
    "            X_.append(dg)\n",
    "            Y_.append(vdistmat[i, j])\n",
    "            ind.append((i, j))\n",
    "    return X_, Y_, ind"
   ]
  },
  {
   "cell_type": "code",
   "execution_count": 66,
   "id": "d56617f2-31ff-470b-a248-b3eec764a089",
   "metadata": {},
   "outputs": [],
   "source": [
    "X_, Y_, ind = pair_mat(gvecs)"
   ]
  },
  {
   "cell_type": "code",
   "execution_count": 67,
   "id": "235be377-90aa-4179-b1db-13322d5660f3",
   "metadata": {},
   "outputs": [
    {
     "data": {
      "text/plain": [
       "(0.0, 4.0)"
      ]
     },
     "execution_count": 67,
     "metadata": {},
     "output_type": "execute_result"
    },
    {
     "data": {
      "image/png": "[encoded data removed]",
      "text/plain": [
       "<Figure size 640x480 with 1 Axes>"
      ]
     },
     "metadata": {},
     "output_type": "display_data"
    }
   ],
   "source": [
    "plt.scatter(X_, Y_)\n",
    "plt.xlim((0,4))"
   ]
  },
  {
   "cell_type": "code",
   "execution_count": 68,
   "id": "aa647445-c5df-40f3-9f16-b448ca75d989",
   "metadata": {},
   "outputs": [
    {
     "data": {
      "text/plain": [
       "(0.0, 400.0)"
      ]
     },
     "execution_count": 68,
     "metadata": {},
     "output_type": "execute_result"
    },
    {
     "data": {
      "image/png": "[encoded data removed]",
      "text/plain": [
       "<Figure size 640x480 with 1 Axes>"
      ]
     },
     "metadata": {},
     "output_type": "display_data"
    }
   ],
   "source": [
    "plt.hist(X_, bins=100)\n",
    "plt.xlim((0, 4))\n",
    "plt.ylim((0, 400))"
   ]
  },
  {
   "cell_type": "code",
   "execution_count": 69,
   "id": "f14360c9-5ce8-46ca-afc3-76ed9ff50bfb",
   "metadata": {},
   "outputs": [
    {
     "data": {
      "text/plain": [
       "1581"
      ]
     },
     "execution_count": 69,
     "metadata": {},
     "output_type": "execute_result"
    }
   ],
   "source": [
    "filt = list(filter(lambda x: x < 0.5, X_))\n",
    "len(filt)"
   ]
  },
  {
   "cell_type": "code",
   "execution_count": 70,
   "id": "d93eadca-45f9-4541-aa17-359dab742187",
   "metadata": {},
   "outputs": [
    {
     "name": "stdout",
     "output_type": "stream",
     "text": [
      "[228, 266, 310, 337, 348, 368, 376, 398, 407, 431, 453, 470, 476, 499, 510, 517, 529, 575, 604, 616, 659, 682, 748, 751, 785, 883, 3, 14, 66, 85, 91, 196, 191, 142]\n",
      "884\n",
      "[((192, 3), 0.17070475, 9.981775487108914), ((199, 3), 0.23283613, 10.234688892627164), ((204, 3), 0.23429865, 9.847707190826387), ((228, 14), 0.1901705, 6.909141042942916), ((228, 66), 0.18771997, 6.413891824388121), ((228, 85), 0.24247622, 5.965634955113048), ((228, 91), 0.2540087, 5.694666113933014), ((228, 196), 0.19261713, 5.654302042789412), ((266, 137), 0.16396207, 22.08203087972786), ((266, 177), 0.22844844, 21.54471878545526), ((269, 3), 0.24833232, 10.062024645632741), ((302, 3), 0.23735602, 10.346070524708475), ((310, 228), 0.2285016, 6.018978364007811), ((317, 3), 0.122810476, 10.652874679848733), ((337, 14), 0.21659257, 10.913701775253665), ((337, 66), 0.20852129, 10.326828123285534), ((337, 85), 0.2311442, 9.898249637055619), ((337, 91), 0.24211322, 9.736461952187351), ((337, 191), 0.22046673, 6.229076603507998), ((337, 196), 0.18686852, 9.661012289924743), ((337, 310), 0.18049118, 9.994809877071186), ((337, 323), 0.19034415, 8.757266369080533), ((348, 228), 0.21247871, 5.768917579208861), ((348, 337), 0.21995884, 9.764384862780826), ((350, 72), 0.19187291, 6.203654711039562), ((361, 3), 0.20030087, 10.701599780797023), ((365, 337), 0.20433137, 8.509707404692179), ((368, 228), 0.18832311, 5.430968157974649), ((368, 337), 0.21793775, 9.396315985716265), ((371, 3), 0.24698676, 10.201518681374953), ((376, 191), 0.25033382, 6.930599360856512), ((376, 228), 0.15649258, 9.112019091815778), ((376, 337), 0.1638719, 13.071006730837379), ((398, 337), 0.21494561, 8.35498616703226), ((398, 376), 0.22692817, 5.3706349529869595), ((407, 191), 0.20422323, 6.659322870175679), ((407, 228), 0.20531876, 8.791138216979585), ((407, 337), 0.22984968, 12.847049289766181), ((431, 14), 0.17284869, 5.312888572751217), ((431, 337), 0.1941549, 5.800174030807872), ((431, 376), 0.18489458, 7.599798963013596), ((431, 407), 0.19152063, 7.1582778462223375), ((432, 3), 0.171672, 8.99685180939308), ((440, 266), 0.23372968, 21.70362727589036), ((453, 228), 0.19087638, 6.355995635827247), ((453, 337), 0.21945156, 10.271108587089854), ((454, 142), 0.19249037, 6.108209851303119), ((470, 137), 0.27384952, 22.19371167671613), ((470, 177), 0.22165747, 21.646872462315045), ((470, 440), 0.2232338, 21.810056805922102), ((476, 14), 0.22673726, 8.854865457466301), ((476, 66), 0.22433364, 8.369116073422786), ((476, 85), 0.16469099, 7.915165939014213), ((476, 91), 0.2197841, 7.600113407501206), ((476, 196), 0.21149497, 7.5724551663549455), ((476, 310), 0.21820326, 7.9620995956055), ((476, 323), 0.22895351, 6.888386838866419), ((476, 348), 0.22551243, 7.718952561529857), ((476, 365), 0.2396664, 6.535744582412948), ((476, 368), 0.22995563, 7.384015767482391), ((476, 376), 0.23100413, 11.053074124913412), ((476, 398), 0.20308082, 6.318333004227192), ((476, 407), 0.2327813, 10.71379548627204), ((476, 453), 0.2490821, 8.263648062993692), ((499, 192), 0.16787356, 9.97944651965604), ((499, 199), 0.20975988, 10.232156317587672), ((499, 204), 0.18768655, 9.845081807133274), ((499, 269), 0.22561386, 10.059424234555049), ((499, 302), 0.2148696, 10.34273384673681), ((499, 317), 0.18818407, 10.65032102354183), ((499, 361), 0.20638883, 10.698772870071535), ((499, 371), 0.19825748, 10.198931706537456), ((499, 432), 0.16858438, 8.994240665408526), ((505, 3), 0.21993174, 9.757929849655943), ((505, 499), 0.22203687, 9.754861670534662), ((510, 228), 0.1714397, 5.294480415610434), ((510, 337), 0.21518396, 9.285212632421358), ((510, 476), 0.22062552, 7.246065085466353), ((517, 228), 0.21298243, 5.02962250790929), ((517, 337), 0.18140136, 8.869019732882169), ((517, 476), 0.21814443, 6.981887589124391), ((529, 71), 0.23078299, 8.027480796701372), ((529, 399), 0.19502191, 5.422635597385577), ((534, 457), 0.20858566, 5.100939449214557), ((535, 529), 0.23015638, 8.579420053530901), ((575, 337), 0.20491183, 7.336103025671185), ((575, 376), 0.22105157, 5.779468661449372), ((575, 407), 0.2126115, 5.5919933484041975), ((575, 476), 0.22702986, 5.478967948375805), ((591, 3), 0.2085598, 10.07695622248853), ((591, 499), 0.21197772, 10.07402379540625), ((604, 228), 0.18187135, 5.395735457126263), ((604, 337), 0.1457534, 9.395702095490352), ((604, 476), 0.2284729, 7.329507681693219), ((609, 266), 0.23397161, 21.579793559561722), ((609, 470), 0.24117167, 21.681716392346974), ((616, 337), 0.24081194, 6.067442441453878), ((616, 376), 0.2170631, 7.080539102830424), ((616, 407), 0.21827242, 6.876235513097987), ((624, 3), 0.15429245, 10.821751591295515), ((624, 499), 0.18490635, 10.819427127639852), ((633, 337), 0.23325977, 8.611365816080594), ((633, 476), 0.22036728, 6.656132902198347), ((659, 191), 0.19087002, 5.325355731826485), ((659, 228), 0.18046267, 7.447212821430532), ((659, 337), 0.21675636, 11.476287111017088), ((659, 431), 0.16703804, 5.794762404874464), ((659, 476), 0.22211836, 9.380266759092356), ((659, 616), 0.2004499, 5.559857525344583), ((666, 337), 0.19038138, 8.408109209675233), ((666, 476), 0.2163125, 6.556343012539464), ((676, 384), 0.16039966, 5.530295886262131), ((677, 3), 0.26629728, 10.68661012338157), ((677, 499), 0.24989751, 10.683431235214899), ((682, 337), 0.20699278, 6.366018098155946), ((682, 376), 0.20321785, 6.723330472356814), ((682, 407), 0.21458945, 6.633706492638381), ((682, 659), 0.1841927, 5.313211315260023), ((704, 597), 0.20596515, 9.65914446017398), ((725, 409), 0.20025697, 5.98061823688211), ((725, 587), 0.19216432, 7.027795320917905), ((727, 266), 0.19221236, 21.54613038391382), ((727, 470), 0.24913293, 21.647251125187008), ((734, 529), 0.20835933, 6.54745539942892), ((747, 142), 1.2542843, 5.627350790058854), ((748, 228), 0.27143183, 5.8663340383376585), ((748, 337), 0.24368306, 9.801581507407498), ((748, 476), 0.20055535, 7.820319793613361), ((751, 228), 0.1845835, 5.147719986501879), ((751, 337), 0.21061976, 9.15570814740844), ((751, 476), 0.22133587, 7.085780917587974), ((785, 228), 0.23113512, 6.873639402964458), ((785, 337), 0.18935283, 10.8843134023265), ((785, 431), 0.21074985, 5.190989394432484), ((785, 476), 0.21101932, 8.805324083562873), ((785, 616), 0.23962109, 5.037689587556128), ((824, 3), 0.24935727, 9.436867210654084), ((824, 499), 0.23547484, 9.43447279313756), ((832, 266), 0.22737825, 21.773394551609634), ((832, 470), 0.25745472, 21.861243013642802), ((863, 67), 0.18453093, 5.045592507603139), ((867, 142), 0.21757223, 5.789067341658632), ((883, 228), 0.17466906, 5.072022886826495), ((883, 337), 0.20632279, 9.011608071130205), ((883, 476), 0.20367233, 7.018532616003559)]\n"
     ]
    }
   ],
   "source": [
    "from collections import Counter\n",
    "\n",
    "dupind = [(ind[i], X_[i], Y_[i]) for i in range(len(X_)) if (X_[i]<1.8) & (Y_[i]>5)] \n",
    "# print('\\n'.join(map(str, dupind)))\n",
    "indlist = [x[0][0] for x in dupind] + [x[0][1] for x in dupind]\n",
    "print(badids := [item for item, count in Counter(indlist).items() if count > 2])\n",
    "print(len(gvecs))\n",
    "print(dupind)\n",
    "gvecs.drop(index=gvecs.iloc[badids, :].index.to_list(), inplace=True)\n",
    "gvecs.to_json(PurePath(datadir, outfile3))"
   ]
  },
  {
   "cell_type": "code",
   "execution_count": 71,
   "id": "614e5a6d-8c74-44fe-b4b3-c6aabf63414b",
   "metadata": {},
   "outputs": [
    {
     "name": "stdout",
     "output_type": "stream",
     "text": [
      "[]\n",
      "850\n",
      "[((337, 69), 0.19187291, 6.203654711039562), ((509, 438), 0.20858566, 5.100939449214557), ((647, 369), 0.16039966, 5.530295886262131), ((674, 571), 0.20596515, 9.65914446017398), ((695, 392), 0.20025697, 5.98061823688211), ((695, 561), 0.19216432, 7.027795320917905), ((830, 64), 0.18453093, 5.045592507603139)]\n"
     ]
    }
   ],
   "source": [
    "X_, Y_, ind = pair_mat(gvecs)\n",
    "dupind = [(ind[i], X_[i], Y_[i]) for i in range(len(X_)) if (X_[i]<1.8) & (Y_[i]>5)] \n",
    "# print('\\n'.join(map(str, dupind)))\n",
    "indlist = [x[0][0] for x in dupind] + [x[0][1] for x in dupind]\n",
    "print(badids := [item for item, count in Counter(indlist).items() if count > 2])\n",
    "print(len(gvecs))\n",
    "print(dupind)"
   ]
  },
  {
   "cell_type": "code",
   "execution_count": 72,
   "id": "1ffe1352-5abd-4af6-8d37-9b26d9db7a89",
   "metadata": {},
   "outputs": [
    {
     "name": "stdout",
     "output_type": "stream",
     "text": [
      "7YCN 8HHZ 0.19187291 6.203654711039562\n",
      "7JV6 7JV4 0.20858566 5.100939449214557\n",
      "8ZBZ 8ZBY 0.16039966 5.530295886262131\n",
      "7L5B 7L57 0.20596515 9.65914446017398\n",
      "7PHG 7QTJ 0.20025697 5.98061823688211\n",
      "7PHG 7QTI 0.19216432 7.027795320917905\n",
      "8EL2 8ELJ 0.18453093 5.045592507603139\n"
     ]
    }
   ],
   "source": [
    "for p, x, y in dupind:\n",
    "    print(gvecs.iloc[p[0]]['pdbid'], gvecs.iloc[p[1]]['pdbid'], x, y)"
   ]
  },
  {
   "cell_type": "code",
   "execution_count": 73,
   "id": "53be5586-7451-4171-b11a-5d111423d0ff",
   "metadata": {},
   "outputs": [],
   "source": [
    "delpdbid = ['8HHZ', '7PHG', '7L57', '8ELJ', '7JV4' , '8ZBZ'] # Select by method (X-ray better) and resolution"
   ]
  },
  {
   "cell_type": "code",
   "execution_count": 74,
   "id": "881c4c00-aff3-49a4-8ee9-32837b5b0813",
   "metadata": {},
   "outputs": [
    {
     "name": "stdout",
     "output_type": "stream",
     "text": [
      "Index([82], dtype='int64')\n",
      "Index([801], dtype='int64')\n",
      "Index([656], dtype='int64')\n",
      "Index([77], dtype='int64')\n",
      "Index([504], dtype='int64')\n",
      "Index([743], dtype='int64')\n"
     ]
    }
   ],
   "source": [
    "for delind in delpdbid:\n",
    "    print(gvecs[gvecs['pdbid'] == delind].index)\n",
    "    # gvecs.drop(index=gvecs[gvecs['pdbid'] == delind].index, inplace=True) \n"
   ]
  },
  {
   "cell_type": "code",
   "execution_count": 75,
   "id": "bd0ff27c-b87a-4f97-b40a-c916d4e37502",
   "metadata": {},
   "outputs": [],
   "source": [
    "for delind in delpdbid:\n",
    "    gvecs.drop(index=gvecs[gvecs['pdbid'] == delind].index, inplace=True) "
   ]
  },
  {
   "cell_type": "code",
   "execution_count": 76,
   "id": "e6723f68-b67e-457b-983b-004cffe903a3",
   "metadata": {},
   "outputs": [
    {
     "name": "stdout",
     "output_type": "stream",
     "text": [
      "[]\n",
      "844\n",
      "[]\n"
     ]
    }
   ],
   "source": [
    "X_, Y_, ind = pair_mat(gvecs)\n",
    "dupind = [(ind[i], X_[i], Y_[i]) for i in range(len(X_)) if (X_[i]<1.8) & (Y_[i]>5)] \n",
    "# print('\\n'.join(map(str, dupind)))\n",
    "indlist = [x[0][0] for x in dupind] + [x[0][1] for x in dupind]\n",
    "print(badids := [item for item, count in Counter(indlist).items() if count > 2])\n",
    "print(len(gvecs))\n",
    "print(dupind)"
   ]
  },
  {
   "cell_type": "code",
   "execution_count": 77,
   "id": "72b18df6-accb-4b2f-894c-c55788a27778",
   "metadata": {},
   "outputs": [
    {
     "name": "stdout",
     "output_type": "stream",
     "text": [
      "462\n"
     ]
    }
   ],
   "source": [
    "# Drop duplicates\n",
    "gvecs.drop_duplicates(\n",
    "    subset=[\n",
    "        'CDRH1', 'CDRH2', 'CDRH3', \n",
    "        'CDRL1', 'CDRL2', 'CDRL3',\n",
    "    ], keep='last', inplace=True)\n",
    "print(len(gvecs))"
   ]
  },
  {
   "cell_type": "code",
   "execution_count": 78,
   "id": "6a205386-3320-47cf-8339-8d92f90006f0",
   "metadata": {},
   "outputs": [
    {
     "data": {
      "text/plain": [
       "(0.0, 4.0)"
      ]
     },
     "execution_count": 78,
     "metadata": {},
     "output_type": "execute_result"
    },
    {
     "data": {
      "image/png": "[encoded data removed]",
      "text/plain": [
       "<Figure size 640x480 with 1 Axes>"
      ]
     },
     "metadata": {},
     "output_type": "display_data"
    }
   ],
   "source": [
    "X_, Y_, ind = pair_mat(gvecs)\n",
    "plt.scatter(X_, Y_)\n",
    "plt.xlim((0,4))"
   ]
  },
  {
   "cell_type": "code",
   "execution_count": 79,
   "id": "d8bb1e9e-ed43-456f-9b6c-90f019d68872",
   "metadata": {},
   "outputs": [
    {
     "data": {
      "text/plain": [
       "(0.0, 50.0)"
      ]
     },
     "execution_count": 79,
     "metadata": {},
     "output_type": "execute_result"
    },
    {
     "data": {
      "image/png": "[encoded data removed]",
      "text/plain": [
       "<Figure size 640x480 with 1 Axes>"
      ]
     },
     "metadata": {},
     "output_type": "display_data"
    }
   ],
   "source": [
    "plt.hist(X_, bins=100)\n",
    "plt.xlim((0, 4))\n",
    "plt.ylim((0, 50))"
   ]
  },
  {
   "cell_type": "code",
   "execution_count": 80,
   "id": "06cf4750-94ee-45e7-96f1-9c181919954b",
   "metadata": {},
   "outputs": [
    {
     "data": {
      "text/plain": [
       "191"
      ]
     },
     "execution_count": 80,
     "metadata": {},
     "output_type": "execute_result"
    }
   ],
   "source": [
    "len([x for x in X_ if x<3.5])"
   ]
  },
  {
   "cell_type": "code",
   "execution_count": 81,
   "id": "b61d0da5-1ebd-46ab-bbc6-0c1f491382aa",
   "metadata": {},
   "outputs": [
    {
     "data": {
      "text/plain": [
       "[((27, 4), 1.7587305, 4.097578172780224),\n",
       " ((92, 80), 1.1759461, 2.2080972273256987),\n",
       " ((161, 52), 1.4600028, 1.729796053355022),\n",
       " ((161, 80), 1.3357491, 2.948132305911392),\n",
       " ((161, 92), 1.4411681, 2.2682977802792044),\n",
       " ((212, 99), 1.6167454, 1.0011594229008876),\n",
       " ((248, 80), 1.6637499, 1.4352631208161233),\n",
       " ((248, 92), 1.587494, 1.690063694090132),\n",
       " ((248, 161), 1.4834151, 3.4293646072649553),\n",
       " ((309, 161), 1.608033, 1.2007051141004863),\n",
       " ((316, 99), 1.5117203, 0.8594322491496411),\n",
       " ((323, 27), 1.2640636, 2.527711135659647),\n",
       " ((342, 123), 1.7268654, 1.4343338190142811),\n",
       " ((408, 112), 1.3447063, 2.4843553727619554),\n",
       " ((447, 351), 1.2348756, 0.22732153636342783)]"
      ]
     },
     "execution_count": 81,
     "metadata": {},
     "output_type": "execute_result"
    }
   ],
   "source": [
    "indlist = [(ind[i], x, Y_[i]) for i, x in enumerate(X_) if x < 1.8]\n",
    "indlist"
   ]
  },
  {
   "cell_type": "code",
   "execution_count": 82,
   "id": "e489eb58-4797-476d-96dc-55fa59c904c8",
   "metadata": {},
   "outputs": [
    {
     "data": {
      "text/plain": [
       "[((80, 5), 2.2672446, 0.3121430074801502),\n",
       " ((80, 52), 1.9679048, 2.36888204689634),\n",
       " ((92, 5), 2.1696112, 2.0226928524200596),\n",
       " ((92, 52), 2.0440524, 1.823514048418212),\n",
       " ((161, 5), 2.3344867, 2.6468225970503156),\n",
       " ((248, 5), 2.2309873, 1.4762265362536435),\n",
       " ((248, 52), 2.0679653, 2.4166998389820704),\n",
       " ((309, 52), 2.164053, 1.4248970659564006),\n",
       " ((309, 80), 2.079434, 1.9196486001030857),\n",
       " ((309, 92), 2.1543107, 2.1784411176514347),\n",
       " ((309, 248), 2.1818478, 2.7157460779284897),\n",
       " ((314, 5), 2.0347636, 1.2879458831718207),\n",
       " ((314, 80), 2.2006423, 1.1917761399936315),\n",
       " ((314, 92), 2.2293863, 1.9932021171097285),\n",
       " ((314, 161), 2.3750916, 3.1773154368294634),\n",
       " ((314, 248), 2.183055, 1.5705178154402581),\n",
       " ((316, 212), 2.1916695, 1.6650223228154308),\n",
       " ((323, 4), 2.3807886, 1.6628931515942784),\n",
       " ((333, 314), 2.1876144, 1.6718755066765234),\n",
       " ((335, 106), 2.3745723, 2.885953963847302),\n",
       " ((366, 40), 2.0765903, 0.6493326684760687),\n",
       " ((387, 5), 2.3328438, 2.14738469222562),\n",
       " ((387, 52), 2.2369251, 3.808852033501128),\n",
       " ((387, 314), 2.235133, 0.8820443990030767),\n",
       " ((402, 312), 2.150202, 4.9534094017917845),\n",
       " ((419, 328), 2.4302528, 1.3359888566175104),\n",
       " ((420, 185), 2.0991416, 2.6284555445879234),\n",
       " ((459, 307), 2.3158622, 2.0225285359782452)]"
      ]
     },
     "execution_count": 82,
     "metadata": {},
     "output_type": "execute_result"
    }
   ],
   "source": [
    "indlist = [(ind[i], x, Y_[i]) for i, x in enumerate(X_) if 2.5 > x > 1.8]\n",
    "indlist"
   ]
  },
  {
   "cell_type": "code",
   "execution_count": 83,
   "id": "2232d6de-02ac-4f31-9043-a877cffad941",
   "metadata": {},
   "outputs": [],
   "source": [
    "gvecs['Name'] = gvecs[['pdbid', 'H', 'L', 'R']].agg('_'.join, axis=1)\n"
   ]
  },
  {
   "cell_type": "code",
   "execution_count": 84,
   "id": "740cfb1f-081c-4e29-9963-3958f39390b3",
   "metadata": {},
   "outputs": [],
   "source": [
    "gvecs.drop(gvecs[gvecs.pdbid=='8EDF'].index, inplace=True)\n",
    "gvecs.drop(gvecs[gvecs.pdbid=='8WFH'].index, inplace=True)\n",
    "gvecs.drop(gvecs[gvecs.pdbid=='9JEB'].index, inplace=True)"
   ]
  },
  {
   "cell_type": "code",
   "execution_count": 85,
   "id": "3a4f4cb3-29c0-4d0f-b3de-4ee5ea0d20de",
   "metadata": {},
   "outputs": [],
   "source": [
    "gvecs.to_json(PurePath(datadir, outfile4))"
   ]
  },
  {
   "cell_type": "code",
   "execution_count": 86,
   "id": "2e3c943a-2f28-484d-95b1-a1662bd1fb65",
   "metadata": {},
   "outputs": [],
   "source": [
    "# def procpdbchains(fname):\n",
    "#     allnames = []\n",
    "#     pdblist = []\n",
    "#     allseq = set()\n",
    "#     newdb = []\n",
    "\n",
    "#     try:\n",
    "#         gchids = {}\n",
    "#         regchids = {}\n",
    "#         if fname.endswith('.pdb'):\n",
    "#             pdb_, pdbheader = pr.parsePDB(fname, header=True)\n",
    "#             header = pdbheader['polymers']\n",
    "#             title = pdbheader['title']\n",
    "#         else:\n",
    "#             pdb_, cifheader = pr.parseMMCIF(fname, header=True)\n",
    "#             header = cifheader['polymers']\n",
    "#             title = cifheader['title']\n",
    "            \n",
    "#         pdb = pdb_.select('protein')\n",
    "#         pdbid = pdb.getTitle()    \n",
    "#         excl = ('THE MOUSE ANTIBODY', 'MERS', 'TERMINAL DOMAIN', 'NUCLEOCAPSID', 'NTD', 'PEPTIDE', 'ACE2', \\\n",
    "#                'RABBIT', 'SARBECOVIRUS')\n",
    "#         skip =False\n",
    "#         for v in excl:\n",
    "#             if v in title:\n",
    "#                 skip = True\n",
    "#                 break\n",
    "#         else:\n",
    "#             if 'NANOBOD' in title :\n",
    "#                 skip = True\n",
    "#             if 'ANTIBOD' in title or 'FAB' in title:\n",
    "#                 skip = False\n",
    "#         if skip:\n",
    "#             return False, 'skip'\n",
    "#         pdblist.append(fname)\n",
    "#         chidsd = {\n",
    "#         'RBD': [],\n",
    "#         'L': [],\n",
    "#         'H': [],\n",
    "#         'SC': [],\n",
    "#         'HorL': []\n",
    "#         }\n",
    "#         for p in header:\n",
    "#             for k in chidsd.keys():\n",
    "#                 if p.name in pnamesd[k]:\n",
    "#                     chidsd[k].append(p.chid)\n",
    "#                     gchids[p.chid] = k\n",
    "#                     break\n",
    "\n",
    "#         if (len(chidsd['RBD']) == 0) or \\\n",
    "#             (len(chidsd['H']) + len(chidsd['HorL']) + len(chidsd['SC']) == 0) or \\\n",
    "#             (len(chidsd['L']) + len(chidsd['HorL']) + len(chidsd['SC']) == 0) or \\\n",
    "#             (len(chidsd['H']) + len(chidsd['L']) + len(chidsd['HorL']) + 2*len(chidsd['SC'])) < 2:\n",
    "#             #        print( f'pdb {pdbid} does not contain RBD + H + L chains')\n",
    "#             # print(chidsd)\n",
    "#             return False, 'RBD + H-chain + L-chain check'\n",
    "#         else:\n",
    "#             allnames.extend(list(abname_fromheader(header, chidsd, title)))\n",
    "#             #print(abname_fromheader(header, chidsd))\n",
    "\n",
    "#         for c in chidsd['HorL'] + chidsd['SC'] + chidsd['H'] + chidsd['L']:\n",
    "#             seq = next(pol.sequence for pol in header if pol.chid==c)\n",
    "#             allseq.add(seq)\n",
    "#             name = abname_frommolname(next(pol.name for pol in header if pol.chid==c))\n",
    "#             if name == 'IGG' or name == 'IGK@':\n",
    "#                 name = abname_frommolname(title)\n",
    "#             newdb.append({'pdb': pdbid, 'seq': seq, 'chain': c, 'name': name})\n",
    "\n",
    "#         return True, {'newdb': newdb, 'allseq': allseq, 'pdblist': pdblist} \n",
    "#     except KeyError:\n",
    "#         return False, 'File KeyError'\n"
   ]
  },
  {
   "cell_type": "code",
   "execution_count": 87,
   "id": "795a5ff1-26c1-48da-8f39-bcc2191fea71",
   "metadata": {},
   "outputs": [],
   "source": [
    "# pr.confProDy(verbosity='critical')\n",
    "# result = Parallel(n_jobs=24)(delayed(procpdbchains)(fname) for fname in tqdm(newfnames))\n",
    "# print(len(result))"
   ]
  },
  {
   "cell_type": "code",
   "execution_count": null,
   "id": "f892e476-68ee-4327-8636-0aef3b744150",
   "metadata": {},
   "outputs": [],
   "source": []
  },
  {
   "cell_type": "code",
   "execution_count": 88,
   "id": "a4f6afef-8ad5-48a8-bd72-4c7129f0d119",
   "metadata": {},
   "outputs": [
    {
     "data": {
      "text/plain": [
       "'covidab_pdb_rbd_p4_1.json'"
      ]
     },
     "execution_count": 88,
     "metadata": {},
     "output_type": "execute_result"
    }
   ],
   "source": [
    "outfile4"
   ]
  },
  {
   "cell_type": "code",
   "execution_count": 89,
   "id": "f1206ea6-cf2b-4ec6-bd09-8c4839e3e314",
   "metadata": {},
   "outputs": [],
   "source": [
    "def strdiff(str1, str2):\n",
    "    if len(str1) != len(str2):\n",
    "        return 50\n",
    "    else:\n",
    "        res = 0\n",
    "        for b, c in zip(str1, str2):\n",
    "            if b!=c:\n",
    "                res+=1\n",
    "        return res\n",
    "        \n",
    "def cdrdiff(cdr1, cdr2):\n",
    "    res = 0\n",
    "    for s1, s2 in zip(cdr1, cdr2):\n",
    "        res += strdiff(s1, s2)\n",
    "    return res"
   ]
  },
  {
   "cell_type": "code",
   "execution_count": 90,
   "id": "ebea44e1-2124-441a-bd98-172b5c8fd2e7",
   "metadata": {},
   "outputs": [],
   "source": [
    "def pairseq_mat(gvecs):\n",
    "    Yv = np.vstack(gvecs['cont_rbd'].to_numpy())\n",
    "    Xv = []\n",
    "    for cdr in ('CDRH1', 'CDRH2', 'CDRH3', 'CDRL1', 'CDRL2', 'CDRL3'):\n",
    "        Xv.append(gvecs[cdr].to_list())\n",
    "    N = len(gvecs)\n",
    "    vdistmat = np.zeros((N, N))\n",
    "    X_, Y_ = [], []\n",
    "    ind = []\n",
    "\n",
    "    for i in range(N):\n",
    "        a1 = Yv[i]\n",
    "        x1 = [Xv[x][i] for x in range(6)]\n",
    "        for j in range(i):\n",
    "            a2 = Yv[j]\n",
    "            x2 = [Xv[x][j] for x in range(6)]\n",
    "            dg1 = np.linalg.norm(a2-a1)\n",
    "            vdistmat[i, j] = dg1\n",
    "            vdistmat[j, i] = dg1\n",
    "            X_.append(cdrdiff(x1, x2))\n",
    "            Y_.append(vdistmat[i, j])\n",
    "            ind.append((i, j))\n",
    "\n",
    "    return X_, Y_, ind"
   ]
  },
  {
   "cell_type": "code",
   "execution_count": 91,
   "id": "6e47b294-d279-468f-8462-a6c36d406bd4",
   "metadata": {},
   "outputs": [
    {
     "data": {
      "text/plain": [
       "(0.0, 20.0)"
      ]
     },
     "execution_count": 91,
     "metadata": {},
     "output_type": "execute_result"
    },
    {
     "data": {
      "image/png": "[encoded data removed]",
      "text/plain": [
       "<Figure size 640x480 with 1 Axes>"
      ]
     },
     "metadata": {},
     "output_type": "display_data"
    }
   ],
   "source": [
    "X_, Y_, ind =pairseq_mat(gvecs)\n",
    "plt.scatter(X_, Y_)\n",
    "plt.xlim((0, 20))"
   ]
  },
  {
   "cell_type": "code",
   "execution_count": 92,
   "id": "82eab13c-8fe9-4e39-86fe-e3149be5a0a5",
   "metadata": {},
   "outputs": [
    {
     "data": {
      "text/plain": [
       "(0.0, 100.0)"
      ]
     },
     "execution_count": 92,
     "metadata": {},
     "output_type": "execute_result"
    },
    {
     "data": {
      "image/png": "[encoded data removed]",
      "text/plain": [
       "<Figure size 640x480 with 1 Axes>"
      ]
     },
     "metadata": {},
     "output_type": "display_data"
    }
   ],
   "source": [
    "plt.hist(X_, bins=100)\n",
    "plt.xlim((0, 20))\n",
    "plt.ylim((0, 100))"
   ]
  },
  {
   "cell_type": "code",
   "execution_count": 93,
   "id": "03c1f9d4-20e7-41ec-8a6e-7b0489e76627",
   "metadata": {},
   "outputs": [
    {
     "name": "stdout",
     "output_type": "stream",
     "text": [
      "[(1, 4), (2, 7), (3, 3), (4, 7), (5, 16), (6, 12), (7, 16), (8, 39), (9, 34), (10, 34), (11, 31), (12, 32), (13, 30), (14, 20), (15, 24), (16, 31), (17, 28), (18, 28), (19, 24), (20, 17), (21, 11), (22, 15), (23, 19), (24, 16), (25, 25), (26, 28), (27, 36), (28, 44), (29, 48), (30, 43), (31, 30), (32, 32), (33, 22), (34, 19), (35, 14), (36, 3), (37, 5), (38, 5), (39, 1), (40, 1), (41, 3), (43, 1), (51, 5), (52, 12), (53, 30), (54, 39), (55, 64), (56, 82), (57, 86), (58, 118), (59, 137), (60, 207), (61, 239), (62, 305), (63, 316), (64, 394), (65, 380), (66, 469), (67, 498), (68, 540), (69, 505), (70, 451), (71, 352), (72, 320), (73, 263), (74, 207), (75, 233), (76, 202), (77, 203), (78, 199), (79, 173), (80, 145), (81, 89), (82, 53), (83, 45), (84, 35), (85, 33), (86, 17), (87, 13), (88, 11), (89, 3), (90, 2), (91, 2), (92, 1), (100, 7), (101, 29), (102, 66), (103, 111), (104, 174), (105, 227), (106, 302), (107, 371), (108, 499), (109, 658), (110, 836), (111, 1083), (112, 1385), (113, 1727), (114, 2275), (115, 2471), (116, 2457), (117, 2201), (118, 1845), (119, 1481), (120, 1210), (121, 1048), (122, 829), (123, 586), (124, 478), (125, 350), (126, 220), (127, 183), (128, 110), (129, 104), (130, 65), (131, 26), (132, 18), (133, 10), (134, 4), (135, 1), (137, 1), (139, 1), (141, 1), (150, 8), (151, 63), (152, 189), (153, 352), (154, 542), (155, 877), (156, 1226), (157, 1721), (158, 2421), (159, 3039), (160, 4100), (161, 5178), (162, 5432), (163, 4946), (164, 3533), (165, 2251), (166, 1349), (167, 858), (168, 623), (169, 416), (170, 283), (171, 145), (172, 96), (173, 49), (174, 41), (175, 25), (176, 20), (177, 14), (178, 9), (179, 2), (180, 3), (181, 2), (183, 3), (184, 1), (200, 28), (201, 86), (202, 190), (203, 515), (204, 1171), (205, 2692), (206, 4119), (207, 5363), (208, 4696), (209, 3090), (210, 1775), (211, 947), (212, 312), (213, 209), (214, 184), (215, 97), (216, 55), (217, 46), (218, 44), (219, 30), (220, 17), (221, 6), (222, 4), (223, 4), (224, 3), (225, 1), (250, 50), (251, 630), (252, 2589), (253, 2957), (254, 118), (255, 104), (256, 104), (257, 61), (258, 28), (259, 10), (260, 2), (261, 1), (262, 1), (265, 1), (267, 4), (300, 83)]\n"
     ]
    }
   ],
   "source": [
    "count = Counter(X_)\n",
    "print(sorted(count.items()))\n"
   ]
  },
  {
   "cell_type": "code",
   "execution_count": 94,
   "id": "bbd8d640-4cc8-4343-9e8a-f665a093620f",
   "metadata": {},
   "outputs": [
    {
     "name": "stdout",
     "output_type": "stream",
     "text": [
      "[(9, 5.42336568541167, (174, 160))]\n"
     ]
    }
   ],
   "source": [
    "print([(x, y, ind[i]) for i, (x, y) in enumerate(zip(X_, Y_)) if (x <= 10) and (y>=5) ])"
   ]
  },
  {
   "cell_type": "code",
   "execution_count": 95,
   "id": "9bf291d0-0024-479c-bdd1-ed9517c9a121",
   "metadata": {},
   "outputs": [
    {
     "name": "stdout",
     "output_type": "stream",
     "text": [
      "index                                                     926\n",
      "H                                                           H\n",
      "L                                                           L\n",
      "R                                                           B\n",
      "Wsum                                                       70\n",
      "Wrh                                                        64\n",
      "Wrl                                                         6\n",
      "Whl                                                       175\n",
      "CDRH3                                       ARDRVLYGRSFGWYFDV\n",
      "CDRL3                                                QQYDNLPT\n",
      "pdbid                                                    7UPY\n",
      "Heavy       QVQLVQSGAEVKKPGASVKVSCKASGYTFTGTYIHWVRQAPGQGLE...\n",
      "Light       DIQMTQSPSSLSASVGDRVTITCQASQDISDYLNWYQQQPGKAPKL...\n",
      "CDRL1                                                  QDISDY\n",
      "CDRL2                                                     DAS\n",
      "CDRH1                                                GYTFTGTY\n",
      "CDRH2                                                INPNSGGT\n",
      "pdbid_y                                                  7UPY\n",
      "chids                                               (H, L, B)\n",
      "ace2                                                        0\n",
      "cont        [339, 340, 343, 344, 345, 346, 440, 441, 442, ...\n",
      "cont_cdr    [-6.501521472293978, -8.713910769087303, 15.75...\n",
      "cont_rbd    [-2.7526206668905466, -8.584741756085828, 12.5...\n",
      "ab_ca       [-18.125333333333334, -14.883098290598289, 23....\n",
      "RBD         CPFGEVFNATRFASVYAWNRKRISNCVADYSVLYNSASFSTFKCYG...\n",
      "keep                                                     True\n",
      "eCDRH1      [0.08217543, 0.18284826, -0.13458686, 0.009554...\n",
      "eCDRH2      [0.08929641, -0.07398147, -0.090262346, 0.0118...\n",
      "eCDRH3      [0.13116883, -0.011308904, 0.119528085, -0.030...\n",
      "eCDRL1      [0.11920279, 0.1268914, -0.029809779, -0.00185...\n",
      "eCDRL2      [0.14331065, 0.22667044, 0.11090183, -0.002780...\n",
      "eCDRL3      [0.05644914, 0.16918033, 0.0391557, -0.1517175...\n",
      "eCDRH       [0.08217543, 0.18284826, -0.13458686, 0.009554...\n",
      "eCDRL       [0.11920279, 0.1268914, -0.029809779, -0.00185...\n",
      "eCDRHL      [0.08217543, 0.18284826, -0.13458686, 0.009554...\n",
      "eCDRHL3     [0.13116883, -0.011308904, 0.119528085, -0.030...\n",
      "Name                                               7UPY_H_L_B\n",
      "Name: 926, dtype: object index                                                     896\n",
      "H                                                           H\n",
      "L                                                           L\n",
      "R                                                           A\n",
      "Wsum                                                       33\n",
      "Wrh                                                        31\n",
      "Wrl                                                         2\n",
      "Whl                                                       109\n",
      "CDRH3                                     AHSLFLTVGYSSSWSPFDY\n",
      "CDRL3                                               QQYYSTPHT\n",
      "pdbid                                                    7D0B\n",
      "Heavy       QITLKESGPTLVKPTQTLTLTCTFSGFSLSTSGVGVGWIRQPPGKA...\n",
      "Light       DIVMTQSPDSLAVSLGERATINCKSSQSVLYSSNNKNYLAWYQQKP...\n",
      "CDRL1                                            QSVLYSSNNKNY\n",
      "CDRL2                                                     WAS\n",
      "CDRH1                                              GFSLSTSGVG\n",
      "CDRH2                                                 IYWDDDK\n",
      "pdbid_y                                                  7D0B\n",
      "chids                                               (H, L, A)\n",
      "ace2                                                        1\n",
      "cont                 [417, 456, 483, 484, 485, 486, 489, 493]\n",
      "cont_cdr    [-0.3562589380590475, -26.306742774433854, -13...\n",
      "cont_rbd    [-1.4112243794153756, -23.820637968766672, -14...\n",
      "ab_ca       [12.673147058823528, -36.00186974789916, -9.49...\n",
      "RBD         CPFGEVFNATRFASVYAWNRKRISNCVADYSVLYNSASFSTFKCYG...\n",
      "keep                                                     True\n",
      "eCDRH1      [0.15478298, 0.004082395, -0.17878172, 0.09984...\n",
      "eCDRH2      [0.04816971, 0.11815565, 0.14165124, -0.160989...\n",
      "eCDRH3      [0.048503406, 0.11185054, -0.018301433, 0.0428...\n",
      "eCDRL1      [0.001709193, 0.022544643, -0.0036383253, -0.0...\n",
      "eCDRL2      [0.053278465, 0.26684245, -0.024135947, -0.050...\n",
      "eCDRL3      [0.09000979, 0.24665846, 0.01845453, -0.089868...\n",
      "eCDRH       [0.15478298, 0.004082395, -0.17878172, 0.09984...\n",
      "eCDRL       [0.001709193, 0.022544643, -0.0036383253, -0.0...\n",
      "eCDRHL      [0.15478298, 0.004082395, -0.17878172, 0.09984...\n",
      "eCDRHL3     [0.048503406, 0.11185054, -0.018301433, 0.0428...\n",
      "Name                                               7D0B_H_L_A\n",
      "Name: 896, dtype: object\n"
     ]
    }
   ],
   "source": [
    "print(gvecs.iloc[422], gvecs.iloc[396])"
   ]
  },
  {
   "cell_type": "code",
   "execution_count": 96,
   "id": "759e2178-a4bd-4974-88ca-8bbb602eea5a",
   "metadata": {},
   "outputs": [
    {
     "name": "stdout",
     "output_type": "stream",
     "text": [
      "index                                                     679\n",
      "H                                                           A\n",
      "L                                                           B\n",
      "R                                                           C\n",
      "Wsum                                                       93\n",
      "Wrh                                                        78\n",
      "Wrl                                                        15\n",
      "Whl                                                       159\n",
      "CDRH3                                      AESPLGGGSGYSVSWFDP\n",
      "CDRL3                                              QQYSNWPPWT\n",
      "pdbid                                                    7DK0\n",
      "Heavy       EVQLVQSGAEVKKPGSSVKVSCKASGGTFSSYAISWVRQAPGQGLE...\n",
      "Light       EIVMTQSPATLSVSPGERATLSCRASQSVSSNLAWYQQKPGQAPRL...\n",
      "CDRL1                                                  QSVSSN\n",
      "CDRL2                                                     GAS\n",
      "CDRH1                                                GGTFSSYA\n",
      "CDRH2                                                IIPIFGSS\n",
      "pdbid_y                                                  7DK0\n",
      "chids                                               (A, B, C)\n",
      "ace2                                                        1\n",
      "cont        [351, 444, 445, 446, 449, 450, 452, 453, 455, ...\n",
      "cont_cdr    [-3.229823451065277, -21.490386368536402, -4.7...\n",
      "cont_rbd    [-2.426084234424461, -19.092725416035535, -4.4...\n",
      "ab_ca       [-5.695400843881859, -35.03218565400841, 1.033...\n",
      "RBD         CPFGEVFNATRFASVYAWNRKRISNCVADYSVLYNSASFSTFKCYG...\n",
      "keep                                                     True\n",
      "eCDRH1      [0.14523627, 0.09296249, -0.136538, 0.02477423...\n",
      "eCDRH2      [-0.028040629, 0.17071517, -0.11180684, -0.091...\n",
      "eCDRH3      [0.237312, -0.10868376, -0.09878613, -0.021736...\n",
      "eCDRL1      [0.14064482, 0.1306485, -0.113879055, 0.002393...\n",
      "eCDRL2      [0.25020182, -0.0140618235, -0.09115863, 0.102...\n",
      "eCDRL3      [0.12716351, 0.22355977, -0.027286435, -0.0692...\n",
      "eCDRH       [0.14523627, 0.09296249, -0.136538, 0.02477423...\n",
      "eCDRL       [0.14064482, 0.1306485, -0.113879055, 0.002393...\n",
      "eCDRHL      [0.14523627, 0.09296249, -0.136538, 0.02477423...\n",
      "eCDRHL3     [0.237312, -0.10868376, -0.09878613, -0.021736...\n",
      "Name                                               7DK0_A_B_C\n",
      "Name: 679, dtype: object index                                                     287\n",
      "H                                                           H\n",
      "L                                                           L\n",
      "R                                                           A\n",
      "Wsum                                                       48\n",
      "Wrh                                                        37\n",
      "Wrl                                                        11\n",
      "Whl                                                        86\n",
      "CDRH3                                        AAPYCSSTSCHDAFDI\n",
      "CDRL3                                               QQYGSSPWT\n",
      "pdbid                                                    7SWN\n",
      "Heavy       QVQLVQSGPEVKKPGTSVKVSCKASGFTFTSSAVQWVRQARGQRLE...\n",
      "Light       EIVLTQSPGTLSLSPGERATLSCRASQSVSSSYLAWYQQKPGQAPR...\n",
      "CDRL1                                                 QSVSSSY\n",
      "CDRL2                                                     GAS\n",
      "CDRH1                                                GFTFTSSA\n",
      "CDRH2                                                IVVGSGNT\n",
      "pdbid_y                                                  7SWN\n",
      "chids                                               (H, L, A)\n",
      "ace2                                                        1\n",
      "cont        [417, 455, 456, 475, 477, 478, 479, 480, 486, ...\n",
      "cont_cdr    [3.971712296636361, -22.255581329392054, -17.9...\n",
      "cont_rbd    [0.20840340847733274, -20.630333155902917, -17...\n",
      "ab_ca       [9.216021929824565, -34.46180263157893, -20.65...\n",
      "RBD         CPFGEVFNATRFASVYAWNRKRISNCVADYSVLYNSASFSTFKCYG...\n",
      "keep                                                     True\n",
      "eCDRH1      [0.098106384, 0.18801521, -0.1680939, 0.037281...\n",
      "eCDRH2      [0.16712219, -0.06733817, -0.09530659, 0.05201...\n",
      "eCDRH3      [-0.09267761, 0.20812313, 0.03563392, 0.056334...\n",
      "eCDRL1      [0.1403914, 0.14130382, -0.097459026, -0.01307...\n",
      "eCDRL2      [0.24381185, -0.007823393, -0.08813866, 0.1018...\n",
      "eCDRL3      [0.08812629, 0.08619362, -0.07731766, -0.04344...\n",
      "eCDRH       [0.098106384, 0.18801521, -0.1680939, 0.037281...\n",
      "eCDRL       [0.1403914, 0.14130382, -0.097459026, -0.01307...\n",
      "eCDRHL      [0.098106384, 0.18801521, -0.1680939, 0.037281...\n",
      "eCDRHL3     [-0.09267761, 0.20812313, 0.03563392, 0.056334...\n",
      "Name                                               7SWN_H_L_A\n",
      "Name: 287, dtype: object\n"
     ]
    }
   ],
   "source": [
    "print(gvecs.iloc[266], gvecs.iloc[92])"
   ]
  },
  {
   "cell_type": "code",
   "execution_count": 97,
   "id": "774a714d-0a85-4a5c-b0b9-fd0f63b07b2e",
   "metadata": {},
   "outputs": [
    {
     "name": "stdout",
     "output_type": "stream",
     "text": [
      "index                                                      59\n",
      "H                                                           H\n",
      "L                                                           L\n",
      "R                                                           A\n",
      "Wsum                                                       87\n",
      "Wrh                                                        78\n",
      "Wrl                                                         9\n",
      "Whl                                                       151\n",
      "CDRH3                                    ARELYYYDRSGYYVHDGFDI\n",
      "CDRL3                                               QQYNTYPWT\n",
      "pdbid                                                    8SIR\n",
      "Heavy       QVQLQESGPGLVKPSETLSLTCTVSGGSVSSHNFHWSWIRQPPGKG...\n",
      "Light       DIQMTQSPSTLSASVGDSVSITCRASQSISSWLAWYQQKPGTAPKL...\n",
      "CDRL1                                                  QSISSW\n",
      "CDRL2                                                     KAS\n",
      "CDRH1                                              GGSVSSHNFH\n",
      "CDRH2                                      IYYSGSTIHSPSLKSRTT\n",
      "pdbid_y                                                  8SIR\n",
      "chids                                               (H, L, A)\n",
      "ace2                                                        0\n",
      "cont        [369, 370, 371, 372, 374, 377, 378, 379, 380, ...\n",
      "cont_cdr    [13.124232118863356, 9.216099225776258, -2.319...\n",
      "cont_rbd    [9.028553511328738, 9.629623159087577, -0.0482...\n",
      "ab_ca       [28.80900829875522, 6.575165975103737, -8.1554...\n",
      "RBD         CPFGEVFNATRFASVYAWNRKRISNCVADYSVLYNSASFSTFKCYG...\n",
      "keep                                                     True\n",
      "eCDRH1      [0.26725766, -0.020760244, -0.20754178, 0.0848...\n",
      "eCDRH2      [-0.027945645, 0.091660514, -0.016595228, -0.0...\n",
      "eCDRH3      [0.07139655, 0.022972813, 0.06728639, -0.06027...\n",
      "eCDRL1      [0.18752272, 0.22755615, -0.059182316, -0.0292...\n",
      "eCDRL2      [-0.01686187, 0.15798935, 0.1513608, -0.078054...\n",
      "eCDRL3      [0.058371928, 0.26005208, -0.01784169, -0.1362...\n",
      "eCDRH       [0.26725766, -0.020760244, -0.20754178, 0.0848...\n",
      "eCDRL       [0.18752272, 0.22755615, -0.059182316, -0.0292...\n",
      "eCDRHL      [0.26725766, -0.020760244, -0.20754178, 0.0848...\n",
      "eCDRHL3     [0.07139655, 0.022972813, 0.06728639, -0.06027...\n",
      "Name                                               8SIR_H_L_A\n",
      "Name: 59, dtype: object index                                                     345\n",
      "H                                                           C\n",
      "L                                                           D\n",
      "R                                                           B\n",
      "Wsum                                                      110\n",
      "Wrh                                                        86\n",
      "Wrl                                                        24\n",
      "Whl                                                       181\n",
      "CDRH3                                           ARVLPMYGDYLDY\n",
      "CDRL3                                             QQSYSTPPEYT\n",
      "pdbid                                                    7C01\n",
      "Heavy       EVQLVESGGGLVQPGGSLRLSCAASGFTVSSNYMSWVRQAPGKGLE...\n",
      "Light       DIVMTQSPSSLSASVGDRVTITCRASQSISRYLNWYQQKPGKAPKL...\n",
      "CDRL1                                                  QSISRY\n",
      "CDRL2                                                     AAS\n",
      "CDRH1                                                GFTVSSNY\n",
      "CDRH2                                                 IYSGGST\n",
      "pdbid_y                                                  7C01\n",
      "chids                                               (C, D, B)\n",
      "ace2                                                        1\n",
      "cont        [403, 405, 406, 408, 409, 415, 416, 417, 420, ...\n",
      "cont_cdr    [7.118368719969575, -15.023686533173494, -12.0...\n",
      "cont_rbd    [5.370765539984394, -11.974951698791818, -9.83...\n",
      "ab_ca       [19.381866379310352, -22.370051724137937, -14....\n",
      "RBD         CPFGEVFNATRFASVYAWNRKRISNCVADYSVLYNSASFSTFKCYG...\n",
      "keep                                                     True\n",
      "eCDRH1      [0.12611598, 0.036549777, -0.19641465, 0.01967...\n",
      "eCDRH2      [0.3001973, 0.14254633, -0.22602436, 0.0170189...\n",
      "eCDRH3      [-0.027599355, 0.06637586, 0.045430835, -0.135...\n",
      "eCDRL1      [0.13772003, 0.18541592, -0.059570644, -0.0732...\n",
      "eCDRL2      [0.17918062, 0.17175645, 0.1042977, 0.01689171...\n",
      "eCDRL3      [0.09502695, 0.20277828, -0.02046212, 0.001011...\n",
      "eCDRH       [0.12611598, 0.036549777, -0.19641465, 0.01967...\n",
      "eCDRL       [0.13772003, 0.18541592, -0.059570644, -0.0732...\n",
      "eCDRHL      [0.12611598, 0.036549777, -0.19641465, 0.01967...\n",
      "eCDRHL3     [-0.027599355, 0.06637586, 0.045430835, -0.135...\n",
      "Name                                               7C01_C_D_B\n",
      "Name: 345, dtype: object\n"
     ]
    }
   ],
   "source": [
    "print(gvecs.iloc[19], gvecs.iloc[115])"
   ]
  },
  {
   "cell_type": "code",
   "execution_count": 98,
   "id": "c1b48749-25ae-467a-83c6-d2cc7972e1b1",
   "metadata": {},
   "outputs": [],
   "source": [
    "def seqH(seq, cdr1, cdr3):\n",
    "    ind1 = seq.find(cdr1) - 23\n",
    "    ind2 = seq.find(cdr3) + len(cdr3) + 7\n",
    "    return seq[ind1:ind2+1]\n",
    "\n",
    "def seqL(seq, cdr1, cdr3):\n",
    "    ind1 = seq.find(cdr1) - 9\n",
    "    ind2 = seq.find(cdr3) + len(cdr3) + 7\n",
    "    return seq[ind1:ind2+1]\n",
    "    \n",
    "def seqdiff(df1, df2):\n",
    "    seqH1 = seqH(df1.Heavy, df1.CDRH1, df1.CDRH3)\n",
    "    seqH2 = seqH(df2.Heavy, df2.CDRH1, df2.CDRH3)\n",
    "    seqL1 = seqL(df1.Light, df1.CDRL1, df1.CDRL3)\n",
    "    seqL2 = seqL(df2.Light, df2.CDRL1, df2.CDRL3)\n",
    "    return strdiff(seqH1, seqH2) + strdiff(seqL1, seqL2)"
   ]
  },
  {
   "cell_type": "code",
   "execution_count": 99,
   "id": "09146ab8-2b9b-40e7-8bfb-dff628a15e2a",
   "metadata": {},
   "outputs": [],
   "source": [
    "def allseq_mat(gvecs):\n",
    "    Yv = np.vstack(gvecs['cont_rbd'].to_numpy())\n",
    "    N = len(gvecs)\n",
    "    vdistmat = np.zeros((N, N))\n",
    "    X_, Y_ = [], []\n",
    "    ind = []\n",
    "\n",
    "    for i in range(N):\n",
    "        a1 = Yv[i]\n",
    "        df1 = gvecs.iloc[i]\n",
    "        for j in range(i):\n",
    "            a2 = Yv[j]\n",
    "            df2 = gvecs.iloc[j]\n",
    "            dg1 = np.linalg.norm(a2-a1)\n",
    "            vdistmat[i, j] = dg1\n",
    "            vdistmat[j, i] = dg1\n",
    "            X_.append(seqdiff(df1, df2))\n",
    "            Y_.append(vdistmat[i, j])\n",
    "            ind.append((i, j))\n",
    "\n",
    "    return X_, Y_, ind"
   ]
  },
  {
   "cell_type": "code",
   "execution_count": 100,
   "id": "76cfae21-6e85-48d2-bcf1-0bf42544c4a4",
   "metadata": {},
   "outputs": [],
   "source": [
    "X_, Y_, ind = allseq_mat(gvecs)\n"
   ]
  },
  {
   "cell_type": "code",
   "execution_count": 101,
   "id": "73a769c1-8cb8-437c-82ef-d0a995932a49",
   "metadata": {},
   "outputs": [
    {
     "data": {
      "text/plain": [
       "(0.0, 30.0)"
      ]
     },
     "execution_count": 101,
     "metadata": {},
     "output_type": "execute_result"
    },
    {
     "data": {
      "image/png": "[encoded data removed]",
      "text/plain": [
       "<Figure size 640x480 with 1 Axes>"
      ]
     },
     "metadata": {},
     "output_type": "display_data"
    }
   ],
   "source": [
    "plt.scatter(X_, Y_)\n",
    "plt.xlim((0, 30))"
   ]
  },
  {
   "cell_type": "code",
   "execution_count": 102,
   "id": "070dc3c1-0769-48a7-9a9a-c44a706e90f8",
   "metadata": {},
   "outputs": [
    {
     "data": {
      "text/plain": [
       "(array([1.0000e+00, 3.0000e+00, 0.0000e+00, 1.0000e+00, 5.0000e+00,\n",
       "        0.0000e+00, 6.0000e+00, 0.0000e+00, 4.0000e+00, 5.0000e+00,\n",
       "        0.0000e+00, 6.0000e+00, 0.0000e+00, 1.3000e+01, 9.0000e+00,\n",
       "        0.0000e+00, 5.0000e+00, 0.0000e+00, 1.0000e+01, 1.1000e+01,\n",
       "        0.0000e+00, 1.4000e+01, 0.0000e+00, 1.2000e+01, 1.2000e+01,\n",
       "        0.0000e+00, 1.5000e+01, 0.0000e+00, 1.1000e+01, 1.6000e+01,\n",
       "        0.0000e+00, 1.2000e+01, 1.0000e+01, 0.0000e+00, 1.1000e+01,\n",
       "        0.0000e+00, 2.5000e+01, 1.8000e+01, 0.0000e+00, 2.2000e+01,\n",
       "        0.0000e+00, 2.2000e+01, 1.7000e+01, 0.0000e+00, 1.4000e+01,\n",
       "        0.0000e+00, 1.2000e+01, 1.4000e+01, 0.0000e+00, 1.1000e+01,\n",
       "        0.0000e+00, 1.4000e+01, 8.0000e+00, 0.0000e+00, 9.0000e+00,\n",
       "        0.0000e+00, 1.3000e+01, 1.0000e+01, 0.0000e+00, 7.0000e+00,\n",
       "        1.0000e+01, 0.0000e+00, 9.0000e+00, 0.0000e+00, 1.1000e+01,\n",
       "        1.2000e+01, 0.0000e+00, 5.0000e+00, 0.0000e+00, 1.1000e+01,\n",
       "        1.1000e+01, 0.0000e+00, 1.6000e+01, 0.0000e+00, 1.6000e+01,\n",
       "        1.4000e+01, 0.0000e+00, 7.0000e+00, 0.0000e+00, 1.3000e+01,\n",
       "        1.2000e+01, 0.0000e+00, 5.2000e+01, 0.0000e+00, 8.3000e+01,\n",
       "        1.1000e+02, 0.0000e+00, 1.6800e+02, 0.0000e+00, 1.7700e+02,\n",
       "        1.9700e+02, 0.0000e+00, 2.8500e+02, 3.1900e+02, 0.0000e+00,\n",
       "        3.2100e+02, 0.0000e+00, 4.1100e+02, 4.4100e+02, 0.0000e+00,\n",
       "        5.4900e+02, 0.0000e+00, 5.1500e+02, 5.8400e+02, 0.0000e+00,\n",
       "        6.5400e+02, 0.0000e+00, 6.4700e+02, 6.2500e+02, 0.0000e+00,\n",
       "        5.9900e+02, 0.0000e+00, 6.1500e+02, 5.6300e+02, 0.0000e+00,\n",
       "        5.5200e+02, 0.0000e+00, 4.8600e+02, 4.0900e+02, 0.0000e+00,\n",
       "        4.3100e+02, 4.0400e+02, 0.0000e+00, 3.6300e+02, 0.0000e+00,\n",
       "        3.7100e+02, 3.0500e+02, 0.0000e+00, 3.2200e+02, 0.0000e+00,\n",
       "        2.5600e+02, 2.8200e+02, 0.0000e+00, 2.8100e+02, 0.0000e+00,\n",
       "        2.1200e+02, 1.8300e+02, 0.0000e+00, 1.9300e+02, 0.0000e+00,\n",
       "        1.4600e+02, 1.4200e+02, 0.0000e+00, 1.4000e+02, 0.0000e+00,\n",
       "        1.1600e+02, 1.0300e+02, 0.0000e+00, 7.4000e+01, 0.0000e+00,\n",
       "        9.2000e+01, 9.4000e+01, 0.0000e+00, 9.0000e+01, 1.2700e+02,\n",
       "        0.0000e+00, 1.4900e+02, 0.0000e+00, 1.5700e+02, 1.2900e+02,\n",
       "        0.0000e+00, 9.1000e+01, 0.0000e+00, 8.0813e+04, 9.1000e+01,\n",
       "        0.0000e+00, 8.0000e+01, 0.0000e+00, 7.8000e+01, 8.5000e+01,\n",
       "        0.0000e+00, 1.0700e+02, 0.0000e+00, 1.3700e+02, 1.6600e+02,\n",
       "        0.0000e+00, 1.9500e+02, 0.0000e+00, 2.2600e+02, 2.1000e+02,\n",
       "        0.0000e+00, 2.8400e+02, 3.4500e+02, 0.0000e+00, 3.7900e+02,\n",
       "        0.0000e+00, 3.7100e+02, 4.5200e+02, 0.0000e+00, 4.1400e+02,\n",
       "        0.0000e+00, 4.9300e+02, 4.2900e+02, 0.0000e+00, 4.0100e+02,\n",
       "        0.0000e+00, 4.0100e+02, 3.9400e+02, 0.0000e+00, 3.4700e+02,\n",
       "        0.0000e+00, 3.1700e+02, 2.7500e+02, 0.0000e+00, 3.1600e+02,\n",
       "        0.0000e+00, 3.1600e+02, 3.5700e+02, 0.0000e+00, 3.0600e+02,\n",
       "        2.5400e+02, 0.0000e+00, 1.9600e+02, 0.0000e+00, 1.2200e+02,\n",
       "        9.1000e+01, 0.0000e+00, 9.7000e+01, 0.0000e+00, 7.4000e+01,\n",
       "        8.9000e+01, 0.0000e+00, 8.3000e+01, 0.0000e+00, 9.3000e+01,\n",
       "        8.8000e+01, 0.0000e+00, 1.0700e+02, 0.0000e+00, 9.0000e+01,\n",
       "        1.0500e+02, 0.0000e+00, 8.2000e+01, 0.0000e+00, 7.8000e+01,\n",
       "        6.1000e+01, 0.0000e+00, 5.4000e+01, 0.0000e+00, 4.2000e+01,\n",
       "        3.1000e+01, 0.0000e+00, 2.2000e+01, 3.8000e+01, 0.0000e+00,\n",
       "        2.9000e+01, 0.0000e+00, 1.8000e+01, 9.0000e+00, 0.0000e+00,\n",
       "        1.2000e+01, 0.0000e+00, 9.0000e+00, 1.1000e+01, 0.0000e+00,\n",
       "        4.0000e+00, 0.0000e+00, 4.0000e+00, 1.3000e+01, 0.0000e+00,\n",
       "        1.0000e+00, 0.0000e+00, 6.0000e+00, 3.0000e+00, 0.0000e+00,\n",
       "        3.0000e+00, 0.0000e+00, 5.0000e+00, 2.0000e+00, 0.0000e+00,\n",
       "        3.0000e+00, 3.0000e+00, 0.0000e+00, 3.0000e+00, 0.0000e+00,\n",
       "        2.0000e+00, 1.0000e+00, 0.0000e+00, 2.0000e+00, 0.0000e+00,\n",
       "        9.0000e+00, 9.0000e+00, 0.0000e+00, 1.0000e+01, 0.0000e+00,\n",
       "        4.0000e+00, 0.0000e+00, 0.0000e+00, 1.0000e+00, 0.0000e+00,\n",
       "        1.0000e+00, 0.0000e+00, 0.0000e+00, 0.0000e+00, 0.0000e+00,\n",
       "        0.0000e+00, 0.0000e+00, 0.0000e+00, 0.0000e+00, 1.0000e+00]),\n",
       " array([  1.        ,   1.60666667,   2.21333333,   2.82      ,\n",
       "          3.42666667,   4.03333333,   4.64      ,   5.24666667,\n",
       "          5.85333333,   6.46      ,   7.06666667,   7.67333333,\n",
       "          8.28      ,   8.88666667,   9.49333333,  10.1       ,\n",
       "         10.70666667,  11.31333333,  11.92      ,  12.52666667,\n",
       "         13.13333333,  13.74      ,  14.34666667,  14.95333333,\n",
       "         15.56      ,  16.16666667,  16.77333333,  17.38      ,\n",
       "         17.98666667,  18.59333333,  19.2       ,  19.80666667,\n",
       "         20.41333333,  21.02      ,  21.62666667,  22.23333333,\n",
       "         22.84      ,  23.44666667,  24.05333333,  24.66      ,\n",
       "         25.26666667,  25.87333333,  26.48      ,  27.08666667,\n",
       "         27.69333333,  28.3       ,  28.90666667,  29.51333333,\n",
       "         30.12      ,  30.72666667,  31.33333333,  31.94      ,\n",
       "         32.54666667,  33.15333333,  33.76      ,  34.36666667,\n",
       "         34.97333333,  35.58      ,  36.18666667,  36.79333333,\n",
       "         37.4       ,  38.00666667,  38.61333333,  39.22      ,\n",
       "         39.82666667,  40.43333333,  41.04      ,  41.64666667,\n",
       "         42.25333333,  42.86      ,  43.46666667,  44.07333333,\n",
       "         44.68      ,  45.28666667,  45.89333333,  46.5       ,\n",
       "         47.10666667,  47.71333333,  48.32      ,  48.92666667,\n",
       "         49.53333333,  50.14      ,  50.74666667,  51.35333333,\n",
       "         51.96      ,  52.56666667,  53.17333333,  53.78      ,\n",
       "         54.38666667,  54.99333333,  55.6       ,  56.20666667,\n",
       "         56.81333333,  57.42      ,  58.02666667,  58.63333333,\n",
       "         59.24      ,  59.84666667,  60.45333333,  61.06      ,\n",
       "         61.66666667,  62.27333333,  62.88      ,  63.48666667,\n",
       "         64.09333333,  64.7       ,  65.30666667,  65.91333333,\n",
       "         66.52      ,  67.12666667,  67.73333333,  68.34      ,\n",
       "         68.94666667,  69.55333333,  70.16      ,  70.76666667,\n",
       "         71.37333333,  71.98      ,  72.58666667,  73.19333333,\n",
       "         73.8       ,  74.40666667,  75.01333333,  75.62      ,\n",
       "         76.22666667,  76.83333333,  77.44      ,  78.04666667,\n",
       "         78.65333333,  79.26      ,  79.86666667,  80.47333333,\n",
       "         81.08      ,  81.68666667,  82.29333333,  82.9       ,\n",
       "         83.50666667,  84.11333333,  84.72      ,  85.32666667,\n",
       "         85.93333333,  86.54      ,  87.14666667,  87.75333333,\n",
       "         88.36      ,  88.96666667,  89.57333333,  90.18      ,\n",
       "         90.78666667,  91.39333333,  92.        ,  92.60666667,\n",
       "         93.21333333,  93.82      ,  94.42666667,  95.03333333,\n",
       "         95.64      ,  96.24666667,  96.85333333,  97.46      ,\n",
       "         98.06666667,  98.67333333,  99.28      ,  99.88666667,\n",
       "        100.49333333, 101.1       , 101.70666667, 102.31333333,\n",
       "        102.92      , 103.52666667, 104.13333333, 104.74      ,\n",
       "        105.34666667, 105.95333333, 106.56      , 107.16666667,\n",
       "        107.77333333, 108.38      , 108.98666667, 109.59333333,\n",
       "        110.2       , 110.80666667, 111.41333333, 112.02      ,\n",
       "        112.62666667, 113.23333333, 113.84      , 114.44666667,\n",
       "        115.05333333, 115.66      , 116.26666667, 116.87333333,\n",
       "        117.48      , 118.08666667, 118.69333333, 119.3       ,\n",
       "        119.90666667, 120.51333333, 121.12      , 121.72666667,\n",
       "        122.33333333, 122.94      , 123.54666667, 124.15333333,\n",
       "        124.76      , 125.36666667, 125.97333333, 126.58      ,\n",
       "        127.18666667, 127.79333333, 128.4       , 129.00666667,\n",
       "        129.61333333, 130.22      , 130.82666667, 131.43333333,\n",
       "        132.04      , 132.64666667, 133.25333333, 133.86      ,\n",
       "        134.46666667, 135.07333333, 135.68      , 136.28666667,\n",
       "        136.89333333, 137.5       , 138.10666667, 138.71333333,\n",
       "        139.32      , 139.92666667, 140.53333333, 141.14      ,\n",
       "        141.74666667, 142.35333333, 142.96      , 143.56666667,\n",
       "        144.17333333, 144.78      , 145.38666667, 145.99333333,\n",
       "        146.6       , 147.20666667, 147.81333333, 148.42      ,\n",
       "        149.02666667, 149.63333333, 150.24      , 150.84666667,\n",
       "        151.45333333, 152.06      , 152.66666667, 153.27333333,\n",
       "        153.88      , 154.48666667, 155.09333333, 155.7       ,\n",
       "        156.30666667, 156.91333333, 157.52      , 158.12666667,\n",
       "        158.73333333, 159.34      , 159.94666667, 160.55333333,\n",
       "        161.16      , 161.76666667, 162.37333333, 162.98      ,\n",
       "        163.58666667, 164.19333333, 164.8       , 165.40666667,\n",
       "        166.01333333, 166.62      , 167.22666667, 167.83333333,\n",
       "        168.44      , 169.04666667, 169.65333333, 170.26      ,\n",
       "        170.86666667, 171.47333333, 172.08      , 172.68666667,\n",
       "        173.29333333, 173.9       , 174.50666667, 175.11333333,\n",
       "        175.72      , 176.32666667, 176.93333333, 177.54      ,\n",
       "        178.14666667, 178.75333333, 179.36      , 179.96666667,\n",
       "        180.57333333, 181.18      , 181.78666667, 182.39333333,\n",
       "        183.        ]),\n",
       " <BarContainer object of 300 artists>)"
      ]
     },
     "execution_count": 102,
     "metadata": {},
     "output_type": "execute_result"
    },
    {
     "data": {
      "image/png": "[encoded data removed]",
      "text/plain": [
       "<Figure size 640x480 with 1 Axes>"
      ]
     },
     "metadata": {},
     "output_type": "display_data"
    }
   ],
   "source": [
    "plt.hist(X_, bins=300)"
   ]
  },
  {
   "cell_type": "code",
   "execution_count": 103,
   "id": "87750ee7-bbdd-4fc0-9576-8a61b7ab5fd0",
   "metadata": {},
   "outputs": [
    {
     "name": "stdout",
     "output_type": "stream",
     "text": [
      "[(1, 1), (2, 3), (3, 1), (4, 5), (5, 6), (6, 4), (7, 5), (8, 6), (9, 13), (10, 9), (11, 5), (12, 10), (13, 11), (14, 14), (15, 12), (16, 12), (17, 15), (18, 11), (19, 16), (20, 12), (21, 10), (22, 11), (23, 25), (24, 18), (25, 22), (26, 22), (27, 17), (28, 14), (29, 12), (30, 14), (31, 11), (32, 14), (33, 8), (34, 9), (35, 13), (36, 10), (37, 7), (38, 10), (39, 9), (40, 11), (41, 12), (42, 5), (43, 11), (44, 11), (45, 16), (46, 16), (47, 14), (48, 7), (49, 13), (50, 12), (51, 52), (52, 83), (53, 110), (54, 168), (55, 177), (56, 197), (57, 285), (58, 319), (59, 321), (60, 411), (61, 441), (62, 549), (63, 515), (64, 584), (65, 654), (66, 647), (67, 625), (68, 599), (69, 615), (70, 563), (71, 552), (72, 486), (73, 409), (74, 431), (75, 404), (76, 363), (77, 371), (78, 305), (79, 322), (80, 256), (81, 282), (82, 281), (83, 212), (84, 183), (85, 193), (86, 146), (87, 142), (88, 140), (89, 116), (90, 103), (91, 74), (92, 92), (93, 94), (94, 90), (95, 127), (96, 149), (97, 157), (98, 129), (99, 91), (100, 80813), (101, 91), (102, 80), (103, 78), (104, 85), (105, 107), (106, 137), (107, 166), (108, 195), (109, 226), (110, 210), (111, 284), (112, 345), (113, 379), (114, 371), (115, 452), (116, 414), (117, 493), (118, 429), (119, 401), (120, 401), (121, 394), (122, 347), (123, 317), (124, 275), (125, 316), (126, 316), (127, 357), (128, 306), (129, 254), (130, 196), (131, 122), (132, 91), (133, 97), (134, 74), (135, 89), (136, 83), (137, 93), (138, 88), (139, 107), (140, 90), (141, 105), (142, 82), (143, 78), (144, 61), (145, 54), (146, 42), (147, 31), (148, 22), (149, 38), (150, 29), (151, 18), (152, 9), (153, 12), (154, 9), (155, 11), (156, 4), (157, 4), (158, 13), (159, 1), (160, 6), (161, 3), (162, 3), (163, 5), (164, 2), (165, 3), (166, 3), (167, 3), (168, 2), (169, 1), (170, 2), (171, 9), (172, 9), (173, 10), (174, 4), (176, 1), (177, 1), (183, 1)]\n"
     ]
    }
   ],
   "source": [
    "print(sorted(Counter(X_).items()))"
   ]
  },
  {
   "cell_type": "code",
   "execution_count": 105,
   "id": "3edc9368-770e-4a79-b2c7-48b5a70811b7",
   "metadata": {},
   "outputs": [],
   "source": [
    "# Try to find Ab's name in pdb file\n",
    "nonamedb = gvecs[gvecs.Name.str[:4] == gvecs.pdbid]"
   ]
  },
  {
   "cell_type": "code",
   "execution_count": 164,
   "id": "226d18a2-f85e-4e87-aa61-339818752228",
   "metadata": {},
   "outputs": [],
   "source": [
    "# Extract AB name from pdb header\n",
    "\n",
    "def abname_frommolname(name1):\n",
    "    name = name1.upper().replace('CHIAN', 'CHAIN').replace('ANITBODY', 'ANTIBODY').replace('LIGNT', 'LIGHT')\n",
    "\n",
    "    word = re.split(r'[,\\n? )(]+', name)\n",
    "    if len(word) == 1:\n",
    "        outname = name\n",
    "    elif len(word) == 2 and word[0] in ('FAB', 'ANTIBODY', 'IG', 'IGL', 'SCFV'):\n",
    "        outname = word[1]\n",
    "    elif \"PDI\" in word:\n",
    "        ind = word.index('PDI')\n",
    "        if len(word)>ind+1:\n",
    "            outname = word[ind] +'-' + word[ind+1]\n",
    "        else:\n",
    "            outname = 'PDI'\n",
    "    elif \"WCSL\" in word:\n",
    "        ind = word.index('WCSL')\n",
    "        if len(word)>ind+1:\n",
    "            outname = word[ind] +'-' + word[ind+1]\n",
    "        else:\n",
    "            outname = 'WCSL'\n",
    "    elif len(word) == 2:\n",
    "        outname = word[0]\n",
    "    elif name.startswith('MONOCLONAL ANTIBODY'):\n",
    "        outname = word[2]\n",
    "    elif 'NEUTRALIZING ANTIBODY' in name:\n",
    "        ind = word.index('NEUTRALIZING')\n",
    "        if ind==0:\n",
    "            outname = word[2]\n",
    "        else:\n",
    "            outname = word[ind-1]\n",
    "    elif word[-2].startswith('ANTIBODY'):\n",
    "        outname = word[-1]\n",
    "    elif 'CHAIN H OF' in name:\n",
    "        ind = word.index('CHAIN')\n",
    "        if word[ind+3] in ('FAB', 'ANTIBODY'):\n",
    "            if ind+4<len(word):\n",
    "                outname = word[ind+4]\n",
    "            else:\n",
    "                outname = word[ind+3]\n",
    "        else:\n",
    "            outname = word[ind+3]\n",
    "    elif 'CHAIN OF' in name:\n",
    "        ind = word.index('CHAIN')\n",
    "        if word[ind+2] in ('FAB', 'ANTIBODY'):\n",
    "            if ind+3<len(word):\n",
    "                outname = word[ind+3]\n",
    "            else:\n",
    "                outname = word[ind+2]\n",
    "        elif word[ind+2] == 'HUMAN' and len(word)>ind+4:\n",
    "            outname = word[ind+4]\n",
    "        else:\n",
    "            outname = word[ind+2]\n",
    "    elif 'CHAINH OF' in name:\n",
    "        ind = word.index('CHAINH')\n",
    "        if word[ind+2] in ('FAB', 'ANTIBODY'):\n",
    "            if ind+3<len(word):\n",
    "                outname = word[ind+3]\n",
    "            else:\n",
    "                outname = word[ind+2]\n",
    "        else:\n",
    "            outname = word[ind+2]\n",
    "    elif 'CHAIN FROM' in name:\n",
    "        ind = word.index('CHAIN')\n",
    "        if word[ind+2] in ('FAB', 'ANTIBODY'):\n",
    "            if ind+3<len(word):\n",
    "                outname = word[ind+3]\n",
    "            else:\n",
    "                outname = word[ind+2]\n",
    "        else:\n",
    "            outname = word[ind+2]\n",
    "    elif (word[2] == 'CHAIN') and (word[0] == 'VARIABLE') and len(word)>3:\n",
    "        outname = word[3]\n",
    "    elif (word[2] == 'CHAIN') and (word[0] != 'THE') and (word[0] != 'VARIABLE'):\n",
    "        outname = word[0]\n",
    "    elif 'FAB OF ANTIBODY' in name:\n",
    "        ind = word.index('FAB')\n",
    "        outname = word[ind+3]\n",
    "    elif 'FAB OF' in name:\n",
    "        ind = word.index('FAB')\n",
    "        outname = word[ind+2]\n",
    "    elif word[1].startswith('ANTIBODY'):\n",
    "        outname = word[0]\n",
    "    elif 'FAB' in word[1:]:\n",
    "        ind = word.index('FAB')\n",
    "        if ind>=2 and word[1] in ('HEAVY', 'LIGHT'):\n",
    "            outname = word[ind-2]\n",
    "        elif ind==1 and 'ANTIBODY' == word[0] and len(word)>2:\n",
    "            outname = word[2]\n",
    "        else: \n",
    "            outname = word[ind-1]\n",
    "    elif word[0] in ('FAB', 'ANTIBODY', 'FV', 'MAB', 'IGA') and ('CHAIN' in word[2:6] or 'SCFV' in word[2:6]):\n",
    "        outname = word[1]\n",
    "    elif word[1] in ('FAB', 'ANTIBODY', 'FV', 'IGG', 'IGA') and 'CHAIN' in word[3:6]:\n",
    "        outname = word[0]\n",
    "    elif word[1] in ('FAB', 'ANTIBODY', 'FV', 'FRAGMENT'):\n",
    "        outname = word[0]\n",
    "    elif word[-1] == 'CHAIN':\n",
    "        outname = word[-3]\n",
    "    else:\n",
    "        outname = name\n",
    "    \n",
    "   \n",
    "    if outname.startswith('RBD-'):\n",
    "        outname = outname[4:]\n",
    "    if outname == 'CLONE':\n",
    "        ind = word.index('CLONE')\n",
    "        outname = '-'.join(word[ind:ind+2])\n",
    "    if outname.endswith('-FAB-HEAVY'):\n",
    "        outname = outname[:-10]\n",
    "    if outname.endswith('-HEAVY'):\n",
    "        outname = outname[:-6]\n",
    "    if outname.endswith(','):\n",
    "        outname = outname[:-1]\n",
    "    if outname.endswith('-VH') or outname.endswith('-VL'):\n",
    "        outname = outname[:-3]\n",
    "    if outname.endswith('-H') or outname.endswith('-L'):\n",
    "        outname = outname[:-2]\n",
    "    if outname.endswith('H') or outname.endswith('-L'):\n",
    "        outname = outname[:-1]\n",
    "    # Manual for 7WHZ\n",
    "    if outname.startswith('C934_LIGHT'):\n",
    "        outname = 'XMA01'\n",
    "    elif outname.startswith('C4029_LIGHT'):\n",
    "        outname = 'XMA04'\n",
    "    elif outname.startswith('C1437_LIGHT'):\n",
    "        outname = 'XMA09'\n",
    "    elif outname.startswith('ENHANC'):\n",
    "        outname = '8D2'\n",
    "    return outname\n",
    "    "
   ]
  },
  {
   "cell_type": "code",
   "execution_count": 170,
   "id": "72df1410-0d45-49bc-aa81-3679a31ec941",
   "metadata": {},
   "outputs": [
    {
     "name": "stdout",
     "output_type": "stream",
     "text": [
      "['002-02', '002-13', '002-S21B10', '002-S21F2', '034_32', '1-57', '10-28', '10-40', '10-5B', '10G4', '13G9', '14B1', '15033', '15033-7', '16L9', '17B10', '17T2', '1C3', '1D1', '1F', '1F11', '1G11', '1H2', '2-15', '2-36', '2-4', '2-43', '2-7', '20A7', '2130', '2196', '21B6', '2303', '25F9', '265', '282', '298', '2A10', '2B11', '2G1', '3500', '368-2', '3C11', '3D11', '3D2', '3E2', '3G10', '47D1', '47D11', '4G1-C2', '510A5', '52', '54042-4', '553-49', '5549-FAB', '55A8', '5817', '58G6', '5A6', '6-2C', '6I18', '6M6', '8-9D', '80', '812', '836', '87G7', '8G3', '8H12', '910-30', '9A8', 'A19-46.1', 'A19-61.1', 'A23-58.1', 'A34-2', 'A5-10', 'A8-1', 'AB-3467', 'AB08', 'AB1', 'AB159', 'AB188', 'AB23', 'AB246', 'AB326', 'AB354', 'AB4', 'AB445', 'AB496', 'AB5', 'AB709', 'AB712', 'AB765', 'AB803', 'AB816', 'AB847', 'ADG20', 'ADI-55688', 'ADI-62113', 'ANTIBODY', 'AZ090', 'B1-182.1', 'B38', 'BA.2-07', 'BA.2-10', 'BA.2-13', 'BA.2-23', 'BA.2-36', 'BA.4/5-1', 'BA.4/5-2', 'BA.4/5-35', 'BA.4/5-9', 'BA7054', 'BA7125', 'BA7208', 'BA7535', 'BD-218', 'BD-236', 'BD-368-2', 'BD-503', 'BD-508', 'BD-515', 'BD-604', 'BD-623', 'BD-629', 'BD-667', 'BD-744', 'BD-771', 'BD-804', 'BD-813', 'BD-821', 'BD55-1239', 'BD55-1403', 'BD55-3152', 'BD55-3546', 'BD55-4637', 'BD55-5514', 'BD55-5840', 'BETA-22', 'BETA-24', 'BETA-26', 'BETA-27', 'BETA-29', 'BETA-32', 'BETA-38', 'BETA-40', 'BETA-44', 'BETA-47', 'BETA-49', 'BETA-50', 'BETA-53', 'BETA-54', 'BETA-55', 'BETA-6', 'BG1-24', 'BG10-19', 'BG4-25', 'BG7-15', 'BG7-20', 'BIOLS56', 'C002', 'C022', 'C032', 'C051', 'C098', 'C099', 'C102', 'C105', 'C110', 'C118', 'C119', 'C121', 'C135', 'C144', 'C1A-B12', 'C1A-C2', 'C1A-F10', 'C1C-A3', 'C548', 'C98C7', 'CA521', 'CB6', 'CB6-092-FAB', 'CC12.1', 'CC12.3', 'CC25.36', 'CC25.4', 'CC25.43', 'CC25.54', 'CC25.56', 'CC6.30', 'CC6.33', 'CC84.2', 'CC84.24', 'CHAB-25', 'CHAB15', 'CHAB45', 'CLONE-2', 'CLONE-6', 'COV11', 'COVA1-16', 'COVA2-04', 'COVA2-15', 'COVA2-39', 'COVA309-22', 'COVOX-150', 'COVOX-158', 'COVOX-222', 'COVOX-253', 'COVOX-253H165L', 'COVOX-253H55L', 'COVOX-269', 'COVOX-278', 'COVOX-316', 'COVOX-384', 'COVOX-45', 'COVOX-58', 'COVOX-75', 'COVOX-88', 'CR3014-C8', 'CR3022', 'CR3022-B6', 'CS23', 'CS44', 'CV05-163', 'CV07-250', 'CV07-270', 'CV07-287', 'CV2-75', 'CV2.1169', 'CV2.2325', 'CV2.3194', 'CV2.6264', 'CV30', 'CV38-142', 'CV503', 'CYFN1006-1', 'CYFN1006-2', 'D1F6', 'D2', 'D27', 'D29', 'DH1041', 'DH1042', 'DH1043', 'DH1047', 'E4', 'ECR3022.20', 'EH3', 'EH8', 'EY6A', 'F61', 'FAB', 'FAB06', 'FAB14', 'FAB30', 'FAB47', 'FC08', 'FD-11A', 'FD-5D', 'FI-3A', 'FP-12A', 'FRAGMENT', 'G32A4', 'G32Q4', 'G32R7', 'GAMMA-1', 'GAR03', 'GAR12', 'GH12', 'GW01', 'H014', 'H18', 'H4', 'HB27', 'HEAVY', 'HU33', 'ICO-HU23', 'IG C542_HEAVY_IGHV3-53_IGHD3-10_IGHJ6,IGH@ PROTEIN', 'IGG', 'IMCAS-123', 'IMCAS-72', 'IMCAS74', 'IS-9A', 'IY-2A', 'J08', 'JE-5C', 'JH-8B', 'JMB2002', 'K202.B', 'LY-COV1404', 'LY-COV481', 'LY-COV488', 'LY-COV555', 'M2-7', 'M31A7', 'MAB15', 'MAB60', 'MB.02', 'MO1', 'MW01', 'MW05', 'MW06', 'MW07', 'N-612-017', 'N-612-056', 'N3-1', 'NA8', 'NCOV617', 'NE12', 'NIV-10', 'NIV-11', 'NIV-8', 'NT-193', 'O5C2', 'OD', 'OMI-12', 'OMI-18', 'OMI-2', 'OMI-25', 'OMI-3', 'OMI-31', 'OMI-32', 'OMI-38', 'OMI-42', 'OMI-6', 'P14-44', 'P17', 'P1D9', 'P22A-1D1', 'P2B-1A1', 'P2B-1A10', 'P2B-1G5', 'P2B-2F6', 'P2B4', 'P2C-1A3', 'P2G3', 'P2S-2E9', 'P36-5D2', 'P3E6', 'P4J15', 'P5-22', 'P5A-1B6_2B', 'P5A-1B9', 'P5A-1D2', 'P5A-2F11_2B', 'P5A-2G7', 'P5A-2G9', 'P5A-3A1', 'P5A-3C12', 'P5A-3C8', 'P5C3', 'P5S-1H1', 'P5S-2B10', 'P5S-3B11', 'PDI-210', 'PDI-222', 'PDI-231', 'PDI-37', 'PDI-42', 'PDI-93', 'PDI-96', 'PT1616', 'PT1644', 'PT1696', 'PW5-5', 'PW5-535', 'PW5-570', 'R1-26', 'R1-32', 'R15-F7', 'R40-1G8', 'REGN10933', 'REGN10985', 'REGN10987', 'REGN10989', 'S-B8', 'S-E6', 'S2A4', 'S2D106', 'S2E12', 'S2H13', 'S2H14', 'S2H97', 'S2K146', 'S2M11', 'S2V29', 'S2X259', 'S2X324', 'S2X35', 'S304', 'S309', 'S41', 'S728-1157', 'SC27', 'SCFV', 'SCFV76', 'SP1-77', 'STS165', 'SWA9', 'SWC11', 'T6', 'TH027', 'TH132', 'TH236', 'TH272', 'TH281', 'THSC20.HVTR04', 'THSC20.HVTR26', 'UT28K', 'VACBB-551', 'VACW-209', 'VIR-7229', 'W14', 'WCSL-119', 'WCSL-129', 'WRAIR-2057', 'WRAIR-2063', 'WRAIR-2123', 'WRAIR-2134', 'WRAIR-2151', 'WRAIR-2173', 'XBB-2', 'XBB-4', 'XBB-6', 'XBB-7', 'XBB-9', 'XG005', 'XG014', 'XGV051', 'XGV264', 'XGV286', 'XGV289', 'XGV347', 'XMA01', 'XMA04', 'XMA09', 'YB13-292', 'YB9-258', 'ZB8', 'ZCB11', 'ZCP3B4', 'ZCP4C9', 'ZWD12']\n"
     ]
    }
   ],
   "source": [
    "s0 = set(['ANTIBODY', 'HEAVY', 'LIGHT', 'GAMMA1', 'FRAGMENT', 'IGG'])\n",
    "for index, row in nonamedb.iterrows():\n",
    "    fname = str(PurePath(datadir, 'pdb_raw', row['pdbid']+'.pdb'))\n",
    "    if os.path.exists(fname := str(PurePath(datadir, 'pdb_raw', row['pdbid']+'.pdb'))):\n",
    "        pdb_, pdbheader = pr.parsePDB(fname, header=True)\n",
    "    else:\n",
    "        fname = str(PurePath(datadir, 'pdb_raw', row['pdbid']+'.cif'))\n",
    "        pdb_, pdbheader = pr.parseMMCIF(fname, header=True)\n",
    "        \n",
    "    header = pdbheader['polymers']\n",
    "    title = pdbheader['title']\n",
    "    chH = next(pol.name for pol in header if pol.chid==row['chids'][0])\n",
    "    # chL = next(pol.name for pol in header if pol.chid==row['chids'][1])\n",
    "    # print(chL)\n",
    "    abname = abname_frommolname(chH)\n",
    "    if len(abname)<20 and not abname in s0:\n",
    "        gvecs.at[index, 'Name']= abname\n",
    "        \n",
    "    #print(row['pdbid'], row['chids'], abname, '\\n', chH)\n",
    "    # print(abname)\n"
   ]
  },
  {
   "cell_type": "code",
   "execution_count": 171,
   "id": "8cd8c2e6-b13f-4655-b7e0-a85e2b124655",
   "metadata": {},
   "outputs": [
    {
     "data": {
      "text/plain": [
       "index                                                      40\n",
       "H                                                           C\n",
       "L                                                           D\n",
       "R                                                           Y\n",
       "Wsum                                                       53\n",
       "Wrh                                                        40\n",
       "Wrl                                                        13\n",
       "Whl                                                       174\n",
       "CDRH3                                      VKDRHYDSAGYLVNGFHI\n",
       "CDRL3                                               LQTYSYPVT\n",
       "pdbid                                                    8BBN\n",
       "Heavy       EVQLVESGGGLVQPGRSLRLSCVASGFTFEDYAMHWVRQVPGKGPE...\n",
       "Light       DIQLTQSPSSLSASVRDRVTITCRASQSIDTYLNWYQQKPGKAPNL...\n",
       "CDRL1                                                  QSIDTY\n",
       "CDRL2                                                     AAS\n",
       "CDRH1                                                GFTFEDYA\n",
       "CDRH2                                                ISWNSGSI\n",
       "pdbid_y                                                  8BBN\n",
       "chids                                               (C, D, Y)\n",
       "ace2                                                        0\n",
       "cont        [345, 346, 440, 441, 442, 443, 444, 445, 448, ...\n",
       "cont_cdr    [-3.621383676804077, -13.548802339849004, 14.4...\n",
       "cont_rbd    [-0.7664883472773155, -11.837593362474134, 11....\n",
       "ab_ca       [-11.555097872340427, -19.057161702127665, 27....\n",
       "RBD         CPFGEVFNATRFASVYAWNRKRISNCVADYSVLYNSASFSTFKCYG...\n",
       "keep                                                     True\n",
       "eCDRH1      [0.00900691, 0.20189592, -0.098189145, -0.0013...\n",
       "eCDRH2      [0.117199145, -0.035149183, -0.13031471, 0.045...\n",
       "eCDRH3      [0.07755419, 0.03632232, 0.027666215, -0.09513...\n",
       "eCDRL1      [0.10052248, 0.20553231, -0.077344306, -0.0333...\n",
       "eCDRL2      [0.17181079, 0.17422694, 0.10635517, 0.0142789...\n",
       "eCDRL3      [0.023917267, 0.24418561, -0.08196922, -0.1041...\n",
       "eCDRH       [0.00900691, 0.20189592, -0.098189145, -0.0013...\n",
       "eCDRL       [0.10052248, 0.20553231, -0.077344306, -0.0333...\n",
       "eCDRHL      [0.00900691, 0.20189592, -0.098189145, -0.0013...\n",
       "eCDRHL3     [0.07755419, 0.03632232, 0.027666215, -0.09513...\n",
       "Name                                                  BA.2-10\n",
       "Name: 40, dtype: object"
      ]
     },
     "execution_count": 171,
     "metadata": {},
     "output_type": "execute_result"
    }
   ],
   "source": [
    "gvecs.iloc[10]"
   ]
  },
  {
   "cell_type": "code",
   "execution_count": null,
   "id": "3633123b-381e-491b-bfef-d2cf60ea9240",
   "metadata": {},
   "outputs": [],
   "source": [
    "# # import os.path\n",
    "# s0 = set(['CHAIN', 'FAB', 'OF',  'VARIABLE', '002-S21B10', 'ANTIBODY', 'DOMAIN', 'MONOCLONAL', 'NEUTRALIZING', 'IGG', '-', 'MUTANT', 'FV',\\\n",
    "#          'FROM', 'BISPECIFIC', 'FRAGMENT', 'THE', 'AN' ,'A', 'SCFV', 'CLONE', 'VERSION', 'REGION', 'CHAIN', 'HOMOLOGUE', \\\n",
    "#          'ANTIGEN-BINDING', 'SINGLE', 'HUMAN', 'FV-CLASP', 'BINDING', 'ANTIGEN', 'MAB', 'ARM', 'SARS-COV-2', '', 'HEAVY', 'LIGHT', \\\n",
    "#          'CHAINH', 'CHAINL', 'IMMUNOGLOBULIN', 'GAMMA1', 'RHD','GAMMA-1'])\n",
    "# for index, row in nonamedb.iterrows():\n",
    "#     fname = str(PurePath(datadir, 'pdb_raw', row['pdbid']+'.pdb'))\n",
    "#     if os.path.exists(fname := str(PurePath(datadir, 'pdb_raw', row['pdbid']+'.pdb'))):\n",
    "#         pdb_, pdbheader = pr.parsePDB(fname, header=True)\n",
    "#     else:\n",
    "#         fname = str(PurePath(datadir, 'pdb_raw', row['pdbid']+'.cif'))\n",
    "#         pdb_, pdbheader = pr.parseMMCIF(fname, header=True)\n",
    "        \n",
    "#     header = pdbheader['polymers']\n",
    "#     title = pdbheader['title']\n",
    "#     chH = next(pol.name for pol in header if pol.chid==row['chids'][0])\n",
    "#     chL = next(pol.name for pol in header if pol.chid==row['chids'][1])\n",
    "#     # print(chL)\n",
    "#     s1 = set(re.split(r'[,\\n? )(]+', chH))\n",
    "#     s2 = set(re.split(r'[,\\n? )(]+', chL))\n",
    "#     s3 = s1.intersection(s2)-s0\n",
    "#     if len(s3)==1:\n",
    "#         #print(s3)\n",
    "#         pass\n",
    "#     elif len(s3)==2 and 'PDI' in s3:\n",
    "#         pass\n",
    "#     elif len(s3)==2 and 'WCSL' in s3:\n",
    "#         pass\n",
    "#     else:\n",
    "#         print(row['pdbid'], row['chids'], s3, s1-s0)\n",
    "\n",
    "#     # print(fname, row['chids'])\n",
    "#     #print(abname_frommolname(next(pol.name for pol in header if pol.chid==row['chids'][1])))"
   ]
  },
  {
   "cell_type": "code",
   "execution_count": null,
   "id": "229c9a5b-6897-405f-927b-4f2832430450",
   "metadata": {},
   "outputs": [],
   "source": []
  }
 ],
 "metadata": {
  "kernelspec": {
   "display_name": "Python 3 (ipykernel)",
   "language": "python",
   "name": "python3"
  },
  "language_info": {
   "codemirror_mode": {
    "name": "ipython",
    "version": 3
   },
   "file_extension": ".py",
   "mimetype": "text/x-python",
   "name": "python",
   "nbconvert_exporter": "python",
   "pygments_lexer": "ipython3",
   "version": "3.8.19"
  }
 },
 "nbformat": 4,
 "nbformat_minor": 5
}
