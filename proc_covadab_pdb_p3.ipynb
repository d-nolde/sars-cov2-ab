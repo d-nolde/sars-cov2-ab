{
 "cells": [
  {
   "cell_type": "code",
   "execution_count": null,
   "id": "58a911cc-d4f6-46a2-956d-892a8b319395",
   "metadata": {},
   "outputs": [],
   "source": [
    "# Import general packages\n",
    "import math\n",
    "import sys\n",
    "import os\n",
    "import re\n",
    "import glob\n",
    "import json\n",
    "import gzip\n",
    "import itertools\n",
    "from tqdm.auto import tqdm\n",
    "import copy\n",
    "from pathlib import PurePath\n",
    "from collections import Counter\n",
    "\n",
    "# Parallel processing\n",
    "from joblib import Parallel, delayed\n",
    "\n",
    "# import data and math packages\n",
    "import numpy as np\n",
    "import pandas as pd\n",
    "from pandarallel import pandarallel\n",
    " \n",
    "import networkx as nx\n",
    "import matplotlib.pyplot as plt\n",
    "\n",
    "from requests.adapters import HTTPAdapter\n",
    "from urllib3.util.retry import Retry\n",
    "\n",
    "from abnumber import Chain\n",
    "from abnumber.exceptions import ChainParseError, MultipleDomainsChainParseError\n",
    "\n",
    "# working with structures\n",
    "import prody as pr\n",
    "import pymol\n",
    "\n",
    "import requests\n",
    "# Working with sequences\n",
    "import pyfastx\n",
    "import swalign\n",
    "# choose your own values here… 2 and -1 are common.\n",
    "match = 2#\n",
    "mismatch = -1\n",
    "scoring = swalign.NucleotideScoringMatrix(match, mismatch)\n",
    "sw = swalign.LocalAlignment(scoring)  # you can also choose gap penalties, etc...\n",
    "\n",
    "import torch\n",
    "from allennlp.commands.elmo import ElmoEmbedder\n",
    "from pathlib import Path\n",
    "\n",
    "model_dir = Path('/nfs/baron1/nolde/zhalevsky/uniref50_v2/')  # Seqvec data\n",
    "weights = model_dir / 'weights.hdf5'\n",
    "options = model_dir / 'options.json'\n",
    "seqvec  = ElmoEmbedder(options,weights,cuda_device=0) # cuda_device=-1 for CPU\n",
    "\n",
    "import Bio.PDB \n",
    "import Bio.PDB.ccealign\n",
    "from Bio.PDB.ccealign import run_cealign"
   ]
  },
  {
   "cell_type": "markdown",
   "id": "88e536bc-31ee-4185-96d7-60b8e576b7a6",
   "metadata": {},
   "source": [
    "# Part 3"
   ]
  },
  {
   "cell_type": "code",
   "execution_count": null,
   "id": "44c646cf-1a2c-4609-9b33-8518357d0a19",
   "metadata": {},
   "outputs": [],
   "source": [
    "# Read database from part2\n",
    "# Read excel file with Abs epitope \n",
    "# Calculate CDRs of Abs from excel file\n",
    "# Filter excel file by unique CDRs\n",
    "# Remove entries with _omi suffix in epitope\n",
    "# Find intersection of pdb database and filtered excel file\n",
    "# Compare list of residues contacted with RBD and contacts specific for epitope\n",
    "# Excluding Abs with <2 specific contacts\n",
    "# Create pymol file for Abs epitope visualization\n",
    "# Manually reassign Abs epitope class based on pymol visualization\n",
    "# Create pymol file for Abs epitope visualization (modified)\n",
    "# Calculate centers (3 points for each epitope class) for epitop class\n",
    "# Assign class to Ab from covadab database\n",
    "# output database ready to RBD-AIM software"
   ]
  },
  {
   "cell_type": "code",
   "execution_count": null,
   "id": "26ae676f-9865-4f45-a88c-2466ab68dc48",
   "metadata": {},
   "outputs": [],
   "source": [
    "# I/O files locataion\n",
    "datadir = '/nfs/baron1/nolde/zhalevsky/covidmap_v16' # path to I/O directory\n",
    "dbfname = 'covidab_pdb_rbd_p4.json'                  # input file (output of part 2)\n",
    "adddbf = '41586_2022_4980_MOESM3_ESM.xlsx'           # xls file from supplement of https://doi.org/10.1038/s41586-022-04980-y\n",
    "ref_rbd = 'ref.pdb'                                  # reference RBD structure from pdb 7LOP\n",
    "ref_fn = str(PurePath(datadir, ref_rbd))\n",
    "ref_ace = 'ace2.pdb'                                 # Ace2 structure of Ace2-RBD complex (6m0j) fitted to refrbd\n",
    "ace2_fn = str(PurePath(datadir, ref_ace))\n",
    "pse1 = str(PurePath(datadir, 'df_filt.pse'))         # Pymol pse file with class of database intersection\n",
    "pse2 = str(PurePath(datadir, 'df_filt2.pse'))        # Pymol pse file with class of database intersection after class reassignment\n",
    "fn_centers = str(PurePath(datadir, 'centers_all.npy'))       # numpy array of cluster centers\n",
    "fn_covadadb = str(PurePath(datadir, 'covadab_classes.json')) # output covadab part of database\n",
    "fn_combo = str(PurePath(datadir, 'combo_classes.json')) # output database for RBD-AIM \n",
    "psefin = str(PurePath(datadir, 'df_all.pse'))        # Pymol pse file with class of covadab database"
   ]
  },
  {
   "cell_type": "code",
   "execution_count": null,
   "id": "4a4df1c8-3df5-4b97-ac8b-87dc1999b1d7",
   "metadata": {},
   "outputs": [],
   "source": [
    "covadab = pd.read_json(PurePath(datadir, dbfname))\n",
    "jul = pd.read_excel(PurePath(datadir, adddbf), header=[0,1], na_values='--')\n",
    "jul.columns = [' '.join(col).strip() for col in jul.columns.values]"
   ]
  },
  {
   "cell_type": "code",
   "execution_count": null,
   "id": "c58ee924-f194-423c-a63f-b36233cd02d3",
   "metadata": {},
   "outputs": [],
   "source": [
    "kname = jul.filter(like='Name').keys()[0]\n",
    "hchain = jul.filter(like='Heavy chain AA').keys()[0]\n",
    "lchain = jul.filter(like='Light chain AA').keys()[0]\n",
    "kepit = jul.filter(like='Epitope').keys()[0]\n",
    "kid = jul.filter(like='ID').keys()[0]"
   ]
  },
  {
   "cell_type": "code",
   "execution_count": null,
   "id": "e288281e-c3e8-4f25-8053-5bba44cd2b96",
   "metadata": {},
   "outputs": [],
   "source": [
    "jul1 = jul[~(jul[hchain].isnull()|jul[lchain].isnull())].copy()\n",
    "print(len(jul1))"
   ]
  },
  {
   "cell_type": "code",
   "execution_count": null,
   "id": "a4fe6346-330f-429a-b36d-925f0ef16c1e",
   "metadata": {},
   "outputs": [],
   "source": [
    "def calc_cdrhl(row, hid, lid):\n",
    "    try:\n",
    "        # print(row[hid])\n",
    "        chainh = Chain(row[hid], scheme='imgt', allowed_species='human', assign_germline=False)\n",
    "        chainl = Chain(row[lid], scheme='imgt', allowed_species='human', assign_germline=False)\n",
    "        # print(chainh.cdr1_seq,  chainh.cdr2_seq,  chainh.cdr3_seq, chainl.cdr1_seq,  chainl.cdr2_seq,  chainl.cdr3_seq)\n",
    "        return chainh.cdr1_seq,  chainh.cdr2_seq,  chainh.cdr3_seq, chainl.cdr1_seq,  chainl.cdr2_seq,  chainl.cdr3_seq\n",
    "    except ChainParseError:\n",
    "            print(row[hid], row[lid])\n",
    "            return None"
   ]
  },
  {
   "cell_type": "code",
   "execution_count": null,
   "id": "272ae029-f2c2-481c-b6a5-40f366ae8739",
   "metadata": {},
   "outputs": [],
   "source": [
    "pandarallel.initialize(progress_bar=True)\n",
    "tqdm.pandas()\n",
    "jul1[['CDRH1', 'CDRH2', 'CDRH3', 'CDRL1', 'CDRL2', 'CDRL3']] = jul1.progress_apply(calc_cdrhl, axis=1, \n",
    "                                                        args=[hchain, lchain], result_type='expand')"
   ]
  },
  {
   "cell_type": "code",
   "execution_count": null,
   "id": "3fefd3d5-71c6-41f9-9de6-cb9bf9dec2ec",
   "metadata": {},
   "outputs": [],
   "source": [
    "dups = jul1[jul1.duplicated(\n",
    "    subset=[\n",
    "        hchain, lchain,  \n",
    "        'CDRH1', 'CDRH2', 'CDRH3', 'CDRL1', 'CDRL2', 'CDRL3'\n",
    "    ], keep=False)]\n",
    "print(len(dups))"
   ]
  },
  {
   "cell_type": "code",
   "execution_count": null,
   "id": "66e5efd1-145b-4f89-95c0-795dd32f5690",
   "metadata": {},
   "outputs": [],
   "source": [
    "dups.sort_values(by = ['CDRH1', 'CDRH2', 'CDRH3'])[[kname, kepit,  'CDRH1', 'CDRH2', 'CDRH3']]"
   ]
  },
  {
   "cell_type": "code",
   "execution_count": null,
   "id": "000aa740-5929-430e-98d8-4c292efef605",
   "metadata": {},
   "outputs": [],
   "source": [
    "jul2 = (jul1.groupby([hchain, lchain]).filter(lambda group: len(group[kepit].value_counts()) == 1))\n",
    "print(len(jul2), len(jul1))"
   ]
  },
  {
   "cell_type": "code",
   "execution_count": null,
   "id": "b5490dd7-26d1-4bcc-a5aa-0cb25f8e38c2",
   "metadata": {},
   "outputs": [],
   "source": [
    "dups = jul2[jul2.duplicated(\n",
    "    subset=[\n",
    "        hchain, lchain,  \n",
    "       'CDRH1', 'CDRH2', 'CDRH3', 'CDRL1', 'CDRL2', 'CDRL3'\n",
    "    ], keep=False)]\n",
    "print(len(dups))"
   ]
  },
  {
   "cell_type": "code",
   "execution_count": null,
   "id": "3877d2fd-d31f-4584-9a35-b46f6a5124e4",
   "metadata": {},
   "outputs": [],
   "source": [
    "dups.sort_values(by = ['CDRH1', 'CDRH2', 'CDRH3'])[[kname, kepit, 'CDRH1', 'CDRH2', 'CDRH3' ]]"
   ]
  },
  {
   "cell_type": "code",
   "execution_count": null,
   "id": "3a46b0c5-0ebd-4100-a101-3168acc2d0e1",
   "metadata": {},
   "outputs": [],
   "source": [
    "jul2.drop_duplicates(\n",
    "    subset=[\n",
    "        hchain, lchain,  \n",
    "       'CDRH1', 'CDRH2', 'CDRH3', 'CDRL1', 'CDRL2', 'CDRL3' \n",
    "         ], \n",
    "    keep='first', inplace=True)"
   ]
  },
  {
   "cell_type": "code",
   "execution_count": null,
   "id": "9854729b-edd9-455f-8e2f-a2f3c44b3100",
   "metadata": {},
   "outputs": [],
   "source": [
    "jul3 = jul2.drop_duplicates(\n",
    "    subset=[\n",
    "         'CDRH1', 'CDRH2', 'CDRH3', 'CDRL1', 'CDRL2', 'CDRL3' \n",
    "         ], \n",
    "    keep='first', inplace=False)"
   ]
  },
  {
   "cell_type": "code",
   "execution_count": null,
   "id": "12951e2b-1498-47bd-bdb1-2d59da4df8fb",
   "metadata": {},
   "outputs": [],
   "source": [
    "jul3[jul3[kepit].str.contains('_Omi')]"
   ]
  },
  {
   "cell_type": "code",
   "execution_count": null,
   "id": "66c80336-41a8-45fb-b399-12385e810fc4",
   "metadata": {},
   "outputs": [],
   "source": [
    "jul4 = jul3[~jul3[kepit].str.contains('_Omi')].copy()\n",
    "print(len(jul4))"
   ]
  },
  {
   "cell_type": "code",
   "execution_count": null,
   "id": "9e754794-5fb6-402f-852d-44f4277023cb",
   "metadata": {},
   "outputs": [],
   "source": [
    "Epit = sorted(list(set(jul4[kepit])))\n",
    "jul4['POS_class'] = [Epit.index(x) for x in jul4[kepit]]\n"
   ]
  },
  {
   "cell_type": "code",
   "execution_count": null,
   "id": "d541268d-217e-41d5-8903-072bbec7de1c",
   "metadata": {},
   "outputs": [],
   "source": [
    "gvecs1 = covadab\n",
    "df_merge = pd.merge(gvecs1, \\\n",
    "                    jul4[['CDRH1', 'CDRH2', 'CDRH3', 'CDRL1', 'CDRL2', 'CDRL3', 'POS_class']], \\\n",
    "                     on=['CDRH1', 'CDRH2', 'CDRH3', 'CDRL1', 'CDRL2', 'CDRL3'], how='inner')"
   ]
  },
  {
   "cell_type": "code",
   "execution_count": null,
   "id": "567c0d59-af5c-416d-8f96-ff5dc6b31c1b",
   "metadata": {},
   "outputs": [],
   "source": [
    "print(len(df_merge), len(gvecs1))"
   ]
  },
  {
   "cell_type": "code",
   "execution_count": null,
   "id": "716fd716-774c-4c1f-b17b-e542d25171cf",
   "metadata": {},
   "outputs": [],
   "source": [
    "for i in range(12):\n",
    "    print(i, len(df_merge[df_merge['POS_class']==i]))\n",
    "print(df_merge[df_merge['POS_class']==8]['Name'])"
   ]
  },
  {
   "cell_type": "code",
   "execution_count": null,
   "id": "6eab7841-4309-476b-a179-ba906d1e0406",
   "metadata": {},
   "outputs": [],
   "source": [
    "def dublen(x1, x2):\n",
    "    a1 = list(x1)\n",
    "    a2 = list(x2)\n",
    "    return len(set(a1)) + len(set(a2)) - len(set(a1+a2))\n",
    "\n",
    "Epit_cont = [(417, 456, 475), (485, 486, 487), (452, 484, 490), (346, 444, 446, 452), (444, 446, 499),\n",
    "            (339, 345, 346), (346, 348, 452), (356, 357, 468), (357, 391, 462, 516, 518), (383, 385, 386),\n",
    "            (376, 378, 408), (405, 503, 504)]\n",
    "excl_names = []\n",
    "for i in range(12):\n",
    "    cur = df_merge[df_merge['POS_class']==i]\n",
    "    for ind, row in cur.iterrows():\n",
    "        if dublen(row['cont'], Epit_cont[i]) < 2:\n",
    "            print(i, row['Name'], row['pdbid'], row['cont'])\n",
    "            excl_names.append(row['Name'])\n",
    "df_filt =  df_merge[~df_merge['Name'].isin(excl_names)]            \n",
    "len(df_filt), len(df_merge)"
   ]
  },
  {
   "cell_type": "code",
   "execution_count": null,
   "id": "81a39c80-b4ed-47cc-b0fc-58969b58fdcd",
   "metadata": {},
   "outputs": [],
   "source": [
    "allcl = ('A', 'B', 'C', 'D1', 'D2', 'E1', 'E2.1', 'E2.2', 'E3', 'F1', 'F2', 'F3')\n",
    "    \n",
    "colors = ['0x005a60', '0x2fbead', '0xfe5e44', '0xd1a684', '0xfde74c', '0xfe7d0e',\n",
    "          '0xe29462', '0x4a4a4a', '0x909393', '0x2daaf0', '0x7565ff', '0xd458fb']\n",
    "\n",
    "pymol.cmd.reinitialize()\n",
    "pymol.cmd.load(ref_fn)\n",
    "pymol.cmd.load(ace2_fn)\n",
    "pymol.cmd.color('grey70')\n",
    "for i in range(12):\n",
    "    df = df_filt[df_filt['POS_class']==i]\n",
    "    # print(i, len(df))\n",
    "    color = colors[i]\n",
    "    for ind, row in df.iterrows():\n",
    "        abname = row['Name']\n",
    "        ab = f'{abname}_{i}'\n",
    "        # print(ab)\n",
    "        pos = row['ab_ca']\n",
    "        posString = \"[%3.2f,%3.2f,%3.2f]\" % (pos[0], pos[1], pos[2])\n",
    "        pymol.cmd.pseudoatom(ab, name=f'PS2_{ab}', vdw=1.0, pos=posString)\n",
    "        pos = row['cont_cdr']\n",
    "        posString = \"[%3.2f,%3.2f,%3.2f]\" % (pos[0], pos[1], pos[2])\n",
    "        pymol.cmd.pseudoatom(ab, name=f'PS1_{ab}', vdw=1.0, pos=posString)\n",
    "        pos = row['cont_rbd']\n",
    "        posString = \"[%3.2f,%3.2f,%3.2f]\" % (pos[0], pos[1], pos[2])\n",
    "        pymol.cmd.pseudoatom(ab, name=f'PS0_{ab}', vdw=1.0, pos=posString)\n",
    "        pymol.cmd.bond(atom1=(f\"name PS0_{ab}\"), atom2=(f\"name PS1_{ab}\"))\n",
    "        pymol.cmd.bond(atom1=(f\"name PS1_{ab}\"), atom2=(f\"name PS2_{ab}\"))\n",
    "        pymol.cmd.color(color, ab)\n",
    "        pymol.cmd.show('spheres', ab)\n",
    "\n",
    "pymol.cmd.save(pse1)\n",
    "   "
   ]
  },
  {
   "cell_type": "code",
   "execution_count": null,
   "id": "781ba525-be07-474f-ab65-5e67fff8402c",
   "metadata": {},
   "outputs": [],
   "source": [
    "# Manual class reassignment based on pse file\n",
    "df_filt.loc[df_filt['Name']=='CR3022', 'POS_class'] = 9\n",
    "df_filt.loc[df_filt['Name']=='S2A4', 'POS_class'] = 9\n",
    "df_filt.loc[df_filt['Name']=='CV2-75', 'POS_class'] = 9\n",
    "df_filt.loc[df_filt['Name']=='S2X35', 'POS_class'] =  10\n",
    "df_filt.loc[df_filt['Name']=='BD667', 'POS_class'] =  6\n",
    "df_filt.loc[df_filt['Name']=='NT-193', 'POS_class'] =  0\n",
    "df_filt.loc[df_filt['Name']=='XGv282', 'POS_class'] =  3\n",
    "df_filt.loc[df_filt['Name']=='BG1-24', 'POS_class'] =  2\n",
    "df_filt.loc[df_filt['Name']=='BG7-20', 'POS_class'] =  2\n",
    "df_filt.loc[df_filt['Name']=='Fab-15033', 'POS_class'] =  0\n",
    "df_filt.loc[df_filt['Name']=='BD-667', 'POS_class'] =  6"
   ]
  },
  {
   "cell_type": "code",
   "execution_count": null,
   "id": "04da8289-5317-4981-9867-0b856977808c",
   "metadata": {},
   "outputs": [],
   "source": [
    "allcl = ('A', 'B', 'C', 'D1', 'D2', 'E1', 'E2.1', 'E2.2', 'E3', 'F1', 'F2', 'F3')\n",
    "    \n",
    "colors = ['0x005a60', '0x2fbead', '0xfe5e44', '0xd1a684', '0xfde74c', '0xfe7d0e',\n",
    "          '0xe29462', '0x4a4a4a', '0x909393', '0x2daaf0', '0x7565ff', '0xd458fb']\n",
    "\n",
    "pymol.cmd.reinitialize()\n",
    "pymol.cmd.load(ref_fn)\n",
    "pymol.cmd.load(ace2_fn)\n",
    "pymol.cmd.color('grey70')\n",
    "for i in range(12):\n",
    "    df = df_filt[df_filt['POS_class']==i]\n",
    "    # print(i, len(df))\n",
    "    color = colors[i]\n",
    "    for ind, row in df.iterrows():\n",
    "        abname = row['Name']\n",
    "        ab = f'{abname}_{i}'\n",
    "        # print(ab)\n",
    "        pos = row['ab_ca']\n",
    "        posString = \"[%3.2f,%3.2f,%3.2f]\" % (pos[0], pos[1], pos[2])\n",
    "        pymol.cmd.pseudoatom(ab, name=f'PS2_{ab}', vdw=1.0, pos=posString)\n",
    "        pos = row['cont_cdr']\n",
    "        posString = \"[%3.2f,%3.2f,%3.2f]\" % (pos[0], pos[1], pos[2])\n",
    "        pymol.cmd.pseudoatom(ab, name=f'PS1_{ab}', vdw=1.0, pos=posString)\n",
    "        pos = row['cont_rbd']\n",
    "        posString = \"[%3.2f,%3.2f,%3.2f]\" % (pos[0], pos[1], pos[2])\n",
    "        pymol.cmd.pseudoatom(ab, name=f'PS0_{ab}', vdw=1.0, pos=posString)\n",
    "        pymol.cmd.bond(atom1=(f\"name PS0_{ab}\"), atom2=(f\"name PS1_{ab}\"))\n",
    "        pymol.cmd.bond(atom1=(f\"name PS1_{ab}\"), atom2=(f\"name PS2_{ab}\"))\n",
    "        pymol.cmd.color(color, ab)\n",
    "        pymol.cmd.show('spheres', ab)\n",
    "\n",
    "pymol.cmd.save(pse2)"
   ]
  },
  {
   "cell_type": "code",
   "execution_count": null,
   "id": "7747bc89-71e3-4da2-bf96-7ac0765fde13",
   "metadata": {},
   "outputs": [],
   "source": [
    "def center_pos(X): # calculate center of position excluding ~1/3 outliers\n",
    "    N = len(X)\n",
    "    Ncut = math.ceil(0.67*N)\n",
    "    # print(N, Ncut, X.shape)\n",
    "    sel = slice(N)\n",
    "    for i in range(10):\n",
    "        Xc = np.mean(X[sel], axis=0)\n",
    "        dist = np.linalg.norm(X-Xc, axis=-1)\n",
    "        # print(dist)\n",
    "        dcut = sorted(dist)[Ncut-1]\n",
    "        sel = (dist<=dcut)\n",
    "        Xc1 = np.mean(X[sel], axis=0)\n",
    "        if np.linalg.norm(Xc-Xc1)==0:\n",
    "            break\n",
    "   # print(np.mean(X, axis=0) - Xc)\n",
    "    return Xc"
   ]
  },
  {
   "cell_type": "code",
   "execution_count": null,
   "id": "943dbf71-8ad1-40ec-8778-61b3ce1de62a",
   "metadata": {},
   "outputs": [],
   "source": [
    "allcenter = np.empty((3, 12, 3))\n",
    "for i, posatom in enumerate(('ab_ca', 'cont_cdr', 'cont_rbd')):\n",
    "    for e in range(12):\n",
    "        df_e = df_merge[df_merge['POS_class']==e]\n",
    "        _cmat = df_e[posatom].to_list()\n",
    "        allcenter[i, e] =  center_pos(np.array(_cmat))\n",
    "np.save(fn_centers, allcenter)"
   ]
  },
  {
   "cell_type": "code",
   "execution_count": null,
   "id": "54df7b90-5098-42d5-b694-5abc2c8119bc",
   "metadata": {},
   "outputs": [],
   "source": [
    "covadab['Class_CA'] = -1\n",
    "covadab['Class_cdr'] = -1\n",
    "covadab['Class_rbd'] = -1\n",
    "covadab['good'] = 0"
   ]
  },
  {
   "cell_type": "code",
   "execution_count": null,
   "id": "f1101a32-5f5f-437e-8a6f-9c368585a3a1",
   "metadata": {},
   "outputs": [],
   "source": [
    "def setclass(X ,center):\n",
    "   # print('setclass')\n",
    "    dist = np.linalg.norm(X-center, axis=-1)\n",
    "   # print(np.argmin(dist))\n",
    "    return np.argmin(dist)"
   ]
  },
  {
   "cell_type": "code",
   "execution_count": null,
   "id": "9a131fba-1eb4-4dfe-a8d0-94fd3d85ed67",
   "metadata": {},
   "outputs": [],
   "source": [
    "for ind, row in covadab.iterrows():\n",
    "    covadab.at[ind, 'Class_CA'] = setclass(np.array(row['ab_ca']), allcenter[0])\n",
    "    covadab.at[ind, 'Class_cdr'] = setclass(np.array(row['cont_cdr']), allcenter[1])\n",
    "    covadab.at[ind, 'Class_rbd'] = setclass(np.array(row['cont_rbd']), allcenter[2])\n",
    "    covadab.at[ind, 'POS_class'] = int(covadab.at[ind, 'Class_rbd'])\n",
    "    if (covadab.at[ind, 'Class_CA'] == covadab.at[ind, 'Class_cdr']) & \\\n",
    "    (covadab.at[ind, 'Class_CA'] == covadab.at[ind, 'Class_rbd']):\n",
    "        covadab.at[ind, 'good'] = 1"
   ]
  },
  {
   "cell_type": "code",
   "execution_count": null,
   "id": "9eeeb724-6c30-4667-a6a4-9e17b717c330",
   "metadata": {},
   "outputs": [],
   "source": [
    "print(len(covadab[covadab['good']==1]), len(covadab))"
   ]
  },
  {
   "cell_type": "code",
   "execution_count": null,
   "id": "6286ee57-2c5f-4c0e-a60c-4d0fa5f91571",
   "metadata": {},
   "outputs": [],
   "source": [
    "counter = Counter(covadab['POS_class']) \n",
    "print(sorted(counter.items()))"
   ]
  },
  {
   "cell_type": "code",
   "execution_count": null,
   "id": "36bae5f9-23c5-4970-9420-bd54a72a2146",
   "metadata": {},
   "outputs": [],
   "source": [
    "jul_new = jul4.merge(df_merge[['CDRH1', 'CDRH2', 'CDRH3', 'CDRL1', 'CDRL2', 'CDRL3']], on=['CDRH1', 'CDRH2', 'CDRH3', 'CDRL1', 'CDRL2', 'CDRL3'],\n",
    "                    how='left', suffixes = (None, '_y'), indicator=True)"
   ]
  },
  {
   "cell_type": "code",
   "execution_count": null,
   "id": "24bfaaef-6e7e-4fa2-b820-b8a84a064e27",
   "metadata": {},
   "outputs": [],
   "source": [
    "print(len(jul_new[jul_new['_merge'] == 'left_only']))"
   ]
  },
  {
   "cell_type": "code",
   "execution_count": null,
   "id": "c5e4b834-6f9a-447f-adfd-15cfabcad602",
   "metadata": {},
   "outputs": [],
   "source": [
    "gvecs = jul_new[jul_new['_merge'] == 'left_only'].copy()\n",
    "cdrkeys = [f'CDR{c}{i}' for c, i in itertools.product(['H', 'L'], range(1, 4))]\n",
    "\n",
    "for k in cdrkeys:\n",
    "    gvecs[f'e{k}'] = None\n",
    "    \n",
    "gvecs['eCDRH'] = None\n",
    "gvecs['eCDRL'] = None\n",
    "\n",
    "gvecs['eCDRHL'] = None\n",
    "gvecs['eCDRHL3'] = None\n",
    "\n",
    "\n",
    "for index, row in tqdm(gvecs.iterrows(), total=len(gvecs)):\n",
    " \n",
    "    embeds = {k: None for k in cdrkeys}\n",
    "    seqs_keys = {row[k]: k for k in cdrkeys}\n",
    "\n",
    "    seqs = [list(k) for k in seqs_keys.keys()]\n",
    "    seqs.sort(key=len) \n",
    "\n",
    "    embedding = seqvec.embed_sentences(seqs) # returns: List-of-Lists with shape [3,L,1024]\n",
    "    c = 0\n",
    "    for seq, embed_ in zip(seqs, list(embedding)):\n",
    "        c += 1\n",
    "        k = seqs_keys[''.join(seq)]\n",
    "        embed__ = torch.tensor(embed_).sum(dim=0).mean(dim=0)\n",
    "        embed = embed__.cpu().detach().numpy()\n",
    "        embeds[k] = embed\n",
    "\n",
    "        gvecs.at[index, f'e{k}'] = embed\n",
    "\n",
    "    if c != 6:\n",
    "        continue\n",
    "\n",
    "    gvecs.at[index, 'eCDRHL'] = np.hstack(list(embeds.values()))\n",
    "\n",
    "    gvecs.at[index, 'eCDRH'] = np.hstack([\n",
    "        gvecs.at[index, 'eCDRH1'],\n",
    "        gvecs.at[index, 'eCDRH2'],\n",
    "        gvecs.at[index, 'eCDRH3']\n",
    "    ])\n",
    "\n",
    "    gvecs.at[index, 'eCDRL'] = np.hstack([    \n",
    "        gvecs.at[index, 'eCDRL1'],\n",
    "        gvecs.at[index, 'eCDRL2'],\n",
    "        gvecs.at[index, 'eCDRL3']\n",
    "    ])\n",
    "\n",
    "    gvecs.at[index, 'eCDRHL'] = np.hstack([\n",
    "        gvecs.at[index, 'eCDRH'],\n",
    "        gvecs.at[index, 'eCDRL'],\n",
    "    ])\n",
    "\n",
    "    gvecs.at[index, 'eCDRHL3'] = np.hstack([\n",
    "        gvecs.at[index, 'eCDRH3'],\n",
    "        gvecs.at[index, 'eCDRL3']])"
   ]
  },
  {
   "cell_type": "code",
   "execution_count": null,
   "id": "98e21cb6-9046-4121-9366-2e2243628d0d",
   "metadata": {},
   "outputs": [],
   "source": [
    "gvecs['good'] = -1\n",
    "gvecs = gvecs[[kname, hchain, lchain, 'POS_class', 'CDRH1', 'CDRH2', 'CDRH3', 'CDRL1', 'CDRL2', 'CDRL3']].rename(\\\n",
    "    columns={kname: 'Name', hchain: 'VHorVHH', lchain: 'VL'})\n",
    "combo_classes = pd.concat((covadab, gvecs), axis=0).drop_duplicates(subset=['CDRH1', 'CDRH2', 'CDRH3', \\\n",
    "    'CDRL1', 'CDRL2', 'CDRL3'], keep='first').reset_index()"
   ]
  },
  {
   "cell_type": "code",
   "execution_count": null,
   "id": "fb9f4bec-6b3f-4d34-8aa0-16b3f56fcdcc",
   "metadata": {},
   "outputs": [],
   "source": [
    "len(combo_classes)"
   ]
  },
  {
   "cell_type": "code",
   "execution_count": null,
   "id": "7b8f8414-521d-4618-82b4-217f7d697036",
   "metadata": {},
   "outputs": [],
   "source": [
    "combo_classes.keys()"
   ]
  },
  {
   "cell_type": "code",
   "execution_count": null,
   "id": "853ae5fd-1a6e-4b5a-80f3-8bfd71f4fd53",
   "metadata": {},
   "outputs": [],
   "source": [
    "dups = combo_classes[combo_classes.duplicated(\n",
    "    subset=[\n",
    "        'Name'\n",
    "    ], keep=False)]\n",
    "print(len(dups))"
   ]
  },
  {
   "cell_type": "code",
   "execution_count": null,
   "id": "d346e54f-0f72-4da4-81bf-8d8d051cd0fa",
   "metadata": {},
   "outputs": [],
   "source": [
    "len(combo_classes['Name'].to_list()), len(combo_classes), len(set(combo_classes['Name'].to_list()))"
   ]
  },
  {
   "cell_type": "code",
   "execution_count": null,
   "id": "0ed52862-7c87-4b02-8e52-ce3c20dd034d",
   "metadata": {},
   "outputs": [],
   "source": [
    "print(dups[['Name', 'CDRL1', 'CDRL2', 'CDRL3', 'CDRH1', 'CDRH2', 'CDRH3', 'POS_class']])"
   ]
  },
  {
   "cell_type": "code",
   "execution_count": null,
   "id": "ca0c4421-1bc5-4926-b5b1-47b98219ab45",
   "metadata": {},
   "outputs": [],
   "source": [
    "combo_classes.drop_duplicates(subset=['Name'], inplace=True)\n",
    "print(len(combo_classes))"
   ]
  },
  {
   "cell_type": "code",
   "execution_count": null,
   "id": "fdd47516-6bfd-4d1c-bfbc-4994180f5dc6",
   "metadata": {},
   "outputs": [],
   "source": [
    "newdf = combo_classes.rename(columns={'VHorVHH': 'Heavy','VL': 'Light'})[['index', 'Name', 'Heavy', 'Light', 'POS_class', 'CDRH1', 'CDRH2',\n",
    "       'CDRH3', 'CDRL1', 'CDRL2', 'CDRL3', 'good', 'eCDRH1', 'eCDRH2',\n",
    "       'eCDRH3', 'eCDRL1', 'eCDRL2', 'eCDRL3']]"
   ]
  },
  {
   "cell_type": "code",
   "execution_count": null,
   "id": "5f202549-1ae4-40ee-ac40-1c98ea6f3fcc",
   "metadata": {},
   "outputs": [],
   "source": [
    "covadab.to_json(fn_covadadb)\n",
    "newdf.to_json(fn_combo)"
   ]
  },
  {
   "cell_type": "code",
   "execution_count": null,
   "id": "c64b7a71-9b49-4b27-a205-7a616f1a9026",
   "metadata": {},
   "outputs": [],
   "source": [
    "allcl = ('A', 'B', 'C', 'D1', 'D2', 'E1', 'E2.1', 'E2.2', 'E3', 'F1', 'F2', 'F3')\n",
    "    \n",
    "colors = ['0x005a60', '0x2fbead', '0xfe5e44', '0xd1a684', '0xfde74c', '0xfe7d0e',\n",
    "          '0xe29462', '0x4a4a4a', '0x909393', '0x2daaf0', '0x7565ff', '0xd458fb']\n",
    "\n",
    "pymol.cmd.reinitialize()\n",
    "pymol.cmd.load(ref_fn)\n",
    "pymol.cmd.load(ace2_fn)\n",
    "pymol.cmd.color('grey70')\n",
    "for i in range(12):\n",
    "    df = covadab[covadab['POS_class']==i]\n",
    "    # print(i, len(df))\n",
    "    color = colors[i]\n",
    "    for ind, row in df.iterrows():\n",
    "        abname = row['Name']\n",
    "        ab = f'{abname}_{i}'\n",
    "        # print(ab)\n",
    "        pos = row['ab_ca']\n",
    "        posString = \"[%3.2f,%3.2f,%3.2f]\" % (pos[0], pos[1], pos[2])\n",
    "        pymol.cmd.pseudoatom(ab, name=f'PS2_{ab}', vdw=1.0, pos=posString)\n",
    "        pos = row['cont_cdr']\n",
    "        posString = \"[%3.2f,%3.2f,%3.2f]\" % (pos[0], pos[1], pos[2])\n",
    "        pymol.cmd.pseudoatom(ab, name=f'PS1_{ab}', vdw=1.0, pos=posString)\n",
    "        pos = row['cont_rbd']\n",
    "        posString = \"[%3.2f,%3.2f,%3.2f]\" % (pos[0], pos[1], pos[2])\n",
    "        pymol.cmd.pseudoatom(ab, name=f'PS0_{ab}', vdw=1.0, pos=posString)\n",
    "        pymol.cmd.bond(atom1=(f\"name PS0_{ab}\"), atom2=(f\"name PS1_{ab}\"))\n",
    "        pymol.cmd.bond(atom1=(f\"name PS1_{ab}\"), atom2=(f\"name PS2_{ab}\"))\n",
    "        pymol.cmd.color(color, ab)\n",
    "        pymol.cmd.show('spheres', ab)\n",
    "\n",
    "pymol.cmd.save(psefin)"
   ]
  },
  {
   "cell_type": "code",
   "execution_count": null,
   "id": "adf94d66-a802-4401-bc82-15d1a9af1e13",
   "metadata": {},
   "outputs": [],
   "source": []
  }
 ],
 "metadata": {
  "kernelspec": {
   "display_name": "Python 3 (ipykernel)",
   "language": "python",
   "name": "python3"
  },
  "language_info": {
   "codemirror_mode": {
    "name": "ipython",
    "version": 3
   },
   "file_extension": ".py",
   "mimetype": "text/x-python",
   "name": "python",
   "nbconvert_exporter": "python",
   "pygments_lexer": "ipython3",
   "version": "3.8.19"
  }
 },
 "nbformat": 4,
 "nbformat_minor": 5
}
