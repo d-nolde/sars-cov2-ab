{
 "cells": [
  {
   "cell_type": "code",
   "execution_count": 1,
   "id": "58a911cc-d4f6-46a2-956d-892a8b319395",
   "metadata": {},
   "outputs": [],
   "source": [
    "# Import general packages\n",
    "import sys\n",
    "import os\n",
    "import re\n",
    "import glob\n",
    "import json\n",
    "import gzip\n",
    "from tqdm.auto import tqdm\n",
    "from pathlib import PurePath\n",
    "\n",
    "# Parallel processing\n",
    "from joblib import Parallel, delayed\n",
    "\n",
    "# import data and math packages\n",
    "import numpy as np\n",
    "import pandas as pd\n",
    "from pandarallel import pandarallel\n",
    "\n",
    "from abnumber import Chain\n",
    "from abnumber.exceptions import ChainParseError, MultipleDomainsChainParseError"
   ]
  },
  {
   "cell_type": "code",
   "execution_count": null,
   "id": "78cac1de-c2d0-4b22-8484-70b92277e2c5",
   "metadata": {},
   "outputs": [],
   "source": [
    "# Load initial covadab database\n",
    "# Check sequences\n",
    "# Calculate sequences of CDRs\n",
    "# Write database with CDRs "
   ]
  },
  {
   "cell_type": "code",
   "execution_count": 2,
   "id": "94903440-9f00-4363-b35b-85dba569bf76",
   "metadata": {},
   "outputs": [],
   "source": [
    "# I/O files location\n",
    "datadir = '/nfs/baron1/nolde/zhalevsky/covidmap_v16' # path to I/O directory\n",
    "dbfname = 'CoV-AbDab_130623.csv'                     # input file (https://opig.stats.ox.ac.uk/webapps/covabdab/static/downloads/CoV-AbDab_080224.csv)\n",
    "outfname = 'covadab_allcdr.json'                     # output file"
   ]
  },
  {
   "cell_type": "code",
   "execution_count": 4,
   "id": "084e31c6-7f34-4421-a41f-a0bd35d40741",
   "metadata": {},
   "outputs": [
    {
     "name": "stdout",
     "output_type": "stream",
     "text": [
      "11260\n"
     ]
    }
   ],
   "source": [
    "covadab = pd.read_csv(PurePath(datadir, dbfname), na_values='ND').dropna(subset=['VHorVHH', 'VL', 'CDRH3', 'CDRL3'])\n",
    "covadab = covadab[covadab['Ab or Nb'] == 'Ab']\n",
    "print(len(covadab))"
   ]
  },
  {
   "cell_type": "code",
   "execution_count": 5,
   "id": "a78078fc-8775-435e-b158-7c486efbfe88",
   "metadata": {},
   "outputs": [
    {
     "name": "stdout",
     "output_type": "stream",
     "text": [
      "Total bad records: 41\n"
     ]
    }
   ],
   "source": [
    "# Drop entries with sequence issues\n",
    "bad_ids = []\n",
    "\n",
    "for index, row in covadab.iterrows():\n",
    "    if row['CDRH3'] not in row['VHorVHH'] or row['CDRL3'] not in row['VL']:\n",
    "        bad_ids.append(index)\n",
    "        \n",
    "bad_records = covadab[covadab.index.isin(bad_ids)]\n",
    "print('Total bad records:', len(bad_records))\n",
    "covadab.drop(index=bad_ids, inplace=True)\n"
   ]
  },
  {
   "cell_type": "code",
   "execution_count": 6,
   "id": "ac1e5a54-a05f-4a0d-84a4-1084c9d5f1dd",
   "metadata": {},
   "outputs": [
    {
     "name": "stdout",
     "output_type": "stream",
     "text": [
      "Index(['Name', 'Ab or Nb', 'Binds to', 'Doesn't Bind to', 'Neutralising Vs',\n",
      "       'Not Neutralising Vs', 'Protein + Epitope', 'Origin', 'VHorVHH', 'VL',\n",
      "       'Heavy V Gene', 'Heavy J Gene', 'Light V Gene', 'Light J Gene', 'CDRH3',\n",
      "       'CDRL3', 'Structures', 'ABB Homology Model (if no structure)',\n",
      "       'Sources', 'Date Added', 'Last Updated', 'Update Description',\n",
      "       'Notes/Following Up?', 'Unnamed: 23', 'Unnamed: 24'],\n",
      "      dtype='object')\n"
     ]
    }
   ],
   "source": [
    "print(covadab.keys())"
   ]
  },
  {
   "cell_type": "code",
   "execution_count": 7,
   "id": "19abbf2d-2a8a-4db8-ae66-8d526f42cbd7",
   "metadata": {},
   "outputs": [],
   "source": [
    "def calc_cdrhl(row, hid, lid):\n",
    "    try:\n",
    "        if row[lid] in row[hid]: # single chain\n",
    "            hchain = row[hid][:-len(row[lid])]\n",
    "        else:\n",
    "            hchain = row[hid]\n",
    "            chainh = Chain(hchain, scheme='imgt', allowed_species='human', assign_germline=False)\n",
    "            chainl = Chain(row[lid], scheme='imgt', allowed_species='human', assign_germline=False)\n",
    "        return chainh.cdr1_seq,  chainh.cdr2_seq,  chainh.cdr3_seq, chainl.cdr1_seq,  chainl.cdr2_seq,  chainl.cdr3_seq\n",
    "    except ChainParseError:\n",
    "            print(row[hid], row[lid])\n",
    "            return None"
   ]
  },
  {
   "cell_type": "code",
   "execution_count": 8,
   "id": "21c8d3f1-ae15-4485-8eed-718b0999dd5c",
   "metadata": {
    "scrolled": true
   },
   "outputs": [
    {
     "name": "stdout",
     "output_type": "stream",
     "text": [
      "INFO: Pandarallel will run on 24 workers.\n",
      "INFO: Pandarallel will use Memory file system to transfer data between the main process and workers.\n"
     ]
    },
    {
     "data": {
      "application/vnd.jupyter.widget-view+json": {
       "model_id": "3a10a84b51784defa6a2b374fe4beb18",
       "version_major": 2,
       "version_minor": 0
      },
      "text/plain": [
       "  0%|          | 0/11219 [00:00<?, ?it/s]"
      ]
     },
     "metadata": {},
     "output_type": "display_data"
    }
   ],
   "source": [
    "pandarallel.initialize(progress_bar=True)\n",
    "tqdm.pandas()\n",
    "covadab[['CDRH1', 'CDRH2', 'CDRH3', 'CDRL1', 'CDRL2', 'CDRL3']] = covadab.progress_apply(calc_cdrhl, axis=1, args=['VHorVHH', 'VL'], result_type='expand')"
   ]
  },
  {
   "cell_type": "code",
   "execution_count": 9,
   "id": "1b67363d-6c32-473b-be4c-d6c12d860050",
   "metadata": {},
   "outputs": [],
   "source": [
    "covadab.to_json(PurePath(datadir, outfname)) "
   ]
  }
 ],
 "metadata": {
  "kernelspec": {
   "display_name": "Python 3 (ipykernel)",
   "language": "python",
   "name": "python3"
  },
  "language_info": {
   "codemirror_mode": {
    "name": "ipython",
    "version": 3
   },
   "file_extension": ".py",
   "mimetype": "text/x-python",
   "name": "python",
   "nbconvert_exporter": "python",
   "pygments_lexer": "ipython3",
   "version": "3.8.19"
  }
 },
 "nbformat": 4,
 "nbformat_minor": 5
}
